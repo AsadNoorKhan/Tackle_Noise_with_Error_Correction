{
  "cells": [
    {
      "cell_type": "code",
      "source": [
        "!pip install qiskit==0.37.2"
      ],
      "metadata": {
        "id": "v4jBx34PHAKK"
      },
      "execution_count": null,
      "outputs": []
    },
    {
      "cell_type": "code",
      "execution_count": null,
      "metadata": {
        "colab": {
          "base_uri": "https://localhost:8080/"
        },
        "id": "ISlcwuj_G49_",
        "outputId": "19379772-f858-4d6f-8fd1-625ef300857c"
      },
      "outputs": [
        {
          "output_type": "stream",
          "name": "stdout",
          "text": [
            "Probability of a single reply being garbled: 0.01\n",
            "Probability of a the majority of three replies being garbled: 0.0003\n"
          ]
        }
      ],
      "source": [
        "p1 = 0.01\n",
        "p3 = 3 * p1**2 * (1-p1) + p1**3 # probability of 2 or 3 errors\n",
        "print('Probability of a single reply being garbled: {}'.format(p1))\n",
        "print('Probability of a the majority of three replies being garbled: {:.4f}'.format(p3))"
      ]
    },
    {
      "cell_type": "code",
      "execution_count": 84,
      "metadata": {
        "id": "X73mJQVjG4-C"
      },
      "outputs": [],
      "source": [
        "from qiskit.providers.aer.noise import NoiseModel\n",
        "from qiskit.providers.aer.noise.errors import pauli_error, depolarizing_error\n",
        "\n",
        "def get_noise(p_meas,p_gate):\n",
        "\n",
        "    error_meas = pauli_error([('X',p_meas), ('I', 1 - p_meas)])\n",
        "    error_gate1 = depolarizing_error(p_gate, 1)\n",
        "    error_gate2 = error_gate1.tensor(error_gate1)\n",
        "\n",
        "    noise_model = NoiseModel()\n",
        "    noise_model.add_all_qubit_quantum_error(error_meas, \"measure\") # measurement error is applied to measurements\n",
        "    noise_model.add_all_qubit_quantum_error(error_gate1, [\"x\"]) # single qubit gate error is applied to x gates\n",
        "    noise_model.add_all_qubit_quantum_error(error_gate2, [\"cx\"]) # two qubit gate error is applied to cx gates\n",
        "\n",
        "    return noise_model"
      ]
    },
    {
      "cell_type": "code",
      "execution_count": null,
      "metadata": {
        "id": "t38aItlMG4-D"
      },
      "outputs": [],
      "source": [
        "noise_model = get_noise(0.01,0.01)"
      ]
    },
    {
      "cell_type": "code",
      "execution_count": null,
      "metadata": {
        "colab": {
          "base_uri": "https://localhost:8080/"
        },
        "id": "KDOsb3uiG4-D",
        "outputId": "c7ae0e85-7fc1-4bd5-b517-b50bff16cddf"
      },
      "outputs": [
        {
          "output_type": "stream",
          "name": "stdout",
          "text": [
            "{'100': 12, '010': 15, '000': 984, '001': 13}\n"
          ]
        }
      ],
      "source": [
        "from qiskit import QuantumCircuit, execute, Aer\n",
        "\n",
        "qc0 = QuantumCircuit(3,3,name='0') # initialize circuit with three qubits in the 0 state\n",
        "\n",
        "qc0.measure(qc0.qregs[0],qc0.cregs[0]) # measure the qubits\n",
        "\n",
        "# run the circuit with th noise model and extract the counts\n",
        "counts = execute( qc0, Aer.get_backend('qasm_simulator'),noise_model=noise_model).result().get_counts()\n",
        "\n",
        "print(counts)"
      ]
    },
    {
      "cell_type": "code",
      "execution_count": null,
      "metadata": {
        "tags": [
          "sanity-check"
        ],
        "id": "ozVYcKlyG4-E"
      },
      "outputs": [],
      "source": [
        "# ...almost all results still come out '000',...\n",
        "assert counts['000'] > sum(counts.values())*0.95"
      ]
    },
    {
      "cell_type": "code",
      "execution_count": null,
      "metadata": {
        "colab": {
          "base_uri": "https://localhost:8080/"
        },
        "id": "lc12d6YOG4-E",
        "outputId": "4483cb86-d9a2-4869-b0cf-5069b136297a"
      },
      "outputs": [
        {
          "output_type": "stream",
          "name": "stdout",
          "text": [
            "{'010': 1, '110': 12, '101': 16, '011': 12, '111': 983}\n"
          ]
        }
      ],
      "source": [
        "qc1 = QuantumCircuit(3, 3, name='0') # initialize circuit with three qubits in the 0 state\n",
        "qc1.x(qc1.qregs[0]) # flip each 0 to 1\n",
        "\n",
        "qc1.measure(qc1.qregs[0],qc1.cregs[0]) # measure the qubits\n",
        "\n",
        "# run the circuit with th noise model and extract the counts\n",
        "counts = execute(qc1, Aer.get_backend('qasm_simulator'),noise_model=noise_model).result().get_counts()\n",
        "\n",
        "print(counts)"
      ]
    },
    {
      "cell_type": "code",
      "execution_count": null,
      "metadata": {
        "tags": [
          "sanity-check"
        ],
        "id": "Qra5jsaBG4-F"
      },
      "outputs": [],
      "source": [
        "# ...number of samples that come out with a majority in the wrong state\n",
        "# (0 in this case) is again much less than 10,...\n",
        "assert counts.get('000', 0) < 10"
      ]
    },
    {
      "cell_type": "code",
      "execution_count": null,
      "metadata": {
        "colab": {
          "base_uri": "https://localhost:8080/"
        },
        "id": "yS7Z3-nHG4-F",
        "outputId": "f42e93f2-75b7-4052-db39-6b587c3039e9"
      },
      "outputs": [
        {
          "output_type": "stream",
          "name": "stdout",
          "text": [
            "{'110': 124, '000': 128, '010': 110, '001': 149, '111': 148, '011': 108, '101': 133, '100': 124}\n"
          ]
        }
      ],
      "source": [
        "noise_model = get_noise(0.5,0.0)\n",
        "counts = execute(qc1, Aer.get_backend('qasm_simulator'),noise_model=noise_model).result().get_counts()\n",
        "print(counts)"
      ]
    },
    {
      "cell_type": "code",
      "execution_count": null,
      "metadata": {
        "tags": [
          "sanity-check"
        ],
        "id": "EH-AP_QCG4-F"
      },
      "outputs": [],
      "source": [
        "# ...all outcomes occur with equal probability, with\n",
        "# differences in results being due only to statistical noise.\n",
        "assert max(counts.values()) < 200"
      ]
    },
    {
      "cell_type": "code",
      "execution_count": null,
      "metadata": {
        "colab": {
          "base_uri": "https://localhost:8080/",
          "height": 156
        },
        "id": "qqobeY0vG4-H",
        "outputId": "81f1c93c-68e0-4852-e0b3-8542f5a798c2"
      },
      "outputs": [
        {
          "output_type": "execute_result",
          "data": {
            "text/plain": [
              "                             \n",
              "  code_qubit_0: ──■──────────\n",
              "                  │          \n",
              "  code_qubit_1: ──┼────■─────\n",
              "                ┌─┴─┐┌─┴─┐┌─┐\n",
              " ancilla_qubit: ┤ X ├┤ X ├┤M├\n",
              "                └───┘└───┘└╥┘\n",
              "syndrome_bit: 1/═══════════╩═\n",
              "                           0 "
            ],
            "text/html": [
              "<pre style=\"word-wrap: normal;white-space: pre;background: #fff0;line-height: 1.1;font-family: &quot;Courier New&quot;,Courier,monospace\">                             \n",
              "  code_qubit_0: ──■──────────\n",
              "                  │          \n",
              "  code_qubit_1: ──┼────■─────\n",
              "                ┌─┴─┐┌─┴─┐┌─┐\n",
              " ancilla_qubit: ┤ X ├┤ X ├┤M├\n",
              "                └───┘└───┘└╥┘\n",
              "syndrome_bit: 1/═══════════╩═\n",
              "                           0 </pre>"
            ]
          },
          "metadata": {},
          "execution_count": 11
        }
      ],
      "source": [
        "from qiskit import QuantumRegister, ClassicalRegister\n",
        "\n",
        "cq = QuantumRegister(2, 'code_qubit')\n",
        "lq = QuantumRegister(1, 'ancilla_qubit')\n",
        "sb = ClassicalRegister(1, 'syndrome_bit')\n",
        "qc = QuantumCircuit(cq, lq, sb)\n",
        "qc.cx(cq[0], lq[0])\n",
        "qc.cx(cq[1], lq[0])\n",
        "qc.measure(lq, sb)\n",
        "qc.draw()"
      ]
    },
    {
      "cell_type": "code",
      "execution_count": null,
      "metadata": {
        "colab": {
          "base_uri": "https://localhost:8080/",
          "height": 156
        },
        "id": "6xihFKviG4-H",
        "outputId": "8ce9533a-2b4c-442e-fa9a-a3b669c4317c"
      },
      "outputs": [
        {
          "output_type": "execute_result",
          "data": {
            "text/plain": [
              "                             \n",
              "  code_qubit_0: ──■──────────\n",
              "                  │          \n",
              "  code_qubit_1: ──┼────■─────\n",
              "                ┌─┴─┐┌─┴─┐┌─┐\n",
              " ancilla_qubit: ┤ X ├┤ X ├┤M├\n",
              "                └───┘└───┘└╥┘\n",
              "syndrome_bit: 1/═══════════╩═\n",
              "                           0 "
            ],
            "text/html": [
              "<pre style=\"word-wrap: normal;white-space: pre;background: #fff0;line-height: 1.1;font-family: &quot;Courier New&quot;,Courier,monospace\">                             \n",
              "  code_qubit_0: ──■──────────\n",
              "                  │          \n",
              "  code_qubit_1: ──┼────■─────\n",
              "                ┌─┴─┐┌─┴─┐┌─┐\n",
              " ancilla_qubit: ┤ X ├┤ X ├┤M├\n",
              "                └───┘└───┘└╥┘\n",
              "syndrome_bit: 1/═══════════╩═\n",
              "                           0 </pre>"
            ]
          },
          "metadata": {},
          "execution_count": 12
        }
      ],
      "source": [
        "qc_init = QuantumCircuit(cq, lq, sb)\n",
        "\n",
        "qc_init.compose(qc).draw()"
      ]
    },
    {
      "cell_type": "code",
      "execution_count": null,
      "metadata": {
        "colab": {
          "base_uri": "https://localhost:8080/"
        },
        "id": "t6c13PG0G4-I",
        "outputId": "e735c190-8861-4972-f43e-7764f3801798"
      },
      "outputs": [
        {
          "output_type": "stream",
          "name": "stdout",
          "text": [
            "Results: {'0': 1024}\n"
          ]
        }
      ],
      "source": [
        "counts = execute(qc_init.compose(qc), Aer.get_backend('qasm_simulator')).result().get_counts()\n",
        "print('Results:', counts)"
      ]
    },
    {
      "cell_type": "code",
      "execution_count": null,
      "metadata": {
        "tags": [
          "sanity-check"
        ],
        "id": "oEJLr9bXG4-I"
      },
      "outputs": [],
      "source": [
        "# The outcome, in all cases, is 0.\n",
        "assert list(counts.keys()) == ['0']"
      ]
    },
    {
      "cell_type": "markdown",
      "metadata": {
        "id": "UXxOdPqpG4-I"
      },
      "source": [
        "The outcome, in all cases, is `0`.\n",
        "\n",
        "Now let's try an initial state of $\\left|11\\right\\rangle$."
      ]
    },
    {
      "cell_type": "code",
      "execution_count": null,
      "metadata": {
        "colab": {
          "base_uri": "https://localhost:8080/",
          "height": 156
        },
        "id": "C6IjxAK2G4-J",
        "outputId": "5d6efd34-bc95-44f3-bbf1-adea406b30f4"
      },
      "outputs": [
        {
          "output_type": "execute_result",
          "data": {
            "text/plain": [
              "                ┌───┐             \n",
              "  code_qubit_0: ┤ X ├──■──────────\n",
              "                ├───┤  │          \n",
              "  code_qubit_1: ┤ X ├──┼────■─────\n",
              "                └───┘┌─┴─┐┌─┴─┐┌─┐\n",
              " ancilla_qubit: ─────┤ X ├┤ X ├┤M├\n",
              "                     └───┘└───┘└╥┘\n",
              "syndrome_bit: 1/════════════════╩═\n",
              "                                0 "
            ],
            "text/html": [
              "<pre style=\"word-wrap: normal;white-space: pre;background: #fff0;line-height: 1.1;font-family: &quot;Courier New&quot;,Courier,monospace\">                ┌───┐             \n",
              "  code_qubit_0: ┤ X ├──■──────────\n",
              "                ├───┤  │          \n",
              "  code_qubit_1: ┤ X ├──┼────■─────\n",
              "                └───┘┌─┴─┐┌─┴─┐┌─┐\n",
              " ancilla_qubit: ─────┤ X ├┤ X ├┤M├\n",
              "                     └───┘└───┘└╥┘\n",
              "syndrome_bit: 1/════════════════╩═\n",
              "                                0 </pre>"
            ]
          },
          "metadata": {},
          "execution_count": 15
        }
      ],
      "source": [
        "qc_init = QuantumCircuit(cq, lq, sb)\n",
        "qc_init.x(cq)\n",
        "\n",
        "qc_init.compose(qc).draw()"
      ]
    },
    {
      "cell_type": "code",
      "execution_count": null,
      "metadata": {
        "colab": {
          "base_uri": "https://localhost:8080/"
        },
        "id": "iq2zI757G4-J",
        "outputId": "1a2e7c5e-e55b-4d6c-e3cb-22e5479b8070"
      },
      "outputs": [
        {
          "output_type": "stream",
          "name": "stdout",
          "text": [
            "Results: {'0': 1024}\n"
          ]
        }
      ],
      "source": [
        "counts = execute(qc_init.compose(qc), Aer.get_backend('qasm_simulator')).result().get_counts()\n",
        "print('Results:', counts)"
      ]
    },
    {
      "cell_type": "code",
      "execution_count": null,
      "metadata": {
        "tags": [
          "sanity-check"
        ],
        "id": "0q1aRfGWG4-J"
      },
      "outputs": [],
      "source": [
        "# The outcome in this case is also always 0.\n",
        "assert list(counts.keys()) == ['0']"
      ]
    },
    {
      "cell_type": "code",
      "execution_count": null,
      "metadata": {
        "colab": {
          "base_uri": "https://localhost:8080/",
          "height": 156
        },
        "id": "n-18AL5DG4-K",
        "outputId": "eb6d4726-3730-47c9-c6e0-f901ae2b1481"
      },
      "outputs": [
        {
          "output_type": "execute_result",
          "data": {
            "text/plain": [
              "                ┌───┐                  \n",
              "  code_qubit_0: ┤ H ├──■────■──────────\n",
              "                └───┘┌─┴─┐  │          \n",
              "  code_qubit_1: ─────┤ X ├──┼────■─────\n",
              "                     └───┘┌─┴─┐┌─┴─┐┌─┐\n",
              " ancilla_qubit: ──────────┤ X ├┤ X ├┤M├\n",
              "                          └───┘└───┘└╥┘\n",
              "syndrome_bit: 1/═════════════════════╩═\n",
              "                                     0 "
            ],
            "text/html": [
              "<pre style=\"word-wrap: normal;white-space: pre;background: #fff0;line-height: 1.1;font-family: &quot;Courier New&quot;,Courier,monospace\">                ┌───┐                  \n",
              "  code_qubit_0: ┤ H ├──■────■──────────\n",
              "                └───┘┌─┴─┐  │          \n",
              "  code_qubit_1: ─────┤ X ├──┼────■─────\n",
              "                     └───┘┌─┴─┐┌─┴─┐┌─┐\n",
              " ancilla_qubit: ──────────┤ X ├┤ X ├┤M├\n",
              "                          └───┘└───┘└╥┘\n",
              "syndrome_bit: 1/═════════════════════╩═\n",
              "                                     0 </pre>"
            ]
          },
          "metadata": {},
          "execution_count": 18
        }
      ],
      "source": [
        "qc_init = QuantumCircuit(cq, lq, sb)\n",
        "qc_init.h(cq[0])\n",
        "qc_init.cx(cq[0], cq[1])\n",
        "\n",
        "qc_init.compose(qc).draw()"
      ]
    },
    {
      "cell_type": "code",
      "execution_count": null,
      "metadata": {
        "colab": {
          "base_uri": "https://localhost:8080/"
        },
        "id": "NHVmdgkNG4-K",
        "outputId": "c13ada09-5080-447c-aa8a-81e0d04183e1"
      },
      "outputs": [
        {
          "output_type": "stream",
          "name": "stdout",
          "text": [
            "Results: {'0': 1024}\n"
          ]
        }
      ],
      "source": [
        "counts = execute(qc_init.compose(qc), Aer.get_backend('qasm_simulator')).result().get_counts()\n",
        "print('Results:', counts)"
      ]
    },
    {
      "cell_type": "code",
      "execution_count": null,
      "metadata": {
        "tags": [
          "sanity-check"
        ],
        "id": "NVrMzi1hG4-K"
      },
      "outputs": [],
      "source": [
        "# ...we can expect the same to be true also for\n",
        "# any superposition of |00⟩ and |11⟩...\n",
        "assert list(counts.keys()) == ['0']"
      ]
    },
    {
      "cell_type": "markdown",
      "metadata": {
        "id": "7_SU7OZoG4-L"
      },
      "source": [
        "The opposite outcome will be found for an initial state of $\\left|01\\right\\rangle$, $\\left|10\\right\\rangle$ or any superposition thereof."
      ]
    },
    {
      "cell_type": "code",
      "execution_count": null,
      "metadata": {
        "colab": {
          "base_uri": "https://localhost:8080/",
          "height": 156
        },
        "id": "bvTmg852G4-L",
        "outputId": "bff62433-152d-4a90-d64d-69b47801dbb7"
      },
      "outputs": [
        {
          "output_type": "execute_result",
          "data": {
            "text/plain": [
              "                ┌───┐     ┌───┐             \n",
              "  code_qubit_0: ┤ H ├──■──┤ X ├──■──────────\n",
              "                └───┘┌─┴─┐└───┘  │          \n",
              "  code_qubit_1: ─────┤ X ├───────┼────■─────\n",
              "                     └───┘     ┌─┴─┐┌─┴─┐┌─┐\n",
              " ancilla_qubit: ───────────────┤ X ├┤ X ├┤M├\n",
              "                               └───┘└───┘└╥┘\n",
              "syndrome_bit: 1/══════════════════════════╩═\n",
              "                                          0 "
            ],
            "text/html": [
              "<pre style=\"word-wrap: normal;white-space: pre;background: #fff0;line-height: 1.1;font-family: &quot;Courier New&quot;,Courier,monospace\">                ┌───┐     ┌───┐             \n",
              "  code_qubit_0: ┤ H ├──■──┤ X ├──■──────────\n",
              "                └───┘┌─┴─┐└───┘  │          \n",
              "  code_qubit_1: ─────┤ X ├───────┼────■─────\n",
              "                     └───┘     ┌─┴─┐┌─┴─┐┌─┐\n",
              " ancilla_qubit: ───────────────┤ X ├┤ X ├┤M├\n",
              "                               └───┘└───┘└╥┘\n",
              "syndrome_bit: 1/══════════════════════════╩═\n",
              "                                          0 </pre>"
            ]
          },
          "metadata": {},
          "execution_count": 21
        }
      ],
      "source": [
        "qc_init = QuantumCircuit(cq, lq, sb)\n",
        "qc_init.h(cq[0])\n",
        "qc_init.cx(cq[0],cq[1])\n",
        "qc_init.x(cq[0])\n",
        "\n",
        "qc_init.compose(qc).draw()"
      ]
    },
    {
      "cell_type": "code",
      "execution_count": null,
      "metadata": {
        "colab": {
          "base_uri": "https://localhost:8080/"
        },
        "id": "4ZGsL_YqG4-M",
        "outputId": "643b00dc-46c7-42bc-9cc4-4ec011753c10"
      },
      "outputs": [
        {
          "output_type": "stream",
          "name": "stdout",
          "text": [
            "Results: {'1': 1024}\n"
          ]
        }
      ],
      "source": [
        "counts = execute(qc_init.compose(qc), Aer.get_backend('qasm_simulator')).result().get_counts()\n",
        "print('Results:',counts)"
      ]
    },
    {
      "cell_type": "code",
      "execution_count": null,
      "metadata": {
        "tags": [
          "sanity-check"
        ],
        "id": "EIva7tNuG4-M"
      },
      "outputs": [],
      "source": [
        "# In such cases the output is always '1'.\n",
        "assert list(counts.keys()) == ['1']"
      ]
    },
    {
      "cell_type": "code",
      "source": [
        "!pip install git+https://github.com/NCCR-SPIN/topological_codes.git"
      ],
      "metadata": {
        "id": "tVf5WPvcH0bs"
      },
      "execution_count": null,
      "outputs": []
    },
    {
      "cell_type": "code",
      "execution_count": null,
      "metadata": {
        "id": "Y9k9CBX-G4-S"
      },
      "outputs": [],
      "source": [
        "from topological_codes import RepetitionCode\n",
        "from topological_codes import lookuptable_decoding\n",
        "from topological_codes import GraphDecoder"
      ]
    },
    {
      "cell_type": "code",
      "execution_count": null,
      "metadata": {
        "id": "vkxsapIeG4-S"
      },
      "outputs": [],
      "source": [
        "n = 3\n",
        "T = 1\n",
        "\n",
        "code = RepetitionCode(n, T)"
      ]
    },
    {
      "cell_type": "code",
      "execution_count": null,
      "metadata": {
        "colab": {
          "base_uri": "https://localhost:8080/",
          "height": 263
        },
        "id": "Pi1orrnPG4-T",
        "outputId": "7de0d948-6cc5-4635-82d6-8e268f563896"
      },
      "outputs": [
        {
          "output_type": "execute_result",
          "data": {
            "text/plain": [
              "                      ┌───┐     ┌───┐        ┌─┐         \n",
              "      link_qubit_0_0: ┤ X ├─────┤ X ├────────┤M├─────────\n",
              "                      └─┬─┘┌───┐└─┬─┘┌───┐   └╥┘┌─┐      \n",
              "      link_qubit_0_1: ──┼──┤ X ├──┼──┤ X ├────╫─┤M├──────\n",
              "                        │  └─┬─┘  │  └─┬─┘┌─┐ ║ └╥┘      \n",
              "      code_qubit_0_0: ──■────┼────┼────┼──┤M├─╫──╫───────\n",
              "                             │    │    │  └╥┘ ║  ║ ┌─┐   \n",
              "      code_qubit_0_1: ───────■────■────┼───╫──╫──╫─┤M├───\n",
              "                                       │   ║  ║  ║ └╥┘┌─┐\n",
              "      code_qubit_0_2: ─────────────────■───╫──╫──╫──╫─┤M├\n",
              "                                           ║  ║  ║  ║ └╥┘\n",
              "round_0_link_bit_0: 2/═════════════════════╬══╩══╩══╬══╬═\n",
              "                                           ║  0  1  ║  ║ \n",
              "                                           ║        ║  ║ \n",
              "        code_bit_0: 3/═════════════════════╩════════╩══╩═\n",
              "                                           0        1  2 "
            ],
            "text/html": [
              "<pre style=\"word-wrap: normal;white-space: pre;background: #fff0;line-height: 1.1;font-family: &quot;Courier New&quot;,Courier,monospace\">                      ┌───┐     ┌───┐        ┌─┐         \n",
              "      link_qubit_0_0: ┤ X ├─────┤ X ├────────┤M├─────────\n",
              "                      └─┬─┘┌───┐└─┬─┘┌───┐   └╥┘┌─┐      \n",
              "      link_qubit_0_1: ──┼──┤ X ├──┼──┤ X ├────╫─┤M├──────\n",
              "                        │  └─┬─┘  │  └─┬─┘┌─┐ ║ └╥┘      \n",
              "      code_qubit_0_0: ──■────┼────┼────┼──┤M├─╫──╫───────\n",
              "                             │    │    │  └╥┘ ║  ║ ┌─┐   \n",
              "      code_qubit_0_1: ───────■────■────┼───╫──╫──╫─┤M├───\n",
              "                                       │   ║  ║  ║ └╥┘┌─┐\n",
              "      code_qubit_0_2: ─────────────────■───╫──╫──╫──╫─┤M├\n",
              "                                           ║  ║  ║  ║ └╥┘\n",
              "round_0_link_bit_0: 2/═════════════════════╬══╩══╩══╬══╬═\n",
              "                                           ║  0  1  ║  ║ \n",
              "                                           ║        ║  ║ \n",
              "        code_bit_0: 3/═════════════════════╩════════╩══╩═\n",
              "                                           0        1  2 </pre>"
            ]
          },
          "metadata": {},
          "execution_count": 28
        }
      ],
      "source": [
        "code.circuit['0'].draw()"
      ]
    },
    {
      "cell_type": "code",
      "execution_count": null,
      "metadata": {
        "colab": {
          "base_uri": "https://localhost:8080/",
          "height": 263
        },
        "id": "BVmNqeYiG4-T",
        "outputId": "a292c741-4dd8-40e1-d5d0-59b94894607a"
      },
      "outputs": [
        {
          "output_type": "execute_result",
          "data": {
            "text/plain": [
              "                           ┌───┐     ┌───┐        ┌─┐         \n",
              "      link_qubit_0_0: ─────┤ X ├─────┤ X ├────────┤M├─────────\n",
              "                           └─┬─┘┌───┐└─┬─┘┌───┐   └╥┘┌─┐      \n",
              "      link_qubit_0_1: ───────┼──┤ X ├──┼──┤ X ├────╫─┤M├──────\n",
              "                      ┌───┐  │  └─┬─┘  │  └─┬─┘┌─┐ ║ └╥┘      \n",
              "      code_qubit_0_0: ┤ X ├──■────┼────┼────┼──┤M├─╫──╫───────\n",
              "                      ├───┤       │    │    │  └╥┘ ║  ║ ┌─┐   \n",
              "      code_qubit_0_1: ┤ X ├───────■────■────┼───╫──╫──╫─┤M├───\n",
              "                      ├───┤                 │   ║  ║  ║ └╥┘┌─┐\n",
              "      code_qubit_0_2: ┤ X ├─────────────────■───╫──╫──╫──╫─┤M├\n",
              "                      └───┘                     ║  ║  ║  ║ └╥┘\n",
              "round_0_link_bit_0: 2/══════════════════════════╬══╩══╩══╬══╬═\n",
              "                                                ║  0  1  ║  ║ \n",
              "                                                ║        ║  ║ \n",
              "        code_bit_0: 3/══════════════════════════╩════════╩══╩═\n",
              "                                                0        1  2 "
            ],
            "text/html": [
              "<pre style=\"word-wrap: normal;white-space: pre;background: #fff0;line-height: 1.1;font-family: &quot;Courier New&quot;,Courier,monospace\">                           ┌───┐     ┌───┐        ┌─┐         \n",
              "      link_qubit_0_0: ─────┤ X ├─────┤ X ├────────┤M├─────────\n",
              "                           └─┬─┘┌───┐└─┬─┘┌───┐   └╥┘┌─┐      \n",
              "      link_qubit_0_1: ───────┼──┤ X ├──┼──┤ X ├────╫─┤M├──────\n",
              "                      ┌───┐  │  └─┬─┘  │  └─┬─┘┌─┐ ║ └╥┘      \n",
              "      code_qubit_0_0: ┤ X ├──■────┼────┼────┼──┤M├─╫──╫───────\n",
              "                      ├───┤       │    │    │  └╥┘ ║  ║ ┌─┐   \n",
              "      code_qubit_0_1: ┤ X ├───────■────■────┼───╫──╫──╫─┤M├───\n",
              "                      ├───┤                 │   ║  ║  ║ └╥┘┌─┐\n",
              "      code_qubit_0_2: ┤ X ├─────────────────■───╫──╫──╫──╫─┤M├\n",
              "                      └───┘                     ║  ║  ║  ║ └╥┘\n",
              "round_0_link_bit_0: 2/══════════════════════════╬══╩══╩══╬══╬═\n",
              "                                                ║  0  1  ║  ║ \n",
              "                                                ║        ║  ║ \n",
              "        code_bit_0: 3/══════════════════════════╩════════╩══╩═\n",
              "                                                0        1  2 </pre>"
            ]
          },
          "metadata": {},
          "execution_count": 29
        }
      ],
      "source": [
        "code.circuit['1'].draw()"
      ]
    },
    {
      "cell_type": "code",
      "execution_count": null,
      "metadata": {
        "scrolled": false,
        "colab": {
          "base_uri": "https://localhost:8080/"
        },
        "id": "yfGZziRGG4-U",
        "outputId": "211e1b88-82d1-4c0c-cf12-d1ce48492efe"
      },
      "outputs": [
        {
          "output_type": "stream",
          "name": "stdout",
          "text": [
            "Logical 0: {'000 00': 1024}\n",
            "Logical 1: {'111 00': 1024}\n"
          ]
        }
      ],
      "source": [
        "def get_raw_results(code,noise_model=None):\n",
        "    circuits = code.get_circuit_list()\n",
        "    raw_results = {}\n",
        "    for log in range(2):\n",
        "        job = execute( circuits[log], Aer.get_backend('qasm_simulator'), noise_model=noise_model)\n",
        "        raw_results[str(log)] = job.result().get_counts(str(log))\n",
        "    return raw_results\n",
        "\n",
        "raw_results = get_raw_results(code)\n",
        "for log in raw_results:\n",
        "    print(f'Logical {log}: {raw_results[log]}')"
      ]
    },
    {
      "cell_type": "code",
      "execution_count": null,
      "metadata": {
        "colab": {
          "base_uri": "https://localhost:8080/"
        },
        "id": "m6R-G00RG4-U",
        "outputId": "440ce7d3-fe3a-46a8-d3a3-58267bcbceab"
      },
      "outputs": [
        {
          "output_type": "stream",
          "name": "stdout",
          "text": [
            "Logical 0: {'000 00 00 00 00': 1024}\n",
            "Logical 1: {'111 00 00 00 00': 1024}\n"
          ]
        }
      ],
      "source": [
        "code = RepetitionCode(n, 4)\n",
        "\n",
        "raw_results = get_raw_results(code)\n",
        "for log in raw_results:\n",
        "    print(f'Logical {log}: {raw_results[log]}')"
      ]
    },
    {
      "cell_type": "code",
      "execution_count": null,
      "metadata": {
        "colab": {
          "base_uri": "https://localhost:8080/"
        },
        "id": "4u72UcIYG4-V",
        "outputId": "4510a9ee-bcdd-4f9a-f13a-4796d94eef4d"
      },
      "outputs": [
        {
          "output_type": "stream",
          "name": "stdout",
          "text": [
            "Logical 0: {'00000 0000 0000 0000 0000': 1024}\n",
            "Logical 1: {'11111 0000 0000 0000 0000': 1024}\n"
          ]
        }
      ],
      "source": [
        "code = RepetitionCode(5, 4)\n",
        "\n",
        "raw_results = get_raw_results(code)\n",
        "for log in raw_results:\n",
        "    print(f'Logical {log}: {raw_results[log]}')"
      ]
    },
    {
      "cell_type": "code",
      "execution_count": null,
      "metadata": {
        "scrolled": true,
        "colab": {
          "base_uri": "https://localhost:8080/"
        },
        "id": "uKQdN29UG4-V",
        "outputId": "237a8586-7a58-4bc5-855e-bd0cfa26d66d"
      },
      "outputs": [
        {
          "output_type": "stream",
          "name": "stdout",
          "text": [
            "Logical 0: {'110 00': 2, '110 01': 1, '010 11': 1, '000 11': 9, '100 11': 1, '011 00': 3, '000 00': 641, '000 10': 58, '100 00': 48, '001 00': 56, '101 00': 10, '100 01': 9, '001 01': 9, '010 01': 31, '010 00': 49, '001 10': 8, '010 10': 8, '111 00': 2, '000 01': 72, '100 10': 6}\n",
            "\n",
            "Logical 1: {'100 11': 1, '010 10': 3, '101 10': 7, '001 11': 4, '011 01': 7, '010 00': 1, '001 10': 4, '110 01': 22, '101 00': 40, '111 01': 78, '011 10': 16, '111 00': 600, '101 01': 22, '101 11': 21, '011 00': 49, '110 00': 50, '111 11': 9, '001 00': 3, '111 10': 75, '100 01': 3, '001 01': 3, '010 01': 2, '110 10': 4}\n",
            "\n"
          ]
        }
      ],
      "source": [
        "code = RepetitionCode(3, 1)\n",
        "\n",
        "noise_model = get_noise(0.05, 0.05)\n",
        "\n",
        "raw_results = get_raw_results(code,noise_model)\n",
        "for log in raw_results:\n",
        "    print(f'Logical {log}: {raw_results[log]}\\n')"
      ]
    },
    {
      "cell_type": "code",
      "execution_count": null,
      "metadata": {
        "id": "WuBu6yw6G4-W"
      },
      "outputs": [],
      "source": [
        "circuits = code.get_circuit_list()\n",
        "table_results = {}\n",
        "for log in range(2):\n",
        "    job = execute( circuits[log], Aer.get_backend('qasm_simulator'), noise_model=noise_model, shots=10000 )\n",
        "    table_results[str(log)] = job.result().get_counts(str(log))"
      ]
    },
    {
      "cell_type": "code",
      "execution_count": null,
      "metadata": {
        "colab": {
          "base_uri": "https://localhost:8080/"
        },
        "id": "FRlHhADoG4-W",
        "outputId": "7da70e66-5245-4b72-f159-031a4d5889a7"
      },
      "outputs": [
        {
          "output_type": "stream",
          "name": "stdout",
          "text": [
            "P = {'0': 0.0151, '1': 0.0262}\n"
          ]
        }
      ],
      "source": [
        "P = lookuptable_decoding(raw_results, table_results)\n",
        "print('P =', P)"
      ]
    },
    {
      "cell_type": "code",
      "execution_count": null,
      "metadata": {
        "colab": {
          "base_uri": "https://localhost:8080/"
        },
        "id": "Y8LynLmWG4-X",
        "outputId": "82d53be1-dbe1-41e0-bc5c-7d824f24fa57"
      },
      "outputs": [
        {
          "output_type": "stream",
          "name": "stdout",
          "text": [
            "\n",
            "Logical 0:\n",
            "raw results        {'000 00 00': 450, '000 01 00': 63, '000 10 10': 59}\n",
            "processed results  {'0 0  00 00 00': 450, '0 0  00 01 01': 63, '0 0  10 10 00': 59}\n",
            "\n",
            "Logical 1:\n",
            "raw results        {'111 00 00': 451, '111 10 10': 53, '111 01 01': 52}\n",
            "processed results  {'1 1  00 00 00': 451, '1 1  10 10 00': 53, '1 1  01 01 00': 52}\n"
          ]
        }
      ],
      "source": [
        "code = RepetitionCode(3, 2)\n",
        "\n",
        "raw_results = get_raw_results(code, noise_model)\n",
        "\n",
        "results = code.process_results(raw_results)\n",
        "\n",
        "for log in ['0', '1']:\n",
        "    print(f'\\nLogical {log}:')\n",
        "    print('raw results       ', {string:raw_results[log][string] for string in raw_results[log] if raw_results[log][string]>=50 })\n",
        "    print('processed results ', {string:results[log][string] for string in results[log] if results[log][string]>=50 })"
      ]
    },
    {
      "cell_type": "code",
      "execution_count": null,
      "metadata": {
        "id": "CFt2I7H6G4-Y"
      },
      "outputs": [],
      "source": [
        "step_2 = False\n",
        "step_3 = False"
      ]
    },
    {
      "cell_type": "code",
      "execution_count": null,
      "metadata": {
        "tags": [
          "uses-hardware"
        ],
        "id": "OgoFipTxG4-Y"
      },
      "outputs": [],
      "source": [
        "from qiskit import IBMQ\n",
        "from qiskit.compiler import transpile\n",
        "from qiskit.transpiler import PassManager"
      ]
    },
    {
      "cell_type": "code",
      "execution_count": null,
      "metadata": {
        "tags": [
          "uses-hardware"
        ],
        "id": "8ibGme_9G4-Y"
      },
      "outputs": [],
      "source": [
        "device_name = 'ibmq_16_melbourne'\n",
        "\n",
        "if step_2:\n",
        "\n",
        "    IBMQ.load_account()\n",
        "\n",
        "    for provider in IBMQ.providers():\n",
        "        for potential_backend in provider.backends():\n",
        "            if potential_backend.name()==device_name:\n",
        "                backend = potential_backend\n",
        "\n",
        "    coupling_map = backend.configuration().coupling_map"
      ]
    },
    {
      "cell_type": "code",
      "execution_count": null,
      "metadata": {
        "tags": [
          "uses-hardware"
        ],
        "id": "K0IAPa0rG4-Z"
      },
      "outputs": [],
      "source": [
        "if device_name=='ibmq_16_melbourne':\n",
        "    line = [13,14,0,1,2,12,11,3,4,10,9,5,6,8,7]\n",
        "elif device_name=='ibmq_rochester':\n",
        "    line = [10,11,17,23,22,21,20,19,16,7,8,9,5]#,0,1,2,3,4,6,13,14,15,18,27,26,25,29,36,37,38,41,50,49,48,47,46,45,44,43,42,39,30,31]"
      ]
    },
    {
      "cell_type": "code",
      "execution_count": null,
      "metadata": {
        "tags": [
          "uses-hardware"
        ],
        "id": "JEL6DelkG4-Z"
      },
      "outputs": [],
      "source": [
        "n_min = 3\n",
        "n_max = int((len(line)+1)/2)\n",
        "\n",
        "code = {}\n",
        "\n",
        "for n in range(n_min,n_max+1):\n",
        "    code[n] = RepetitionCode(n,1)"
      ]
    },
    {
      "cell_type": "code",
      "execution_count": null,
      "metadata": {
        "tags": [
          "uses-hardware"
        ],
        "id": "90p4nA6rG4-a"
      },
      "outputs": [],
      "source": [
        "def get_initial_layout(code,line):\n",
        "    initial_layout = {}\n",
        "    for j in range(n):\n",
        "        initial_layout[code.code_qubit[j]] = line[2*j]\n",
        "    for j in range(n-1):\n",
        "        initial_layout[code.link_qubit[j]] = line[2*j+1]\n",
        "    return initial_layout"
      ]
    },
    {
      "cell_type": "code",
      "execution_count": null,
      "metadata": {
        "tags": [
          "uses-hardware"
        ],
        "id": "Vt1WbEzNG4-a"
      },
      "outputs": [],
      "source": [
        "if step_2:\n",
        "\n",
        "    circuits = []\n",
        "    for n in range(n_min,n_max+1):\n",
        "        initial_layout = get_initial_layout(code[n],line)\n",
        "        for log in ['0','1']:\n",
        "            circuits.append( transpile(code[n].circuit[log], backend=backend, initial_layout=initial_layout) )\n",
        "            num_cx = dict(circuits[-1].count_ops())['cx']\n",
        "            assert num_cx==2*(n-1), str(num_cx) + ' instead of ' + str(2*(n-1)) + ' cx gates for n = ' + str(n)"
      ]
    },
    {
      "cell_type": "code",
      "execution_count": null,
      "metadata": {
        "tags": [
          "uses-hardware"
        ],
        "id": "KwL38x09G4-a"
      },
      "outputs": [],
      "source": [
        "if step_2:\n",
        "\n",
        "    job = execute(circuits,backend,shots=8192)\n",
        "\n",
        "    raw_results = {}\n",
        "    j = 0\n",
        "    for d in range(n_min,n_max+1):\n",
        "        raw_results[d] = {}\n",
        "        for log in ['0','1']:\n",
        "            raw_results[d][log] = job.result().get_counts(j)\n",
        "            j += 1"
      ]
    },
    {
      "cell_type": "code",
      "execution_count": null,
      "metadata": {
        "tags": [
          "uses-hardware"
        ],
        "id": "Y7h_sjGTG4-b"
      },
      "outputs": [],
      "source": [
        "if step_2: # save results\n",
        "    with open('results/raw_results_'+device_name+'.txt', 'w') as file:\n",
        "        file.write(str(raw_results))\n",
        "elif step_3: # read results\n",
        "    with open('results/raw_results_'+device_name+'.txt', 'r') as file:\n",
        "        raw_results = eval(file.read())"
      ]
    },
    {
      "cell_type": "code",
      "execution_count": null,
      "metadata": {
        "tags": [
          "uses-hardware"
        ],
        "id": "5iS7WFJjG4-b"
      },
      "outputs": [],
      "source": [
        "if step_3:\n",
        "    results = {}\n",
        "    for n in range(n_min,n_max+1):\n",
        "        results[n] = code[n].process_results( raw_results[n] )"
      ]
    },
    {
      "cell_type": "code",
      "execution_count": null,
      "metadata": {
        "tags": [
          "uses-hardware"
        ],
        "id": "e1c739XQG4-c"
      },
      "outputs": [],
      "source": [
        "if step_3:\n",
        "    dec = {}\n",
        "    for n in range(n_min,n_max+1):\n",
        "        dec[n] = GraphDecoder(code[n])"
      ]
    },
    {
      "cell_type": "code",
      "execution_count": null,
      "metadata": {
        "tags": [
          "uses-hardware"
        ],
        "id": "js7iCyjAG4-c"
      },
      "outputs": [],
      "source": [
        "if step_3:\n",
        "\n",
        "    logical_prob_match = {}\n",
        "    for n in range(n_min,n_max+1):\n",
        "        logical_prob_match[n] = dec[n].get_logical_prob(results[n])\n",
        "\n",
        "    with open('./logical_prob_match_'+device_name+'.txt', 'w') as file:\n",
        "        file.write(str(logical_prob_match))\n",
        "\n",
        "else:\n",
        "    with open('./logical_prob_match_'+device_name+'.txt', 'r') as file:\n",
        "        logical_prob_match = eval(file.read())"
      ]
    },
    {
      "cell_type": "code",
      "execution_count": null,
      "metadata": {
        "tags": [
          "uses-hardware"
        ],
        "colab": {
          "base_uri": "https://localhost:8080/",
          "height": 449
        },
        "id": "sAJHlIvRG4-c",
        "outputId": "fe0249dc-04a9-42a2-91a2-ea2802ecbbba"
      },
      "outputs": [
        {
          "output_type": "display_data",
          "data": {
            "text/plain": [
              "<Figure size 640x480 with 1 Axes>"
            ],
            "image/png": "[encoded data removed]"
          },
          "metadata": {}
        }
      ],
      "source": [
        "import matplotlib.pyplot as plt\n",
        "import numpy as np\n",
        "\n",
        "x_axis = range(n_min,n_max+1)\n",
        "P = { log: [logical_prob_match[n][log] for n in x_axis] for log in ['0', '1'] }\n",
        "\n",
        "ax = plt.gca()\n",
        "plt.xlabel('Code distance, n')\n",
        "plt.ylabel('ln(Logical error probability)')\n",
        "ax.scatter( x_axis, P['0'], label=\"logical 0\")\n",
        "ax.scatter( x_axis, P['1'], label=\"logical 1\")\n",
        "ax.set_yscale('log')\n",
        "ax.set_ylim(ymax=1.5*max(P['0']+P['1']),ymin=0.75*min(P['0']+P['1']))\n",
        "plt.legend()\n",
        "\n",
        "plt.show()"
      ]
    },
    {
      "cell_type": "code",
      "execution_count": null,
      "metadata": {
        "tags": [
          "uses-hardware"
        ],
        "id": "F7WV1w4XG4-d"
      },
      "outputs": [],
      "source": [
        "if step_3:\n",
        "\n",
        "    dec[n_max].weight_syndrome_graph(results=results[n_max])\n",
        "\n",
        "    probs = []\n",
        "    for edge in dec[n_max].S.edges:\n",
        "        ratio = np.exp(-dec[n_max].S.get_edge_data(edge[0],edge[1])['distance'])\n",
        "        probs.append( ratio/(1+ratio) )\n",
        "\n",
        "    with open('./probs_'+device_name+'.txt', 'w') as file:\n",
        "        file.write(str(probs))\n",
        "\n",
        "else:\n",
        "\n",
        "    with open('./probs_'+device_name+'.txt', 'r') as file:\n",
        "        probs = eval(file.read())"
      ]
    },
    {
      "cell_type": "code",
      "execution_count": null,
      "metadata": {
        "tags": [
          "uses-hardware"
        ],
        "colab": {
          "base_uri": "https://localhost:8080/"
        },
        "id": "KPIAr2bGG4-d",
        "outputId": "5925896f-e15d-4d62-d8d8-77916bc7456f"
      },
      "outputs": [
        {
          "output_type": "execute_result",
          "data": {
            "text/plain": [
              "{'count': 29.0,\n",
              " 'mean': 0.1839624024105741,\n",
              " 'std': 0.08969281029182916,\n",
              " 'min': 0.032099523882660116,\n",
              " '25%': 0.1202076677316294,\n",
              " '50%': 0.15479808944854537,\n",
              " '75%': 0.2585266030013643,\n",
              " 'max': 0.3820573455512858}"
            ]
          },
          "metadata": {},
          "execution_count": 55
        }
      ],
      "source": [
        "import pandas as pd\n",
        "\n",
        "pd.Series(probs).describe().to_dict()"
      ]
    },
    {
      "cell_type": "code",
      "execution_count": null,
      "metadata": {
        "tags": [
          "uses-hardware"
        ],
        "colab": {
          "base_uri": "https://localhost:8080/"
        },
        "id": "U1TmZYV9G4-e",
        "outputId": "e6a46e40-adbb-4a29-dd6e-f6b74c40f3ec"
      },
      "outputs": [
        {
          "output_type": "execute_result",
          "data": {
            "text/plain": [
              "{'count': 43.0,\n",
              " 'mean': 0.03964249408264689,\n",
              " 'std': 0.022274869416574618,\n",
              " 'min': 0.01279016878072245,\n",
              " '25%': 0.025389504940856747,\n",
              " '50%': 0.03296455263355727,\n",
              " '75%': 0.046331516695269206,\n",
              " 'max': 0.11660000000000004}"
            ]
          },
          "metadata": {},
          "execution_count": 57
        }
      ],
      "source": [
        "if step_3:\n",
        "\n",
        "    gate_probs = []\n",
        "    for j,qubit in enumerate(line):\n",
        "\n",
        "        gate_probs.append( backend.properties().readout_error(qubit) )\n",
        "\n",
        "        cx1,cx2 = 0,0\n",
        "        if j>0:\n",
        "            gate_probs( backend.properties().gate_error('cx',[qubit,line[j-1]]) )\n",
        "        if j<len(line)-1:\n",
        "            gate_probs( backend.properties().gate_error('cx',[qubit,line[j+1]]) )\n",
        "\n",
        "    with open('./gate_probs_'+device_name+'.txt', 'w') as file:\n",
        "        file.write(str(gate_probs))\n",
        "\n",
        "else:\n",
        "\n",
        "    with open('./gate_probs_'+device_name+'.txt', 'r') as file:\n",
        "        gate_probs = eval(file.read())\n",
        "\n",
        "pd.Series(gate_probs).describe().to_dict()"
      ]
    },
    {
      "cell_type": "code",
      "execution_count": null,
      "metadata": {
        "scrolled": true,
        "colab": {
          "base_uri": "https://localhost:8080/"
        },
        "id": "fAwgIAkSG4-e",
        "outputId": "88c3acff-2cd9-4493-9dcd-dbf95b59a530"
      },
      "outputs": [
        {
          "output_type": "execute_result",
          "data": {
            "text/plain": [
              "{'qiskit-terra': '0.21.2', 'qiskit-aer': '0.10.4', 'qiskit-ignis': None, 'qiskit-ibmq-provider': '0.19.2', 'qiskit': '0.37.2', 'qiskit-nature': None, 'qiskit-finance': None, 'qiskit-optimization': None, 'qiskit-machine-learning': None}"
            ]
          },
          "metadata": {},
          "execution_count": 58
        }
      ],
      "source": [
        "import qiskit\n",
        "qiskit.__qiskit_version__"
      ]
    },
    {
      "cell_type": "code",
      "source": [
        "import numpy as np\n",
        "import matplotlib.pyplot as plt\n",
        "from qiskit import QuantumCircuit, Aer, execute\n",
        "from qiskit.providers.aer.noise import NoiseModel, pauli_error, depolarizing_error\n",
        "from qiskit.exceptions import QiskitError as NoiseError\n",
        "from qiskit.circuit.library import XGate, CXGate\n",
        "from topological_codes import RepetitionCode, lookuptable_decoding\n",
        "\n",
        "# Define the noise model\n",
        "def get_noise(p_meas, p_gate):\n",
        "    \"\"\"\n",
        "    Create a noise model for simulation.\n",
        "\n",
        "    Parameters:\n",
        "        p_meas: Probability of measurement error.\n",
        "        p_gate: Probability of gate error.\n",
        "\n",
        "    Returns:\n",
        "        NoiseModel: The noise model for the simulator.\n",
        "    \"\"\"\n",
        "    # Define measurement error\n",
        "    error_meas = pauli_error([(\"X\", p_meas), (\"I\", 1 - p_meas)])\n",
        "\n",
        "    # Define single-qubit gate depolarizing error\n",
        "    error_gate1 = depolarizing_error(p_gate, 1)\n",
        "\n",
        "    # Define two-qubit gate depolarizing error\n",
        "    error_gate2 = depolarizing_error(p_gate, 2)\n",
        "\n",
        "    # Create the noise model\n",
        "    noise_model = NoiseModel()\n",
        "    noise_model.add_all_qubit_quantum_error(error_meas, \"measure\")  # Measurement error\n",
        "    noise_model.add_all_qubit_quantum_error(error_gate1, [\"x\", \"h\"])  # Single-qubit gate errors\n",
        "    noise_model.add_all_qubit_quantum_error(error_gate2, [\"cx\"])  # Two-qubit gate errors\n",
        "\n",
        "    return noise_model\n",
        "\n",
        "# Function to run the simulation and compute results\n",
        "def simulate_repetition_code(n_values, p_meas, p_gate, shots=10000):\n",
        "    \"\"\"\n",
        "    Simulate the repetition code with noise.\n",
        "\n",
        "    Parameters:\n",
        "        n_values: List of code distances (e.g., [3, 5, 7]).\n",
        "        p_meas: Probability of measurement error.\n",
        "        p_gate: Probability of gate error.\n",
        "        shots: Number of shots for the simulation.\n",
        "\n",
        "    Returns:\n",
        "        results: Dictionary of logical error probabilities for each code distance.\n",
        "    \"\"\"\n",
        "    noise_model = get_noise(p_meas, p_gate)\n",
        "    results = {}\n",
        "\n",
        "    for n in n_values:\n",
        "        print(f\"\\nSimulating Code Distance {n}...\")\n",
        "        code = RepetitionCode(n, 1)  # Single round of error correction\n",
        "        raw_results = {}\n",
        "\n",
        "        # Simulate logical 0 and logical 1\n",
        "        for log in ['0', '1']:\n",
        "            circuit = code.circuit[log]\n",
        "            job = execute(circuit, Aer.get_backend('qasm_simulator'), noise_model=noise_model, shots=shots)\n",
        "            raw_results[log] = job.result().get_counts()\n",
        "\n",
        "        # Decode and compute logical error probabilities\n",
        "        table_results = {}\n",
        "        for log in ['0', '1']:\n",
        "            table_results[log] = raw_results[log]\n",
        "        logical_probs = lookuptable_decoding(raw_results, table_results)\n",
        "        results[n] = logical_probs\n",
        "\n",
        "        print(f\"Code Distance {n}: Logical 0 -> {logical_probs['0']:.4f}, Logical 1 -> {logical_probs['1']:.4f}\")\n",
        "\n",
        "    return results\n",
        "\n",
        "# Plot results\n",
        "def plot_results(results):\n",
        "    \"\"\"\n",
        "    Plot the logical error probabilities.\n",
        "\n",
        "    Parameters:\n",
        "        results: Dictionary of logical error probabilities for each code distance.\n",
        "    \"\"\"\n",
        "    code_distances = list(results.keys())\n",
        "    logical_0_probs = [results[n]['0'] for n in code_distances]\n",
        "    logical_1_probs = [results[n]['1'] for n in code_distances]\n",
        "\n",
        "    plt.figure(figsize=(8, 6))\n",
        "    plt.plot(code_distances, logical_0_probs, label=\"Logical 0\", marker='o')\n",
        "    plt.plot(code_distances, logical_1_probs, label=\"Logical 1\", marker='o')\n",
        "    plt.yscale('log')\n",
        "    plt.xlabel(\"Code Distance (n)\")\n",
        "    plt.ylabel(\"Logical Error Probability\")\n",
        "    plt.title(\"Logical Error Probability vs. Code Distance\")\n",
        "    plt.legend()\n",
        "    plt.grid()\n",
        "    plt.show()\n",
        "\n",
        "# Main Execution\n",
        "if __name__ == \"__main__\":\n",
        "    # Simulation parameters\n",
        "    n_values = range(3, 9, 2)  # Code distances\n",
        "    p_meas, p_gate = 0.01, 0.01  # Measurement and gate error probabilities\n",
        "    shots = 10000  # Number of shots\n",
        "\n",
        "    # Simulate and plot results\n",
        "    results = simulate_repetition_code(n_values, p_meas, p_gate, shots=shots)\n",
        "    plot_results(results)\n"
      ],
      "metadata": {
        "colab": {
          "base_uri": "https://localhost:8080/",
          "height": 720
        },
        "id": "dVD_sy9I883I",
        "outputId": "672f5281-1560-4702-e0ea-6764507b5c05"
      },
      "execution_count": 85,
      "outputs": [
        {
          "output_type": "stream",
          "name": "stdout",
          "text": [
            "\n",
            "Simulating Code Distance 3...\n",
            "Code Distance 3: Logical 0 -> 0.0003, Logical 1 -> 0.0008\n",
            "\n",
            "Simulating Code Distance 5...\n",
            "Code Distance 5: Logical 0 -> 0.0000, Logical 1 -> 0.0000\n",
            "\n",
            "Simulating Code Distance 7...\n",
            "Code Distance 7: Logical 0 -> 0.0000, Logical 1 -> 0.0000\n"
          ]
        },
        {
          "output_type": "display_data",
          "data": {
            "text/plain": [
              "<Figure size 800x600 with 1 Axes>"
            ],
            "image/png": "[encoded data removed]"
          },
          "metadata": {}
        }
      ]
    },
    {
      "cell_type": "code",
      "source": [
        "!pip install qiskit[visualization]"
      ],
      "metadata": {
        "id": "N2aVWIGosycl"
      },
      "execution_count": null,
      "outputs": []
    },
    {
      "cell_type": "code",
      "source": [
        "import random\n",
        "\n",
        "# Custom encoding function using Repetition Code\n",
        "def encode_message(message, d):\n",
        "    \"\"\"\n",
        "    Encodes the message using a repetition code.\n",
        "\n",
        "    Args:\n",
        "        message (list): A list of logical bits (0 or 1).\n",
        "        d (int): The repetition factor (number of times each bit is repeated).\n",
        "\n",
        "    Returns:\n",
        "        list: A list of encoded messages where each bit is repeated d times.\n",
        "    \"\"\"\n",
        "    encoded_message = []\n",
        "    for bit in message:\n",
        "        encoded_bit = [bit] * d  # Repeat the bit d times\n",
        "        encoded_message.append(encoded_bit)\n",
        "    return encoded_message\n",
        "\n",
        "\n",
        "# Custom decoding function using Majority Voting\n",
        "def decode_message(encoded_message):\n",
        "    \"\"\"\n",
        "    Decodes the message using majority voting.\n",
        "\n",
        "    Args:\n",
        "        encoded_message (list): The encoded message with repeated bits.\n",
        "\n",
        "    Returns:\n",
        "        list: The decoded message as a list of logical bits (0 or 1).\n",
        "    \"\"\"\n",
        "    decoded_message = []\n",
        "    for encoded_bit in encoded_message:\n",
        "        majority_bit = max(set(encoded_bit), key=encoded_bit.count)  # Majority voting\n",
        "        decoded_message.append(majority_bit)\n",
        "    return decoded_message\n",
        "\n",
        "\n",
        "# Apply noise to the encoded message by flipping bits with some probability\n",
        "def apply_noise(encoded_message, p_noise):\n",
        "    \"\"\"\n",
        "    Simulates noise by flipping a random bit with probability p_noise.\n",
        "\n",
        "    Args:\n",
        "        encoded_message (list): The encoded message.\n",
        "        p_noise (float): The probability of flipping a bit.\n",
        "\n",
        "    Returns:\n",
        "        list: The noisy encoded message.\n",
        "    \"\"\"\n",
        "    noisy_message = encoded_message.copy()\n",
        "    for i in range(len(noisy_message)):\n",
        "        for j in range(len(noisy_message[i])):\n",
        "            if random.random() < p_noise:  # Flip the bit\n",
        "                noisy_message[i][j] = 1 - noisy_message[i][j]\n",
        "    return noisy_message\n",
        "\n",
        "\n",
        "# Implementing a simple lookup table decoding function (majority voting in this case)\n",
        "def lookuptable_decoding(training_results, real_results):\n",
        "    \"\"\"\n",
        "    Decodes the message using lookup table decoding based on the training results.\n",
        "\n",
        "    Args:\n",
        "        training_results (dict): A dictionary of training results with logical state as key.\n",
        "        real_results (dict): A dictionary of real noisy results with logical state as key.\n",
        "\n",
        "    Returns:\n",
        "        dict: The decoded logical state probabilities.\n",
        "    \"\"\"\n",
        "    logical_prob = {}\n",
        "\n",
        "    for log in real_results:\n",
        "        shots = 0\n",
        "        incorrect_shots = 0\n",
        "        for string in real_results[log]:\n",
        "            p = {\"0\": 0, \"1\": 0}\n",
        "\n",
        "            # Calculate the probability of this string being a logical '0' or '1'\n",
        "            for testlog in [\"0\", \"1\"]:\n",
        "                if string in training_results[testlog]:\n",
        "                    p[testlog] = training_results[testlog][string]\n",
        "\n",
        "            shots += real_results[log][string]\n",
        "            # If the incorrect logical state (e.g., '1' for logical '0') has a higher probability, it's an error\n",
        "            if p[\"1\" * (log == \"0\") + \"0\" * (log == \"1\")] > p[log]:\n",
        "                incorrect_shots += real_results[log][string]\n",
        "\n",
        "        logical_prob[log] = incorrect_shots / shots if shots > 0 else 0\n",
        "\n",
        "    return logical_prob\n",
        "\n",
        "\n",
        "# Custom function to compare the original key with the decoded key\n",
        "def compare_keys(original_key, decoded_key):\n",
        "    \"\"\"\n",
        "    Compares the original key with the decoded key and prints if the error correction was successful.\n",
        "\n",
        "    Args:\n",
        "        original_key (list): The original message.\n",
        "        decoded_key (list): The decoded message.\n",
        "    \"\"\"\n",
        "    if original_key == decoded_key:\n",
        "        print(\"Error correction successful!\")\n",
        "    else:\n",
        "        print(\"Error correction failed!\")\n",
        "    print(\"Original Key:\", original_key)\n",
        "    print(\"Decoded Key:\", decoded_key)\n",
        "\n",
        "\n",
        "# Main function to run the example\n",
        "def main():\n",
        "    # Define the original key (message)\n",
        "    original_key = [1, 0, 1, 1, 0]  # Example binary message\n",
        "\n",
        "    # Set the repetition factor (d)\n",
        "    d = 3  # Repetition factor\n",
        "\n",
        "    # Encode the message using repetition code\n",
        "    encoded_message = encode_message(original_key, d)\n",
        "    print(\"Encoded Message:\", encoded_message)\n",
        "\n",
        "    # Simulate noise on the encoded message (10% noise)\n",
        "    noisy_message = apply_noise(encoded_message, 0.1)\n",
        "    print(\"Noisy Encoded Message:\", noisy_message)\n",
        "\n",
        "    # Decode the noisy message using majority voting\n",
        "    decoded_message = decode_message(noisy_message)\n",
        "    print(\"Decoded Message:\", decoded_message)\n",
        "\n",
        "    # Compare the original and decoded keys\n",
        "    compare_keys(original_key, decoded_message)\n",
        "\n",
        "\n",
        "# Run the main function\n",
        "if __name__ == \"__main__\":\n",
        "    main()\n"
      ],
      "metadata": {
        "colab": {
          "base_uri": "https://localhost:8080/"
        },
        "id": "t1vYeEkizz_2",
        "outputId": "8ab5948c-496c-4435-8002-fa16b1c25280"
      },
      "execution_count": null,
      "outputs": [
        {
          "output_type": "stream",
          "name": "stdout",
          "text": [
            "Encoded Message: [[1, 1, 1], [0, 0, 0], [1, 1, 1], [1, 1, 1], [0, 0, 0]]\n",
            "Noisy Encoded Message: [[1, 1, 1], [0, 0, 0], [1, 0, 1], [0, 1, 1], [1, 0, 0]]\n",
            "Decoded Message: [1, 0, 1, 1, 0]\n",
            "Error correction successful!\n",
            "Original Key: [1, 0, 1, 1, 0]\n",
            "Decoded Key: [1, 0, 1, 1, 0]\n"
          ]
        }
      ]
    }
  ],
  "metadata": {
    "kernelspec": {
      "display_name": "Python 3",
      "language": "python",
      "name": "python3"
    },
    "language_info": {
      "codemirror_mode": {
        "name": "ipython",
        "version": 3
      },
      "file_extension": ".py",
      "mimetype": "text/x-python",
      "name": "python",
      "nbconvert_exporter": "python",
      "pygments_lexer": "ipython3",
      "version": "3.9"
    },
    "colab": {
      "provenance": []
    }
  },
  "nbformat": 4,
  "nbformat_minor": 0
}