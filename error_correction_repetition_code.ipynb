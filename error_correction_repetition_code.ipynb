{
  "cells": [
    {
      "cell_type": "code",
      "source": [
        "!pip install qiskit==0.37.2"
      ],
      "metadata": {
        "id": "v4jBx34PHAKK"
      },
      "execution_count": null,
      "outputs": []
    },
    {
      "cell_type": "markdown",
      "metadata": {
        "tags": [
          "remove_cell"
        ],
        "id": "NuFo-n0NG495"
      },
      "source": [
        "# Introduction to Quantum Error Correction via the Repetition Code"
      ]
    },
    {
      "cell_type": "markdown",
      "metadata": {
        "id": "7jBM72KxG497"
      },
      "source": [
        "## Introduction\n",
        "\n",
        "Quantum computing requires us to encode information in qubits. Most quantum algorithms developed over the past few decades have assumed that these qubits are perfect: they can be prepared in any state we desire, and be manipulated with complete precision. Qubits that obey these assumptions are often known as *logical qubits*.\n",
        "\n",
        "The last few decades have also seen great advances in finding physical systems that behave as qubits, with better quality qubits being developed all the time. However, the imperfections can never be removed entirely. These qubits will always be much too imprecise to serve directly as logical qubits. Instead, we refer to them as *physical qubits*.\n",
        "\n",
        "In the current era of quantum computing, we seek to use physical qubits despite their imperfections, by designing custom algorithms and using error mitigation effects. For the future era of fault-tolerance, however, we must find ways to build logical qubits from physical qubits. This will be done through the process of quantum error correction, in which logical qubits are encoded in a large number of physical qubits. The encoding is maintained by constantly putting the physical qubits through a highly entangling circuit. Auxilliary degrees of freedom are also constantly measured, to detect signs of errors and allow their effects to be removed. The operations on the logical qubits required to implement quantum computation will be performed by essentially making small perturbations to this procedure.\n",
        "\n",
        "Because of the vast amount of effort required for this process, most operations performed in fault-tolerant quantum computers will be done to serve the purpose of error detection and correction. So when benchmarking our progress towards fault-tolerant quantum computation, we must keep track of how well our devices perform error correction.\n",
        "\n",
        "In this chapter we will look at a particular example of error correction: the repetition code. Though not a true example of quantum error correction - it uses physical qubits to encode a logical *bit*, rather than a qubit - it serves as a simple guide to all the basic concepts in any quantum error correcting code. We will also see how it can be run on current prototype devices."
      ]
    },
    {
      "cell_type": "markdown",
      "metadata": {
        "id": "UFQ9b3xzG499"
      },
      "source": [
        "## Introduction to the repetition code"
      ]
    },
    {
      "cell_type": "markdown",
      "metadata": {
        "id": "SzU_6f-_G499"
      },
      "source": [
        "### The basics of error correction\n",
        "\n",
        "The basic ideas behind error correction are the same for quantum information as for classical information. This allows us to begin by considering a very straightforward example: speaking on the phone. If someone asks you a question to which the answer is 'yes' or 'no', the way you give your response will depend on two factors:\n",
        "\n",
        "* How important is it that you are understood correctly?\n",
        "* How good is your connection?\n",
        "\n",
        "Both of these can be paramaterized with probabilities. For the first, we can use $P_a$, the maximum acceptable probability of being misunderstood. If you are being asked to confirm a preference for ice cream flavours, and don't mind too much if you get vanilla rather than chocolate, $P_a$ might be quite high. If you are being asked a question on which someone's life depends, however, $P_a$ will be much lower.\n",
        "\n",
        "For the second we can use $p$, the probability that your answer is garbled by a bad connection. For simplicity, let's imagine a case where a garbled 'yes' doesn't simply sound like nonsense, but sounds like a 'no'. And similarly a 'no' is transformed into 'yes'. Then $p$ is the probability that you are completely misunderstood.\n",
        "\n",
        "A good connection or a relatively unimportant question will result in $p<P_a$. In this case it is fine to simply answer in the most direct way possible: you just say 'yes' or 'no'.\n",
        "\n",
        "If, however, your connection is poor and your answer is important, we will have $p>P_a$. A single 'yes' or 'no' is not enough in this case. The probability of being misunderstood would be too high. Instead we must encode our answer in a more complex structure, allowing the receiver to decode our meaning despite the possibility of the message being disrupted. The simplest method is the one that many would do without thinking: simply repeat the answer many times. For example say 'yes, yes, yes' instead of 'yes' or 'no, no no' instead of 'no'.\n",
        "\n",
        "If the receiver hears 'yes, yes, yes' in this case, they will of course conclude that the sender meant 'yes'. If they hear 'no, yes, yes', 'yes, no, yes' or 'yes, yes, no', they will probably conclude the same thing, since there is more positivity than negativity in the answer. To be misunderstood in this case, at least two of the replies need to be garbled. The probability for this, $P$, will be less than $p$. When encoded in this way, the message therefore becomes more likely to be understood. The code cell below shows an example of this."
      ]
    },
    {
      "cell_type": "code",
      "execution_count": null,
      "metadata": {
        "colab": {
          "base_uri": "https://localhost:8080/"
        },
        "id": "ISlcwuj_G49_",
        "outputId": "19379772-f858-4d6f-8fd1-625ef300857c"
      },
      "outputs": [
        {
          "output_type": "stream",
          "name": "stdout",
          "text": [
            "Probability of a single reply being garbled: 0.01\n",
            "Probability of a the majority of three replies being garbled: 0.0003\n"
          ]
        }
      ],
      "source": [
        "p1 = 0.01\n",
        "p3 = 3 * p1**2 * (1-p1) + p1**3 # probability of 2 or 3 errors\n",
        "print('Probability of a single reply being garbled: {}'.format(p1))\n",
        "print('Probability of a the majority of three replies being garbled: {:.4f}'.format(p3))"
      ]
    },
    {
      "cell_type": "markdown",
      "metadata": {
        "id": "QbQB2WeHG4-B"
      },
      "source": [
        "If $P<P_a$, this technique solves our problem. If not, we can simply add more repetitions. The fact that $P<p$ above comes from the fact that we need at least two replies to be garbled to flip the majority, and so even the most likely possibilities have a probability of $\\sim p^2$. For five repetitions we'd need at least three replies to be garbled to flip the majority, which happens with probability $\\sim p^3$. The value for $P$ in this case would then be even lower. Indeed, as we increase the number of repetitions, $P$ will decrease exponentially. No matter how bad the connection, or how certain we need to be of our message getting through correctly, we can achieve it by just repeating our answer enough times.\n",
        "\n",
        "Though this is a simple example, it contains all the aspects of error correction.\n",
        "* There is some information to be sent or stored: In this case, a 'yes' or 'no.\n",
        "* The information is encoded in a larger system to protect it against noise: In this case, by repeating the message.\n",
        "* The information is finally decoded, mitigating for the effects of noise: In this case, by trusting the majority of the transmitted messages.\n",
        "\n",
        "This same encoding scheme can also be used for binary, by simply substituting `0` and `1` for 'yes' and 'no. It can therefore also be easily generalized to qubits by using the states $\\left|0\\right\\rangle$ and $\\left|1\\right\\rangle$. In each case it is known as the *repetition code*. Many other forms of encoding are also possible in both the classical and quantum cases, which outperform the repetition code in many ways. However, its status as the simplest encoding does lend it to certain applications. One is exactly what it is used for in Qiskit: as the first and simplest test of implementing the ideas behind quantum error correction."
      ]
    },
    {
      "cell_type": "markdown",
      "metadata": {
        "id": "FkpIw6rvG4-B"
      },
      "source": [
        "### Correcting errors in qubits\n",
        "\n",
        "We will now implement these ideas explicitly using Qiskit. To see the effects of imperfect qubits, we simply can use the qubits of the prototype devices. We can also reproduce the effects in simulations. The function below creates a simple noise model in order to do this. These go beyond the simple case discussed earlier, of a single noise event which happens with a probability $p$. Instead we consider two forms of error that can occur. One is a gate error: an imperfection in any operation we perform. We model this here in a simple way, using so-called depolarizing noise. The effect of this will be, with probability $p_{gate}$ ,to replace the state of any qubit with a completely random state. For two qubit gates, it is applied independently to each qubit. The other form of noise is that for measurement. This simply flips between a `0` to a `1` and vice-versa immediately before measurement with probability $p_{meas}$."
      ]
    },
    {
      "cell_type": "code",
      "execution_count": null,
      "metadata": {
        "id": "X73mJQVjG4-C"
      },
      "outputs": [],
      "source": [
        "from qiskit.providers.aer.noise import NoiseModel\n",
        "from qiskit.providers.aer.noise.errors import pauli_error, depolarizing_error\n",
        "\n",
        "def get_noise(p_meas,p_gate):\n",
        "\n",
        "    error_meas = pauli_error([('X',p_meas), ('I', 1 - p_meas)])\n",
        "    error_gate1 = depolarizing_error(p_gate, 1)\n",
        "    error_gate2 = error_gate1.tensor(error_gate1)\n",
        "\n",
        "    noise_model = NoiseModel()\n",
        "    noise_model.add_all_qubit_quantum_error(error_meas, \"measure\") # measurement error is applied to measurements\n",
        "    noise_model.add_all_qubit_quantum_error(error_gate1, [\"x\"]) # single qubit gate error is applied to x gates\n",
        "    noise_model.add_all_qubit_quantum_error(error_gate2, [\"cx\"]) # two qubit gate error is applied to cx gates\n",
        "\n",
        "    return noise_model"
      ]
    },
    {
      "cell_type": "markdown",
      "metadata": {
        "id": "Eg4Y7kVKG4-C"
      },
      "source": [
        "With this we'll now create such a noise model with a probability of $1\\%$ for each type of error."
      ]
    },
    {
      "cell_type": "code",
      "execution_count": null,
      "metadata": {
        "id": "t38aItlMG4-D"
      },
      "outputs": [],
      "source": [
        "noise_model = get_noise(0.01,0.01)"
      ]
    },
    {
      "cell_type": "markdown",
      "metadata": {
        "id": "S43HD_NDG4-D"
      },
      "source": [
        "Let's see what effect this has when trying to store a `0` using three qubits in state $\\left|0\\right\\rangle$. We'll repeat the process `shots=1024` times to see how likely different results are."
      ]
    },
    {
      "cell_type": "code",
      "execution_count": null,
      "metadata": {
        "colab": {
          "base_uri": "https://localhost:8080/"
        },
        "id": "KDOsb3uiG4-D",
        "outputId": "c7ae0e85-7fc1-4bd5-b517-b50bff16cddf"
      },
      "outputs": [
        {
          "output_type": "stream",
          "name": "stdout",
          "text": [
            "{'100': 12, '010': 15, '000': 984, '001': 13}\n"
          ]
        }
      ],
      "source": [
        "from qiskit import QuantumCircuit, execute, Aer\n",
        "\n",
        "qc0 = QuantumCircuit(3,3,name='0') # initialize circuit with three qubits in the 0 state\n",
        "\n",
        "qc0.measure(qc0.qregs[0],qc0.cregs[0]) # measure the qubits\n",
        "\n",
        "# run the circuit with th noise model and extract the counts\n",
        "counts = execute( qc0, Aer.get_backend('qasm_simulator'),noise_model=noise_model).result().get_counts()\n",
        "\n",
        "print(counts)"
      ]
    },
    {
      "cell_type": "code",
      "execution_count": null,
      "metadata": {
        "tags": [
          "sanity-check"
        ],
        "id": "ozVYcKlyG4-E"
      },
      "outputs": [],
      "source": [
        "# ...almost all results still come out '000',...\n",
        "assert counts['000'] > sum(counts.values())*0.95"
      ]
    },
    {
      "cell_type": "markdown",
      "metadata": {
        "id": "cNvRACIpG4-E"
      },
      "source": [
        "Here we see that almost all results still come out `'000'`, as they would if there was no noise. Of the remaining possibilities, those with a majority of `0`s are most likely. In total, much less than 10 samples come out with a majority of `1`s. When using this circuit to encode a `0`, this means that $P<1\\%$\n",
        "\n",
        "Now let's try the same for storing a `1` using three qubits in state $\\left|1\\right\\rangle$."
      ]
    },
    {
      "cell_type": "code",
      "execution_count": null,
      "metadata": {
        "colab": {
          "base_uri": "https://localhost:8080/"
        },
        "id": "lc12d6YOG4-E",
        "outputId": "4483cb86-d9a2-4869-b0cf-5069b136297a"
      },
      "outputs": [
        {
          "output_type": "stream",
          "name": "stdout",
          "text": [
            "{'010': 1, '110': 12, '101': 16, '011': 12, '111': 983}\n"
          ]
        }
      ],
      "source": [
        "qc1 = QuantumCircuit(3, 3, name='0') # initialize circuit with three qubits in the 0 state\n",
        "qc1.x(qc1.qregs[0]) # flip each 0 to 1\n",
        "\n",
        "qc1.measure(qc1.qregs[0],qc1.cregs[0]) # measure the qubits\n",
        "\n",
        "# run the circuit with th noise model and extract the counts\n",
        "counts = execute(qc1, Aer.get_backend('qasm_simulator'),noise_model=noise_model).result().get_counts()\n",
        "\n",
        "print(counts)"
      ]
    },
    {
      "cell_type": "code",
      "execution_count": null,
      "metadata": {
        "tags": [
          "sanity-check"
        ],
        "id": "Qra5jsaBG4-F"
      },
      "outputs": [],
      "source": [
        "# ...number of samples that come out with a majority in the wrong state\n",
        "# (0 in this case) is again much less than 10,...\n",
        "assert counts.get('000', 0) < 10"
      ]
    },
    {
      "cell_type": "markdown",
      "metadata": {
        "id": "kuCsPQ7uG4-F"
      },
      "source": [
        "The number of samples that come out with a majority in the wrong state (`0` in this case) is again much less than 10, so $P<1\\%$. Whether we store a `0` or a `1`, we can retrieve the information with a smaller probability of error than either of our sources of noise.\n",
        "\n",
        "This was possible because the noise we considered was relatively weak. As we increase $p_{meas}$ and $p_{gate}$, the higher the probability $P$ will be. The extreme case of this is for either of them to have a $50/50$ chance of applying the bit flip error, `x`. For example, let's run the same circuit as before but with $p_{meas}=0.5$ and $p_{gate}=0$."
      ]
    },
    {
      "cell_type": "code",
      "execution_count": null,
      "metadata": {
        "colab": {
          "base_uri": "https://localhost:8080/"
        },
        "id": "yS7Z3-nHG4-F",
        "outputId": "f42e93f2-75b7-4052-db39-6b587c3039e9"
      },
      "outputs": [
        {
          "output_type": "stream",
          "name": "stdout",
          "text": [
            "{'110': 124, '000': 128, '010': 110, '001': 149, '111': 148, '011': 108, '101': 133, '100': 124}\n"
          ]
        }
      ],
      "source": [
        "noise_model = get_noise(0.5,0.0)\n",
        "counts = execute(qc1, Aer.get_backend('qasm_simulator'),noise_model=noise_model).result().get_counts()\n",
        "print(counts)"
      ]
    },
    {
      "cell_type": "code",
      "execution_count": null,
      "metadata": {
        "tags": [
          "sanity-check"
        ],
        "id": "EH-AP_QCG4-F"
      },
      "outputs": [],
      "source": [
        "# ...all outcomes occur with equal probability, with\n",
        "# differences in results being due only to statistical noise.\n",
        "assert max(counts.values()) < 200"
      ]
    },
    {
      "cell_type": "markdown",
      "metadata": {
        "id": "wNQiZ3HNG4-G"
      },
      "source": [
        "With this noise, all outcomes occur with equal probability, with differences in results being due only to statistical noise. No trace of the encoded state remains. This is an important point to consider for error correction: sometimes the noise is too strong to be corrected. The optimal approach is to combine a good way of encoding the information you require, with hardware whose noise is not too strong."
      ]
    },
    {
      "cell_type": "markdown",
      "metadata": {
        "id": "syL0eNfaG4-G"
      },
      "source": [
        "### Storing qubits\n",
        "\n",
        "So far, we have considered cases where there is no delay between encoding and decoding. For qubits, this means that there is no significant amount of time that passes between initializing the circuit, and making the final measurements.\n",
        "\n",
        "However, there are many cases for which there will be a significant delay. As an obvious example, one may wish to encode a quantum state and store it for a long time, like a quantum hard drive. A less obvious but much more important example is performing fault-tolerant quantum computation itself. For this, we need to store quantum states and preserve their integrity during the computation. This must also be done in a way that allows us to manipulate the stored information in any way we need, and which corrects any errors we may introduce when performing the manipulations.\n",
        "\n",
        "In all cases, we need account for the fact that errors do not only occur when something happens (like a gate or measurement), they also occur when the qubits are idle. Such noise is due to the fact that the qubits interact with each other and their environment. The longer we leave our qubits idle for, the greater the effects of this noise becomes. If we leave them for long enough, we'll encounter a situation like the $p_{meas}=0.5$ case above, where the noise is too strong for errors to be reliably corrected.\n",
        "\n",
        "The solution is to keep measuring throughout. No qubit is left idle for too long. Instead, information is constantly being extracted from the system to keep track of the errors that have occurred.\n",
        "\n",
        "For the case of classical information, where we simply wish to store a `0` or `1`, this can be done by just constantly measuring the value of each qubit. By keeping track of when the values change due to noise, we can easily deduce a history of when errors occurred.\n",
        "\n",
        "For quantum information, however, it is not so easy. For example, consider the case that we wish to encode the logical state $\\left|+\\right\\rangle$. Our encoding is such that\n",
        "\n",
        "\n",
        "\n",
        "$$\\left|0\\right\\rangle \\rightarrow \\left|000\\right\\rangle, \\left|1\\right\\rangle \\rightarrow \\left|111\\right\\rangle.$$\n",
        "\n",
        "\n",
        "\n",
        "To encode the logical $\\left|+\\right\\rangle$ state we therefore need\n",
        "\n",
        "\n",
        "\n",
        "$$\\left|+\\right\\rangle =\\frac{1}{\\sqrt{2}}\\left(\\left|0\\right\\rangle+\\left|1\\right\\rangle\\right)\\rightarrow\\frac{1}{\\sqrt{2}}\\left(\\left|000\\right\\rangle+\\left|111\\right\\rangle\\right).$$\n",
        "\n",
        "\n",
        "\n",
        "With the repetition encoding that we are using, a z measurement (which distinguishes between the $\\left|0\\right\\rangle$ and $\\left|1\\right\\rangle$ states) of the logical qubit is done using a z measurement of each physical qubit. The final result for the logical measurement is decoded from the physical qubit measurement results by simply looking which output is in the majority.\n",
        "\n",
        "As mentioned earlier, we can keep track of errors on logical qubits that are stored for a long time by constantly performing z measurements of the physical qubits. However, note that this effectively corresponds to constantly performing z measurements of the physical qubits. This is fine if we are simply storing a `0` or `1`, but it has undesired effects if we are storing a superposition. Specifically: the first time we do such a check for errors, we will collapse the superposition.\n",
        "\n",
        "This is not ideal. If we wanted to do some computation on our logical qubit, or if we wish to perform a basis change before final measurement, we need to preserve the superposition. Destroying it is an error. But this is not an error caused by imperfections in our devices. It is an error that we have introduced as part of our attempts to correct errors. And since we cannot hope to recreate any arbitrary superposition stored in our quantum computer, it is an error that cannot be corrected.\n",
        "\n",
        "For this reason, we must find another way of keeping track of the errors that occur when our logical qubit is stored for long times. This should give us the information we need to detect and correct errors, and to decode the final measurement result with high probability. However, it should not cause uncorrectable errors to occur during the process by collapsing superpositions that we need to preserve.\n",
        "\n",
        "The way to do this is with the following circuit element."
      ]
    },
    {
      "cell_type": "code",
      "execution_count": null,
      "metadata": {
        "colab": {
          "base_uri": "https://localhost:8080/",
          "height": 156
        },
        "id": "qqobeY0vG4-H",
        "outputId": "81f1c93c-68e0-4852-e0b3-8542f5a798c2"
      },
      "outputs": [
        {
          "output_type": "execute_result",
          "data": {
            "text/plain": [
              "                             \n",
              "  code_qubit_0: ──■──────────\n",
              "                  │          \n",
              "  code_qubit_1: ──┼────■─────\n",
              "                ┌─┴─┐┌─┴─┐┌─┐\n",
              " ancilla_qubit: ┤ X ├┤ X ├┤M├\n",
              "                └───┘└───┘└╥┘\n",
              "syndrome_bit: 1/═══════════╩═\n",
              "                           0 "
            ],
            "text/html": [
              "<pre style=\"word-wrap: normal;white-space: pre;background: #fff0;line-height: 1.1;font-family: &quot;Courier New&quot;,Courier,monospace\">                             \n",
              "  code_qubit_0: ──■──────────\n",
              "                  │          \n",
              "  code_qubit_1: ──┼────■─────\n",
              "                ┌─┴─┐┌─┴─┐┌─┐\n",
              " ancilla_qubit: ┤ X ├┤ X ├┤M├\n",
              "                └───┘└───┘└╥┘\n",
              "syndrome_bit: 1/═══════════╩═\n",
              "                           0 </pre>"
            ]
          },
          "metadata": {},
          "execution_count": 11
        }
      ],
      "source": [
        "from qiskit import QuantumRegister, ClassicalRegister\n",
        "\n",
        "cq = QuantumRegister(2, 'code_qubit')\n",
        "lq = QuantumRegister(1, 'ancilla_qubit')\n",
        "sb = ClassicalRegister(1, 'syndrome_bit')\n",
        "qc = QuantumCircuit(cq, lq, sb)\n",
        "qc.cx(cq[0], lq[0])\n",
        "qc.cx(cq[1], lq[0])\n",
        "qc.measure(lq, sb)\n",
        "qc.draw()"
      ]
    },
    {
      "cell_type": "markdown",
      "metadata": {
        "id": "IyH1KBYfG4-H"
      },
      "source": [
        "Here we have three physical qubits. Two are called 'code qubits', and the other is called an 'ancilla qubit'. One bit of output is extracted, called the syndrome bit. The ancilla qubit is always initialized in state $\\left|0\\right\\rangle$. The code qubits, however, can be initialized in different states. To see what affect different inputs have on the output, we can create a circuit `qc_init` that prepares the code qubits in some state, and then run the circuit `qc_init+qc`.\n",
        "\n",
        "First, the trivial case: `qc_init` does nothing, and so the code qubits are initially $\\left|00\\right\\rangle$."
      ]
    },
    {
      "cell_type": "code",
      "execution_count": null,
      "metadata": {
        "colab": {
          "base_uri": "https://localhost:8080/",
          "height": 156
        },
        "id": "6xihFKviG4-H",
        "outputId": "8ce9533a-2b4c-442e-fa9a-a3b669c4317c"
      },
      "outputs": [
        {
          "output_type": "execute_result",
          "data": {
            "text/plain": [
              "                             \n",
              "  code_qubit_0: ──■──────────\n",
              "                  │          \n",
              "  code_qubit_1: ──┼────■─────\n",
              "                ┌─┴─┐┌─┴─┐┌─┐\n",
              " ancilla_qubit: ┤ X ├┤ X ├┤M├\n",
              "                └───┘└───┘└╥┘\n",
              "syndrome_bit: 1/═══════════╩═\n",
              "                           0 "
            ],
            "text/html": [
              "<pre style=\"word-wrap: normal;white-space: pre;background: #fff0;line-height: 1.1;font-family: &quot;Courier New&quot;,Courier,monospace\">                             \n",
              "  code_qubit_0: ──■──────────\n",
              "                  │          \n",
              "  code_qubit_1: ──┼────■─────\n",
              "                ┌─┴─┐┌─┴─┐┌─┐\n",
              " ancilla_qubit: ┤ X ├┤ X ├┤M├\n",
              "                └───┘└───┘└╥┘\n",
              "syndrome_bit: 1/═══════════╩═\n",
              "                           0 </pre>"
            ]
          },
          "metadata": {},
          "execution_count": 12
        }
      ],
      "source": [
        "qc_init = QuantumCircuit(cq, lq, sb)\n",
        "\n",
        "qc_init.compose(qc).draw()"
      ]
    },
    {
      "cell_type": "code",
      "execution_count": null,
      "metadata": {
        "colab": {
          "base_uri": "https://localhost:8080/"
        },
        "id": "t6c13PG0G4-I",
        "outputId": "e735c190-8861-4972-f43e-7764f3801798"
      },
      "outputs": [
        {
          "output_type": "stream",
          "name": "stdout",
          "text": [
            "Results: {'0': 1024}\n"
          ]
        }
      ],
      "source": [
        "counts = execute(qc_init.compose(qc), Aer.get_backend('qasm_simulator')).result().get_counts()\n",
        "print('Results:', counts)"
      ]
    },
    {
      "cell_type": "code",
      "execution_count": null,
      "metadata": {
        "tags": [
          "sanity-check"
        ],
        "id": "oEJLr9bXG4-I"
      },
      "outputs": [],
      "source": [
        "# The outcome, in all cases, is 0.\n",
        "assert list(counts.keys()) == ['0']"
      ]
    },
    {
      "cell_type": "markdown",
      "metadata": {
        "id": "UXxOdPqpG4-I"
      },
      "source": [
        "The outcome, in all cases, is `0`.\n",
        "\n",
        "Now let's try an initial state of $\\left|11\\right\\rangle$."
      ]
    },
    {
      "cell_type": "code",
      "execution_count": null,
      "metadata": {
        "colab": {
          "base_uri": "https://localhost:8080/",
          "height": 156
        },
        "id": "C6IjxAK2G4-J",
        "outputId": "5d6efd34-bc95-44f3-bbf1-adea406b30f4"
      },
      "outputs": [
        {
          "output_type": "execute_result",
          "data": {
            "text/plain": [
              "                ┌───┐             \n",
              "  code_qubit_0: ┤ X ├──■──────────\n",
              "                ├───┤  │          \n",
              "  code_qubit_1: ┤ X ├──┼────■─────\n",
              "                └───┘┌─┴─┐┌─┴─┐┌─┐\n",
              " ancilla_qubit: ─────┤ X ├┤ X ├┤M├\n",
              "                     └───┘└───┘└╥┘\n",
              "syndrome_bit: 1/════════════════╩═\n",
              "                                0 "
            ],
            "text/html": [
              "<pre style=\"word-wrap: normal;white-space: pre;background: #fff0;line-height: 1.1;font-family: &quot;Courier New&quot;,Courier,monospace\">                ┌───┐             \n",
              "  code_qubit_0: ┤ X ├──■──────────\n",
              "                ├───┤  │          \n",
              "  code_qubit_1: ┤ X ├──┼────■─────\n",
              "                └───┘┌─┴─┐┌─┴─┐┌─┐\n",
              " ancilla_qubit: ─────┤ X ├┤ X ├┤M├\n",
              "                     └───┘└───┘└╥┘\n",
              "syndrome_bit: 1/════════════════╩═\n",
              "                                0 </pre>"
            ]
          },
          "metadata": {},
          "execution_count": 15
        }
      ],
      "source": [
        "qc_init = QuantumCircuit(cq, lq, sb)\n",
        "qc_init.x(cq)\n",
        "\n",
        "qc_init.compose(qc).draw()"
      ]
    },
    {
      "cell_type": "code",
      "execution_count": null,
      "metadata": {
        "colab": {
          "base_uri": "https://localhost:8080/"
        },
        "id": "iq2zI757G4-J",
        "outputId": "1a2e7c5e-e55b-4d6c-e3cb-22e5479b8070"
      },
      "outputs": [
        {
          "output_type": "stream",
          "name": "stdout",
          "text": [
            "Results: {'0': 1024}\n"
          ]
        }
      ],
      "source": [
        "counts = execute(qc_init.compose(qc), Aer.get_backend('qasm_simulator')).result().get_counts()\n",
        "print('Results:', counts)"
      ]
    },
    {
      "cell_type": "code",
      "execution_count": null,
      "metadata": {
        "tags": [
          "sanity-check"
        ],
        "id": "0q1aRfGWG4-J"
      },
      "outputs": [],
      "source": [
        "# The outcome in this case is also always 0.\n",
        "assert list(counts.keys()) == ['0']"
      ]
    },
    {
      "cell_type": "markdown",
      "metadata": {
        "id": "l7uTXrgkG4-K"
      },
      "source": [
        "The outcome in this case is also always `0`. Given the linearity of quantum mechanics, we can expect the same to be true also for any superposition of $\\left|00\\right\\rangle$ and $\\left|11\\right\\rangle$, such as the example below."
      ]
    },
    {
      "cell_type": "code",
      "execution_count": null,
      "metadata": {
        "colab": {
          "base_uri": "https://localhost:8080/",
          "height": 156
        },
        "id": "n-18AL5DG4-K",
        "outputId": "eb6d4726-3730-47c9-c6e0-f901ae2b1481"
      },
      "outputs": [
        {
          "output_type": "execute_result",
          "data": {
            "text/plain": [
              "                ┌───┐                  \n",
              "  code_qubit_0: ┤ H ├──■────■──────────\n",
              "                └───┘┌─┴─┐  │          \n",
              "  code_qubit_1: ─────┤ X ├──┼────■─────\n",
              "                     └───┘┌─┴─┐┌─┴─┐┌─┐\n",
              " ancilla_qubit: ──────────┤ X ├┤ X ├┤M├\n",
              "                          └───┘└───┘└╥┘\n",
              "syndrome_bit: 1/═════════════════════╩═\n",
              "                                     0 "
            ],
            "text/html": [
              "<pre style=\"word-wrap: normal;white-space: pre;background: #fff0;line-height: 1.1;font-family: &quot;Courier New&quot;,Courier,monospace\">                ┌───┐                  \n",
              "  code_qubit_0: ┤ H ├──■────■──────────\n",
              "                └───┘┌─┴─┐  │          \n",
              "  code_qubit_1: ─────┤ X ├──┼────■─────\n",
              "                     └───┘┌─┴─┐┌─┴─┐┌─┐\n",
              " ancilla_qubit: ──────────┤ X ├┤ X ├┤M├\n",
              "                          └───┘└───┘└╥┘\n",
              "syndrome_bit: 1/═════════════════════╩═\n",
              "                                     0 </pre>"
            ]
          },
          "metadata": {},
          "execution_count": 18
        }
      ],
      "source": [
        "qc_init = QuantumCircuit(cq, lq, sb)\n",
        "qc_init.h(cq[0])\n",
        "qc_init.cx(cq[0], cq[1])\n",
        "\n",
        "qc_init.compose(qc).draw()"
      ]
    },
    {
      "cell_type": "code",
      "execution_count": null,
      "metadata": {
        "colab": {
          "base_uri": "https://localhost:8080/"
        },
        "id": "NHVmdgkNG4-K",
        "outputId": "c13ada09-5080-447c-aa8a-81e0d04183e1"
      },
      "outputs": [
        {
          "output_type": "stream",
          "name": "stdout",
          "text": [
            "Results: {'0': 1024}\n"
          ]
        }
      ],
      "source": [
        "counts = execute(qc_init.compose(qc), Aer.get_backend('qasm_simulator')).result().get_counts()\n",
        "print('Results:', counts)"
      ]
    },
    {
      "cell_type": "code",
      "execution_count": null,
      "metadata": {
        "tags": [
          "sanity-check"
        ],
        "id": "NVrMzi1hG4-K"
      },
      "outputs": [],
      "source": [
        "# ...we can expect the same to be true also for\n",
        "# any superposition of |00⟩ and |11⟩...\n",
        "assert list(counts.keys()) == ['0']"
      ]
    },
    {
      "cell_type": "markdown",
      "metadata": {
        "id": "7_SU7OZoG4-L"
      },
      "source": [
        "The opposite outcome will be found for an initial state of $\\left|01\\right\\rangle$, $\\left|10\\right\\rangle$ or any superposition thereof."
      ]
    },
    {
      "cell_type": "code",
      "execution_count": null,
      "metadata": {
        "colab": {
          "base_uri": "https://localhost:8080/",
          "height": 156
        },
        "id": "bvTmg852G4-L",
        "outputId": "bff62433-152d-4a90-d64d-69b47801dbb7"
      },
      "outputs": [
        {
          "output_type": "execute_result",
          "data": {
            "text/plain": [
              "                ┌───┐     ┌───┐             \n",
              "  code_qubit_0: ┤ H ├──■──┤ X ├──■──────────\n",
              "                └───┘┌─┴─┐└───┘  │          \n",
              "  code_qubit_1: ─────┤ X ├───────┼────■─────\n",
              "                     └───┘     ┌─┴─┐┌─┴─┐┌─┐\n",
              " ancilla_qubit: ───────────────┤ X ├┤ X ├┤M├\n",
              "                               └───┘└───┘└╥┘\n",
              "syndrome_bit: 1/══════════════════════════╩═\n",
              "                                          0 "
            ],
            "text/html": [
              "<pre style=\"word-wrap: normal;white-space: pre;background: #fff0;line-height: 1.1;font-family: &quot;Courier New&quot;,Courier,monospace\">                ┌───┐     ┌───┐             \n",
              "  code_qubit_0: ┤ H ├──■──┤ X ├──■──────────\n",
              "                └───┘┌─┴─┐└───┘  │          \n",
              "  code_qubit_1: ─────┤ X ├───────┼────■─────\n",
              "                     └───┘     ┌─┴─┐┌─┴─┐┌─┐\n",
              " ancilla_qubit: ───────────────┤ X ├┤ X ├┤M├\n",
              "                               └───┘└───┘└╥┘\n",
              "syndrome_bit: 1/══════════════════════════╩═\n",
              "                                          0 </pre>"
            ]
          },
          "metadata": {},
          "execution_count": 21
        }
      ],
      "source": [
        "qc_init = QuantumCircuit(cq, lq, sb)\n",
        "qc_init.h(cq[0])\n",
        "qc_init.cx(cq[0],cq[1])\n",
        "qc_init.x(cq[0])\n",
        "\n",
        "qc_init.compose(qc).draw()"
      ]
    },
    {
      "cell_type": "code",
      "execution_count": null,
      "metadata": {
        "colab": {
          "base_uri": "https://localhost:8080/"
        },
        "id": "4ZGsL_YqG4-M",
        "outputId": "643b00dc-46c7-42bc-9cc4-4ec011753c10"
      },
      "outputs": [
        {
          "output_type": "stream",
          "name": "stdout",
          "text": [
            "Results: {'1': 1024}\n"
          ]
        }
      ],
      "source": [
        "counts = execute(qc_init.compose(qc), Aer.get_backend('qasm_simulator')).result().get_counts()\n",
        "print('Results:',counts)"
      ]
    },
    {
      "cell_type": "code",
      "execution_count": null,
      "metadata": {
        "tags": [
          "sanity-check"
        ],
        "id": "EIva7tNuG4-M"
      },
      "outputs": [],
      "source": [
        "# In such cases the output is always '1'.\n",
        "assert list(counts.keys()) == ['1']"
      ]
    },
    {
      "cell_type": "markdown",
      "metadata": {
        "id": "8ie1bMnBG4-M"
      },
      "source": [
        "In such cases the output is always `'1'`.\n",
        "\n",
        "This measurement is therefore telling us about a collective property of multiple qubits. Specifically, it looks at the two code qubits and determines whether their state is the same or different in the z basis. For basis states that are the same in the z basis, like $\\left|00\\right\\rangle$ and $\\left|11\\right\\rangle$, the measurement simply returns `0`. It also does so for any superposition of these. Since it does not distinguish between these states in any way, it also does not collapse such a superposition.\n",
        "\n",
        "Similarly, For basis states that are different in the z basis it returns a `1`. This occurs for $\\left|01\\right\\rangle$, $\\left|10\\right\\rangle$ or any superposition thereof.\n",
        "\n",
        "Now suppose we apply such a 'syndrome measurement' on all pairs of physical qubits in our repetition code. If their state is described by a repeated $\\left|0\\right\\rangle$, a repeated $\\left|1\\right\\rangle$, or any superposition thereof, all the syndrome measurements will return `0`. Given this result, we will know that our states are indeed encoded in the repeated states that we want them to be, and can deduce that no errors have occurred. If some syndrome measurements return `1`, however, it is a signature of an error. We can therefore use these measurement results to determine how to decode the result."
      ]
    },
    {
      "cell_type": "markdown",
      "metadata": {
        "id": "qIBkcqLKG4-S"
      },
      "source": [
        "### Quantum repetition code\n",
        "\n",
        "We now know enough to understand exactly how the quantum version of the repetition code is implemented\n",
        "\n",
        "In this page, we'll use the [NCCR-SPIN/topological_codes](https://github.com/NCCR-SPIN/topological_codes) package. You can install this by running:\n",
        "\n",
        "```\n",
        "pip install git+https://github.com/NCCR-SPIN/topological_codes.git\n",
        "```\n",
        "\n",
        "from a terminal, and restarting your kernel."
      ]
    },
    {
      "cell_type": "code",
      "source": [
        "!pip install git+https://github.com/NCCR-SPIN/topological_codes.git"
      ],
      "metadata": {
        "colab": {
          "base_uri": "https://localhost:8080/"
        },
        "id": "tVf5WPvcH0bs",
        "outputId": "2a0ce3bf-c859-47b0-ba78-8310a8ab284e"
      },
      "execution_count": null,
      "outputs": [
        {
          "output_type": "stream",
          "name": "stdout",
          "text": [
            "Collecting git+https://github.com/NCCR-SPIN/topological_codes.git\n",
            "  Cloning https://github.com/NCCR-SPIN/topological_codes.git to /tmp/pip-req-build-h2qqkzo7\n",
            "  Running command git clone --filter=blob:none --quiet https://github.com/NCCR-SPIN/topological_codes.git /tmp/pip-req-build-h2qqkzo7\n",
            "  Resolved https://github.com/NCCR-SPIN/topological_codes.git to commit 96da34178de90688b47a8c986ee1c263f936e283\n",
            "  Preparing metadata (setup.py) ... \u001b[?25l\u001b[?25hdone\n",
            "Requirement already satisfied: qiskit in /usr/local/lib/python3.10/dist-packages (from topological_codes==0.0.1) (0.37.2)\n",
            "Requirement already satisfied: qiskit-terra==0.21.2 in /usr/local/lib/python3.10/dist-packages (from qiskit->topological_codes==0.0.1) (0.21.2)\n",
            "Requirement already satisfied: qiskit-aer==0.10.4 in /usr/local/lib/python3.10/dist-packages (from qiskit->topological_codes==0.0.1) (0.10.4)\n",
            "Requirement already satisfied: qiskit-ibmq-provider==0.19.2 in /usr/local/lib/python3.10/dist-packages (from qiskit->topological_codes==0.0.1) (0.19.2)\n",
            "Requirement already satisfied: numpy>=1.16.3 in /usr/local/lib/python3.10/dist-packages (from qiskit-aer==0.10.4->qiskit->topological_codes==0.0.1) (1.26.4)\n",
            "Requirement already satisfied: scipy>=1.0 in /usr/local/lib/python3.10/dist-packages (from qiskit-aer==0.10.4->qiskit->topological_codes==0.0.1) (1.13.1)\n",
            "Requirement already satisfied: requests>=2.19 in /usr/local/lib/python3.10/dist-packages (from qiskit-ibmq-provider==0.19.2->qiskit->topological_codes==0.0.1) (2.32.3)\n",
            "Requirement already satisfied: requests-ntlm>=1.1.0 in /usr/local/lib/python3.10/dist-packages (from qiskit-ibmq-provider==0.19.2->qiskit->topological_codes==0.0.1) (1.3.0)\n",
            "Requirement already satisfied: urllib3>=1.21.1 in /usr/local/lib/python3.10/dist-packages (from qiskit-ibmq-provider==0.19.2->qiskit->topological_codes==0.0.1) (2.2.3)\n",
            "Requirement already satisfied: python-dateutil>=2.8.0 in /usr/local/lib/python3.10/dist-packages (from qiskit-ibmq-provider==0.19.2->qiskit->topological_codes==0.0.1) (2.8.2)\n",
            "Requirement already satisfied: websocket-client>=1.0.1 in /usr/local/lib/python3.10/dist-packages (from qiskit-ibmq-provider==0.19.2->qiskit->topological_codes==0.0.1) (1.8.0)\n",
            "Requirement already satisfied: websockets>=10.0 in /usr/local/lib/python3.10/dist-packages (from qiskit-ibmq-provider==0.19.2->qiskit->topological_codes==0.0.1) (14.1)\n",
            "Requirement already satisfied: retworkx>=0.11.0 in /usr/local/lib/python3.10/dist-packages (from qiskit-terra==0.21.2->qiskit->topological_codes==0.0.1) (0.15.1)\n",
            "Requirement already satisfied: ply>=3.10 in /usr/local/lib/python3.10/dist-packages (from qiskit-terra==0.21.2->qiskit->topological_codes==0.0.1) (3.11)\n",
            "Requirement already satisfied: psutil>=5 in /usr/local/lib/python3.10/dist-packages (from qiskit-terra==0.21.2->qiskit->topological_codes==0.0.1) (5.9.5)\n",
            "Requirement already satisfied: sympy>=1.3 in /usr/local/lib/python3.10/dist-packages (from qiskit-terra==0.21.2->qiskit->topological_codes==0.0.1) (1.13.1)\n",
            "Requirement already satisfied: dill>=0.3 in /usr/local/lib/python3.10/dist-packages (from qiskit-terra==0.21.2->qiskit->topological_codes==0.0.1) (0.3.9)\n",
            "Requirement already satisfied: stevedore>=3.0.0 in /usr/local/lib/python3.10/dist-packages (from qiskit-terra==0.21.2->qiskit->topological_codes==0.0.1) (5.4.0)\n",
            "Requirement already satisfied: tweedledum<2.0,>=1.1 in /usr/local/lib/python3.10/dist-packages (from qiskit-terra==0.21.2->qiskit->topological_codes==0.0.1) (1.1.1)\n",
            "Requirement already satisfied: symengine>=0.9 in /usr/local/lib/python3.10/dist-packages (from qiskit-terra==0.21.2->qiskit->topological_codes==0.0.1) (0.13.0)\n",
            "Requirement already satisfied: six>=1.5 in /usr/local/lib/python3.10/dist-packages (from python-dateutil>=2.8.0->qiskit-ibmq-provider==0.19.2->qiskit->topological_codes==0.0.1) (1.16.0)\n",
            "Requirement already satisfied: charset-normalizer<4,>=2 in /usr/local/lib/python3.10/dist-packages (from requests>=2.19->qiskit-ibmq-provider==0.19.2->qiskit->topological_codes==0.0.1) (3.4.0)\n",
            "Requirement already satisfied: idna<4,>=2.5 in /usr/local/lib/python3.10/dist-packages (from requests>=2.19->qiskit-ibmq-provider==0.19.2->qiskit->topological_codes==0.0.1) (3.10)\n",
            "Requirement already satisfied: certifi>=2017.4.17 in /usr/local/lib/python3.10/dist-packages (from requests>=2.19->qiskit-ibmq-provider==0.19.2->qiskit->topological_codes==0.0.1) (2024.8.30)\n",
            "Requirement already satisfied: cryptography>=1.3 in /usr/local/lib/python3.10/dist-packages (from requests-ntlm>=1.1.0->qiskit-ibmq-provider==0.19.2->qiskit->topological_codes==0.0.1) (43.0.3)\n",
            "Requirement already satisfied: pyspnego>=0.4.0 in /usr/local/lib/python3.10/dist-packages (from requests-ntlm>=1.1.0->qiskit-ibmq-provider==0.19.2->qiskit->topological_codes==0.0.1) (0.11.2)\n",
            "Requirement already satisfied: rustworkx==0.15.1 in /usr/local/lib/python3.10/dist-packages (from retworkx>=0.11.0->qiskit-terra==0.21.2->qiskit->topological_codes==0.0.1) (0.15.1)\n",
            "Requirement already satisfied: pbr>=2.0.0 in /usr/local/lib/python3.10/dist-packages (from stevedore>=3.0.0->qiskit-terra==0.21.2->qiskit->topological_codes==0.0.1) (6.1.0)\n",
            "Requirement already satisfied: mpmath<1.4,>=1.1.0 in /usr/local/lib/python3.10/dist-packages (from sympy>=1.3->qiskit-terra==0.21.2->qiskit->topological_codes==0.0.1) (1.3.0)\n",
            "Requirement already satisfied: cffi>=1.12 in /usr/local/lib/python3.10/dist-packages (from cryptography>=1.3->requests-ntlm>=1.1.0->qiskit-ibmq-provider==0.19.2->qiskit->topological_codes==0.0.1) (1.17.1)\n",
            "Requirement already satisfied: pycparser in /usr/local/lib/python3.10/dist-packages (from cffi>=1.12->cryptography>=1.3->requests-ntlm>=1.1.0->qiskit-ibmq-provider==0.19.2->qiskit->topological_codes==0.0.1) (2.22)\n",
            "Building wheels for collected packages: topological_codes\n",
            "  Building wheel for topological_codes (setup.py) ... \u001b[?25l\u001b[?25hdone\n",
            "  Created wheel for topological_codes: filename=topological_codes-0.0.1-py3-none-any.whl size=17229 sha256=6c716a16fd203da3e9272df0e4d099768a4ce24d7ee605f59be3cb2d26b5397e\n",
            "  Stored in directory: /tmp/pip-ephem-wheel-cache-01wbzz3y/wheels/13/3d/4f/9a65d9537cb50ff7374ecc02e878d649ec222dce8c323ceb01\n",
            "Successfully built topological_codes\n",
            "Installing collected packages: topological_codes\n",
            "Successfully installed topological_codes-0.0.1\n"
          ]
        }
      ]
    },
    {
      "cell_type": "code",
      "execution_count": null,
      "metadata": {
        "id": "Y9k9CBX-G4-S"
      },
      "outputs": [],
      "source": [
        "from topological_codes import RepetitionCode\n",
        "from topological_codes import lookuptable_decoding\n",
        "from topological_codes import GraphDecoder"
      ]
    },
    {
      "cell_type": "markdown",
      "metadata": {
        "id": "iU0EPicIG4-S"
      },
      "source": [
        "We are free to choose how many physical qubits we want the logical qubit to be encoded in. We can also choose how many times the syndrome measurements will be applied while we store our logical qubit, before the final readout measurement. Let us start with the smallest non-trivial case: three repetitions and one syndrome measurement round. The circuits for the repetition code can then be created automatically from using the `RepetitionCode` object from `topological_codes`."
      ]
    },
    {
      "cell_type": "code",
      "execution_count": null,
      "metadata": {
        "id": "vkxsapIeG4-S"
      },
      "outputs": [],
      "source": [
        "n = 3\n",
        "T = 1\n",
        "\n",
        "code = RepetitionCode(n, T)"
      ]
    },
    {
      "cell_type": "markdown",
      "metadata": {
        "id": "-S-NnvGzG4-T"
      },
      "source": [
        "With this we can inspect various properties of the code, such as the names of the qubit registers used for the code and ancilla qubits."
      ]
    },
    {
      "cell_type": "markdown",
      "metadata": {
        "id": "2yWOzzhIG4-T"
      },
      "source": [
        "The `RepetitionCode` contains two quantum circuits that implement the code: One for each of the two possible logical bit values. Here are those for logical `0` and `1`, respectively."
      ]
    },
    {
      "cell_type": "code",
      "execution_count": null,
      "metadata": {
        "colab": {
          "base_uri": "https://localhost:8080/",
          "height": 263
        },
        "id": "Pi1orrnPG4-T",
        "outputId": "7de0d948-6cc5-4635-82d6-8e268f563896"
      },
      "outputs": [
        {
          "output_type": "execute_result",
          "data": {
            "text/plain": [
              "                      ┌───┐     ┌───┐        ┌─┐         \n",
              "      link_qubit_0_0: ┤ X ├─────┤ X ├────────┤M├─────────\n",
              "                      └─┬─┘┌───┐└─┬─┘┌───┐   └╥┘┌─┐      \n",
              "      link_qubit_0_1: ──┼──┤ X ├──┼──┤ X ├────╫─┤M├──────\n",
              "                        │  └─┬─┘  │  └─┬─┘┌─┐ ║ └╥┘      \n",
              "      code_qubit_0_0: ──■────┼────┼────┼──┤M├─╫──╫───────\n",
              "                             │    │    │  └╥┘ ║  ║ ┌─┐   \n",
              "      code_qubit_0_1: ───────■────■────┼───╫──╫──╫─┤M├───\n",
              "                                       │   ║  ║  ║ └╥┘┌─┐\n",
              "      code_qubit_0_2: ─────────────────■───╫──╫──╫──╫─┤M├\n",
              "                                           ║  ║  ║  ║ └╥┘\n",
              "round_0_link_bit_0: 2/═════════════════════╬══╩══╩══╬══╬═\n",
              "                                           ║  0  1  ║  ║ \n",
              "                                           ║        ║  ║ \n",
              "        code_bit_0: 3/═════════════════════╩════════╩══╩═\n",
              "                                           0        1  2 "
            ],
            "text/html": [
              "<pre style=\"word-wrap: normal;white-space: pre;background: #fff0;line-height: 1.1;font-family: &quot;Courier New&quot;,Courier,monospace\">                      ┌───┐     ┌───┐        ┌─┐         \n",
              "      link_qubit_0_0: ┤ X ├─────┤ X ├────────┤M├─────────\n",
              "                      └─┬─┘┌───┐└─┬─┘┌───┐   └╥┘┌─┐      \n",
              "      link_qubit_0_1: ──┼──┤ X ├──┼──┤ X ├────╫─┤M├──────\n",
              "                        │  └─┬─┘  │  └─┬─┘┌─┐ ║ └╥┘      \n",
              "      code_qubit_0_0: ──■────┼────┼────┼──┤M├─╫──╫───────\n",
              "                             │    │    │  └╥┘ ║  ║ ┌─┐   \n",
              "      code_qubit_0_1: ───────■────■────┼───╫──╫──╫─┤M├───\n",
              "                                       │   ║  ║  ║ └╥┘┌─┐\n",
              "      code_qubit_0_2: ─────────────────■───╫──╫──╫──╫─┤M├\n",
              "                                           ║  ║  ║  ║ └╥┘\n",
              "round_0_link_bit_0: 2/═════════════════════╬══╩══╩══╬══╬═\n",
              "                                           ║  0  1  ║  ║ \n",
              "                                           ║        ║  ║ \n",
              "        code_bit_0: 3/═════════════════════╩════════╩══╩═\n",
              "                                           0        1  2 </pre>"
            ]
          },
          "metadata": {},
          "execution_count": 28
        }
      ],
      "source": [
        "code.circuit['0'].draw()"
      ]
    },
    {
      "cell_type": "code",
      "execution_count": null,
      "metadata": {
        "colab": {
          "base_uri": "https://localhost:8080/",
          "height": 263
        },
        "id": "BVmNqeYiG4-T",
        "outputId": "a292c741-4dd8-40e1-d5d0-59b94894607a"
      },
      "outputs": [
        {
          "output_type": "execute_result",
          "data": {
            "text/plain": [
              "                           ┌───┐     ┌───┐        ┌─┐         \n",
              "      link_qubit_0_0: ─────┤ X ├─────┤ X ├────────┤M├─────────\n",
              "                           └─┬─┘┌───┐└─┬─┘┌───┐   └╥┘┌─┐      \n",
              "      link_qubit_0_1: ───────┼──┤ X ├──┼──┤ X ├────╫─┤M├──────\n",
              "                      ┌───┐  │  └─┬─┘  │  └─┬─┘┌─┐ ║ └╥┘      \n",
              "      code_qubit_0_0: ┤ X ├──■────┼────┼────┼──┤M├─╫──╫───────\n",
              "                      ├───┤       │    │    │  └╥┘ ║  ║ ┌─┐   \n",
              "      code_qubit_0_1: ┤ X ├───────■────■────┼───╫──╫──╫─┤M├───\n",
              "                      ├───┤                 │   ║  ║  ║ └╥┘┌─┐\n",
              "      code_qubit_0_2: ┤ X ├─────────────────■───╫──╫──╫──╫─┤M├\n",
              "                      └───┘                     ║  ║  ║  ║ └╥┘\n",
              "round_0_link_bit_0: 2/══════════════════════════╬══╩══╩══╬══╬═\n",
              "                                                ║  0  1  ║  ║ \n",
              "                                                ║        ║  ║ \n",
              "        code_bit_0: 3/══════════════════════════╩════════╩══╩═\n",
              "                                                0        1  2 "
            ],
            "text/html": [
              "<pre style=\"word-wrap: normal;white-space: pre;background: #fff0;line-height: 1.1;font-family: &quot;Courier New&quot;,Courier,monospace\">                           ┌───┐     ┌───┐        ┌─┐         \n",
              "      link_qubit_0_0: ─────┤ X ├─────┤ X ├────────┤M├─────────\n",
              "                           └─┬─┘┌───┐└─┬─┘┌───┐   └╥┘┌─┐      \n",
              "      link_qubit_0_1: ───────┼──┤ X ├──┼──┤ X ├────╫─┤M├──────\n",
              "                      ┌───┐  │  └─┬─┘  │  └─┬─┘┌─┐ ║ └╥┘      \n",
              "      code_qubit_0_0: ┤ X ├──■────┼────┼────┼──┤M├─╫──╫───────\n",
              "                      ├───┤       │    │    │  └╥┘ ║  ║ ┌─┐   \n",
              "      code_qubit_0_1: ┤ X ├───────■────■────┼───╫──╫──╫─┤M├───\n",
              "                      ├───┤                 │   ║  ║  ║ └╥┘┌─┐\n",
              "      code_qubit_0_2: ┤ X ├─────────────────■───╫──╫──╫──╫─┤M├\n",
              "                      └───┘                     ║  ║  ║  ║ └╥┘\n",
              "round_0_link_bit_0: 2/══════════════════════════╬══╩══╩══╬══╬═\n",
              "                                                ║  0  1  ║  ║ \n",
              "                                                ║        ║  ║ \n",
              "        code_bit_0: 3/══════════════════════════╩════════╩══╩═\n",
              "                                                0        1  2 </pre>"
            ]
          },
          "metadata": {},
          "execution_count": 29
        }
      ],
      "source": [
        "code.circuit['1'].draw()"
      ]
    },
    {
      "cell_type": "markdown",
      "metadata": {
        "id": "F_qVEEiyG4-T"
      },
      "source": [
        "In these circuits, we have two types of physical qubits. There are the 'code qubits', which are the three physical qubits across which the logical state is encoded. There are also the 'link qubits', which serve as the ancilla qubits for the syndrome measurements.\n",
        "\n",
        "Our single round of syndrome measurements in these circuits consist of just two syndrome measurements. One compares code qubits 0 and 1, and the other compares code qubits 1 and 2. One might expect that a further measurement, comparing code qubits 0 and 2, should be required to create a full set. However, these two are sufficient. This is because of the information on whether 0 and 2 have the same z basis state can be inferred from the same information about 0 and 1 with that for 1 and 2. Indeed, for $n$ qubits, we can get the required information from just $n-1$ syndrome measurements of neighbouring pairs of qubits.\n",
        "\n",
        "Running these circuits on a simulator without any noise leads to very simple results."
      ]
    },
    {
      "cell_type": "code",
      "execution_count": null,
      "metadata": {
        "scrolled": false,
        "colab": {
          "base_uri": "https://localhost:8080/"
        },
        "id": "yfGZziRGG4-U",
        "outputId": "211e1b88-82d1-4c0c-cf12-d1ce48492efe"
      },
      "outputs": [
        {
          "output_type": "stream",
          "name": "stdout",
          "text": [
            "Logical 0: {'000 00': 1024}\n",
            "Logical 1: {'111 00': 1024}\n"
          ]
        }
      ],
      "source": [
        "def get_raw_results(code,noise_model=None):\n",
        "    circuits = code.get_circuit_list()\n",
        "    raw_results = {}\n",
        "    for log in range(2):\n",
        "        job = execute( circuits[log], Aer.get_backend('qasm_simulator'), noise_model=noise_model)\n",
        "        raw_results[str(log)] = job.result().get_counts(str(log))\n",
        "    return raw_results\n",
        "\n",
        "raw_results = get_raw_results(code)\n",
        "for log in raw_results:\n",
        "    print(f'Logical {log}: {raw_results[log]}')"
      ]
    },
    {
      "cell_type": "markdown",
      "metadata": {
        "id": "_k9v2BBXG4-U"
      },
      "source": [
        "Here we see that the output comes in two parts. The part on the right holds the outcomes of the two syndrome measurements. That on the left holds the outcomes of the three final measurements of the code qubits.\n",
        "\n",
        "For more measurement rounds, $T=4$ for example, we would have the results of more syndrome measurements on the right."
      ]
    },
    {
      "cell_type": "code",
      "execution_count": null,
      "metadata": {
        "colab": {
          "base_uri": "https://localhost:8080/"
        },
        "id": "m6R-G00RG4-U",
        "outputId": "440ce7d3-fe3a-46a8-d3a3-58267bcbceab"
      },
      "outputs": [
        {
          "output_type": "stream",
          "name": "stdout",
          "text": [
            "Logical 0: {'000 00 00 00 00': 1024}\n",
            "Logical 1: {'111 00 00 00 00': 1024}\n"
          ]
        }
      ],
      "source": [
        "code = RepetitionCode(n, 4)\n",
        "\n",
        "raw_results = get_raw_results(code)\n",
        "for log in raw_results:\n",
        "    print(f'Logical {log}: {raw_results[log]}')"
      ]
    },
    {
      "cell_type": "markdown",
      "metadata": {
        "id": "tdDgg9jKG4-U"
      },
      "source": [
        "For more repetitions, $n=5$ for example, each set of measurements would be larger. The final measurement on the left would be of $n$ qubits. The $T$ syndrome measurements would each be of the $n-1$ possible neighbouring pairs."
      ]
    },
    {
      "cell_type": "code",
      "execution_count": null,
      "metadata": {
        "colab": {
          "base_uri": "https://localhost:8080/"
        },
        "id": "4u72UcIYG4-V",
        "outputId": "4510a9ee-bcdd-4f9a-f13a-4796d94eef4d"
      },
      "outputs": [
        {
          "output_type": "stream",
          "name": "stdout",
          "text": [
            "Logical 0: {'00000 0000 0000 0000 0000': 1024}\n",
            "Logical 1: {'11111 0000 0000 0000 0000': 1024}\n"
          ]
        }
      ],
      "source": [
        "code = RepetitionCode(5, 4)\n",
        "\n",
        "raw_results = get_raw_results(code)\n",
        "for log in raw_results:\n",
        "    print(f'Logical {log}: {raw_results[log]}')"
      ]
    },
    {
      "cell_type": "markdown",
      "metadata": {
        "id": "VEcZGmowG4-V"
      },
      "source": [
        "### Lookup table decoding\n",
        "\n",
        "Now let's return to the $n=3$, $T=1$ example and look at a case with some noise."
      ]
    },
    {
      "cell_type": "code",
      "execution_count": null,
      "metadata": {
        "scrolled": true,
        "colab": {
          "base_uri": "https://localhost:8080/"
        },
        "id": "uKQdN29UG4-V",
        "outputId": "237a8586-7a58-4bc5-855e-bd0cfa26d66d"
      },
      "outputs": [
        {
          "output_type": "stream",
          "name": "stdout",
          "text": [
            "Logical 0: {'110 00': 2, '110 01': 1, '010 11': 1, '000 11': 9, '100 11': 1, '011 00': 3, '000 00': 641, '000 10': 58, '100 00': 48, '001 00': 56, '101 00': 10, '100 01': 9, '001 01': 9, '010 01': 31, '010 00': 49, '001 10': 8, '010 10': 8, '111 00': 2, '000 01': 72, '100 10': 6}\n",
            "\n",
            "Logical 1: {'100 11': 1, '010 10': 3, '101 10': 7, '001 11': 4, '011 01': 7, '010 00': 1, '001 10': 4, '110 01': 22, '101 00': 40, '111 01': 78, '011 10': 16, '111 00': 600, '101 01': 22, '101 11': 21, '011 00': 49, '110 00': 50, '111 11': 9, '001 00': 3, '111 10': 75, '100 01': 3, '001 01': 3, '010 01': 2, '110 10': 4}\n",
            "\n"
          ]
        }
      ],
      "source": [
        "code = RepetitionCode(3, 1)\n",
        "\n",
        "noise_model = get_noise(0.05, 0.05)\n",
        "\n",
        "raw_results = get_raw_results(code,noise_model)\n",
        "for log in raw_results:\n",
        "    print(f'Logical {log}: {raw_results[log]}\\n')"
      ]
    },
    {
      "cell_type": "markdown",
      "metadata": {
        "id": "GFqjO1lWG4-W"
      },
      "source": [
        "Here we have created `raw_results`, a dictionary that holds both the results for a circuit encoding a logical `0` and `1` encoded for a logical `1`.\n",
        "\n",
        "Our task when confronted with any of the possible outcomes we see here is to determine what the outcome should have been, if there was no noise. For an outcome of `'000 00'` or `'111 00'`, the answer is obvious. These are the results we just saw for a logical `0` and logical `1`, respectively, when no errors occur. The former is the most common outcome for the logical `0` even with noise, and the latter is the most common for the logical `1`. We will therefore conclude that the outcome was indeed that for logical `0` whenever we encounter `'000 00'`, and the same for logical `1` when we encounter `'111 00'`.\n",
        "\n",
        "Though this tactic is optimal, it can nevertheless fail. Note that `'111 00'` typically occurs in a handful of cases for an encoded `0`, and `'000 00'` similarly occurs for an encoded `1`. In this case, through no fault of our own, we will incorrectly decode the output. In these cases, a large number of errors conspired to make it look like we had a noiseless case of the opposite logical value, and so correction becomes impossible.\n",
        "\n",
        "We can employ a similar tactic to decode all other outcomes. The outcome `'001 00'`, for example, occurs far more for a logical `0` than a logical `1`. This is because it could be caused by just a single measurement error in the former case (which incorrectly reports a single `0` to be `1`), but would require at least two errors in the latter. So whenever we see `'001 00'`, we can decode it as a logical `0`.\n",
        "\n",
        "Applying this tactic over all the strings is a form of so-called 'lookup table decoding'. This is where every possible outcome is analyzed, and the most likely value to decode it as is determined. For many qubits, this quickly becomes intractable, as the number of possible outcomes becomes so large. In these cases, more algorithmic decoders are needed. However, lookup table decoding works well for testing out small codes.\n",
        "\n",
        "We can use tools in Qiskit to implement lookup table decoding for any code. For this we need two sets of results. One is the set of results that we actually want to decode, and for which we want to calculate the probability of incorrect decoding, $P$. We will use the `raw_results` we already have for this.\n",
        "\n",
        "The other set of results is one to be used as the lookup table. This will need to be run for a large number of samples, to ensure that it gets good statistics for each possible outcome. We'll use `shots=10000`.\n"
      ]
    },
    {
      "cell_type": "code",
      "execution_count": null,
      "metadata": {
        "id": "WuBu6yw6G4-W"
      },
      "outputs": [],
      "source": [
        "circuits = code.get_circuit_list()\n",
        "table_results = {}\n",
        "for log in range(2):\n",
        "    job = execute( circuits[log], Aer.get_backend('qasm_simulator'), noise_model=noise_model, shots=10000 )\n",
        "    table_results[str(log)] = job.result().get_counts(str(log))"
      ]
    },
    {
      "cell_type": "markdown",
      "metadata": {
        "id": "64vhRz3eG4-W"
      },
      "source": [
        "With this data, which we call `table_results`, we can now use the `lookuptable_decoding` function from Qiskit. This takes each outcome from `raw_results` and decodes it with the information in `table_results`. Then it checks if the decoding was correct, and uses this information to calculate $P$."
      ]
    },
    {
      "cell_type": "code",
      "execution_count": null,
      "metadata": {
        "colab": {
          "base_uri": "https://localhost:8080/"
        },
        "id": "FRlHhADoG4-W",
        "outputId": "7da70e66-5245-4b72-f159-031a4d5889a7"
      },
      "outputs": [
        {
          "output_type": "stream",
          "name": "stdout",
          "text": [
            "P = {'0': 0.0151, '1': 0.0262}\n"
          ]
        }
      ],
      "source": [
        "P = lookuptable_decoding(raw_results, table_results)\n",
        "print('P =', P)"
      ]
    },
    {
      "cell_type": "markdown",
      "metadata": {
        "id": "qCddvTR3G4-X"
      },
      "source": [
        "Here we see that the values for $P$ are lower than those for $p_{meas}$ and $p_{gate}$, so we get an improvement in the reliability for storing the bit value. Note also that the value of $P$ for an encoded `1` is higher than that for `0`. This is because the encoding of `1` requires the application of `x` gates, which are an additional source of noise."
      ]
    },
    {
      "cell_type": "markdown",
      "metadata": {
        "id": "aWhVfLtpG4-X"
      },
      "source": [
        "### Graph theoretic decoding\n",
        "\n",
        "The decoding considered above produces the best possible results, and does so without needing to use any details of the code. However, it has a major drawback that counters these advantages: the lookup table grows exponentially large as code size increases. For this reason, decoding is typically done in a more algorithmic manner that takes into account the structure of the code and its resulting syndromes.\n",
        "\n",
        "For the codes of `topological_codes` this structure is revealed using post-processing of the syndromes. Instead of using the form shown above, with the final measurement of the code qubits on the left and the outputs of the syndrome measurement rounds on the right, we use the `process_results` method of the code object to rewrite them in a different form.\n",
        "\n",
        "For example, below is the processed form of a `raw_results` dictionary, in this case for $n=3$ and $T=2$. Only results with 50 or more samples are shown for clarity."
      ]
    },
    {
      "cell_type": "code",
      "execution_count": null,
      "metadata": {
        "colab": {
          "base_uri": "https://localhost:8080/"
        },
        "id": "Y8LynLmWG4-X",
        "outputId": "82d53be1-dbe1-41e0-bc5c-7d824f24fa57"
      },
      "outputs": [
        {
          "output_type": "stream",
          "name": "stdout",
          "text": [
            "\n",
            "Logical 0:\n",
            "raw results        {'000 00 00': 450, '000 01 00': 63, '000 10 10': 59}\n",
            "processed results  {'0 0  00 00 00': 450, '0 0  00 01 01': 63, '0 0  10 10 00': 59}\n",
            "\n",
            "Logical 1:\n",
            "raw results        {'111 00 00': 451, '111 10 10': 53, '111 01 01': 52}\n",
            "processed results  {'1 1  00 00 00': 451, '1 1  10 10 00': 53, '1 1  01 01 00': 52}\n"
          ]
        }
      ],
      "source": [
        "code = RepetitionCode(3, 2)\n",
        "\n",
        "raw_results = get_raw_results(code, noise_model)\n",
        "\n",
        "results = code.process_results(raw_results)\n",
        "\n",
        "for log in ['0', '1']:\n",
        "    print(f'\\nLogical {log}:')\n",
        "    print('raw results       ', {string:raw_results[log][string] for string in raw_results[log] if raw_results[log][string]>=50 })\n",
        "    print('processed results ', {string:results[log][string] for string in results[log] if results[log][string]>=50 })"
      ]
    },
    {
      "cell_type": "markdown",
      "metadata": {
        "id": "xI5VW6YnG4-X"
      },
      "source": [
        "Here we can see that `'000 00 00'` has been transformed to `'0 0  00 00 00'`, and `'111 00 00'` to `'1 1  00 00 00'`, and so on.\n",
        "\n",
        "In these new strings, the `0 0` to the far left for the logical `0` results and the `1 1` to the far left of the logical `1` results are the logical readout. Any code qubit could be used for this readout, since they should (without errors) all be equal. It would therefore be possible in principle to just have a single `0` or `1` at this position. We could also do as in the original form of the result and have $n$, one for each qubit. Instead we use two, from the two qubits at either end of the line. The reason for this will be shown later. In the absence of errors, these two values will always be equal, since they represent the same encoded bit value.\n",
        "\n",
        "After the logical values follow the $n-1$ results of the syndrome measurements for the first round. A `0` implies that the corresponding pair of qubits have the same value, and `1` implies they are different from each other. There are $n-1$ results because the line of $d$ code qubits has $n-1$ possible neighboring pairs. In the absence of errors, they will all be `0`. This is exactly the same as the first such set of syndrome results from the original form of the result.\n",
        "\n",
        "The next block is the next round of syndrome results. However, rather than presenting these results directly, it instead gives us the syndrome change between the first and second rounds. It is therefore the bitwise `OR` of the syndrome measurement results from the second round with those from the first. In the absence of errors, they will all be `0`.\n",
        "\n",
        "Any subsequent blocks follow the same formula, though the last of all requires some comment. This is not measured using the standard method (with a link qubit). Instead it is calculated from the final readout measurement of all code qubits. Again it is presented as a syndrome change, and will be all `0` in the absence of errors. This is the $T+1$-th block of syndrome measurements since, as it is not done in the same way as the others, it is not counted among the $T$ syndrome measurement rounds.\n",
        "\n",
        "The following examples further illustrate this convention.\n",
        "\n",
        "**Example 1:** `0 0  0110 0000 0000` represents a $d=5$, $T=2$ repetition code with encoded `0`. The syndrome shows that (most likely) the middle code qubit was flipped by an error before the first measurement round. This causes it to disagree with both neighboring code qubits for the rest of the circuit. This is shown by the syndrome in the first round, but the blocks for subsequent rounds do not report it as it no longer represents a change. Other sets of errors could also have caused this syndrome, but they would need to be more complex and so presumably less likely.\n",
        "\n",
        "**Example 2:** `0 0  0010 0010 0000` represents a $d=5$, $T=2$ repetition code with encoded `0`. Here one of the syndrome measurements reported a difference between two code qubits in the first round, leading to a `1`. The next round did not see the same effect, and so resulted in a `0`. However, since this disagreed with the previous result for the same syndrome measurement, and since we track syndrome changes, this change results in another `1`. Subsequent rounds also do not detect anything, but this no longer represents a change and hence results in a `0` in the same position. Most likely the measurement result leading to the first `1` was an error.\n",
        "\n",
        "**Example 3:** `0 1  0000 0001 0000` represents a $d=5$, $T=2$ repetition code with encoded `1`. A code qubit on the end of the line is flipped before the second round of syndrome measurements. This is detected by only a single syndrome measurement, because it is on the end of the line. For the same reason, it also disturbs one of the logical readouts.\n",
        "\n",
        "Note that in all these examples, a single error causes exactly two characters in the string to change from the value they would have with no errors. This is the defining feature of the convention used to represent stabilizers in `topological_codes`. It is used to define the graph on which the decoding problem is defined.  \n",
        "\n",
        "Specifically, the graph is constructed by first taking the circuit encoding logical `0`, for which all bit values in the output string should be `0`. Many copies of this and then created and run on a simulator, with a different single Pauli operator inserted into each. This is done for each of the three types of Pauli operators on each of the qubits and at every circuit depth. The output from each of these circuits can be used to determine the effects of each possible single error. Since the circuit contains only Clifford operations, the simulation can be performed efficiently.\n",
        "\n",
        "In each case, the error will change exactly two of the characters (unless it has no effect). A graph is then constructed for which each bit of the output string corresponds to a node, and the pairs of bits affected by the same error correspond to an edge.\n",
        "\n",
        "The process of decoding a particular output string typically requires the algorithm to deduce which set of errors occurred, given the syndrome found in the output string. This can be done by constructing a second graph, containing only nodes that correspond to non-trivial syndrome bits in the output. An edge is then placed between each pair of nodes, with an corresponding weight equal to the length of the minimal path between those nodes in the original graph. A set of errors consistent with the syndrome then corresponds then to finding a perfect matching of this graph. To deduce the most likely set of errors to have occurred, a good tactic would be to find one with the least possible number of errors that is consistent with the observed syndrome. This corresponds to a minimum weight perfect matching of the graph.\n",
        "\n",
        "Using minimal weight perfect matching is a standard decoding technique for the repetition code and surface code, and is implemented in `topological_codes`. It can also be used in other cases, such as Color codes, but it does not find the best approximation of the most likely set of errors for every code and noise model. For that reason, other decoding techniques based on the same graph can be used. The `GraphDecoder` of `topological_codes` calculates these graphs for a given code, and will provide a range of methods to analyze it. At time of writing, only minimum weight perfect matching is implemented.\n",
        "\n",
        "Note that, for codes such as the surface code, it is not strictly true than each single error will change the value of only two bits in the output string. A $\\sigma^y$ error, for example would flip a pair of values corresponding to two different types of stabilizer, which are typically decoded independently. Output for these codes will therefore be presented in a way that acknowledges this, and analysis of such syndromes will correspondingly create multiple independent graphs to represent the different syndrome types."
      ]
    },
    {
      "cell_type": "markdown",
      "metadata": {
        "id": "lopBN1DTG4-X"
      },
      "source": [
        "## Running a repetition code benchmarking procedure\n",
        "\n",
        "We will now run examples of repetition codes on real devices, and use the results as a benchmark. First, we will briefly summarize the process. This applies to this example of the repetition code, but also for other benchmarking procedures in `topological_codes`, and indeed for `topological_codes` in general. In each case, the following three-step process is used.\n",
        "\n",
        "1. A task is defined. `topological_codes` determines the set of circuits that must be run and creates them.\n",
        "2. The circuits are run. This is typically done using Qiskit. However, in principle any service or experimental equipment could be interfaced.\n",
        "3. `topological_codes` is used to process the results from the circuits, to create the output required for the given task.\n",
        "\n",
        "For `topological_codes`, step 1 requires the type and size of quantum error correction code to be chosen. Each type of code has a dedicated Python class. A corresponding object is initialized by providing the parameters required, such as `n` and `T` for a `RepetitionCode` object. The resulting object then contains the circuits corresponding to the given code encoding simple logical qubit states (such as $\\left|0\\right\\rangle$ and $\\left|1\\right\\rangle$), and then running the procedure of error detection for a specified number of rounds, before final readout in a straightforward logical basis (typically a standard $\\left|0\\right\\rangle$ / $\\left|1\\right\\rangle$ measurement).\n",
        "\n",
        "For `topological_codes`, the main processing of step 3 is the decoding, which aims to mitigate for any errors in the final readout by using the information obtained from error detection. The optimal algorithm for decoding typically varies between codes. However, codes with similar structure often make use of similar methods.\n",
        "\n",
        "The aim of `topological_codes` is to provide a variety of decoding methods, implemented such that all the decoders can be used on all of the codes. This is done by restricting to codes for which decoding can be described as a graph-theoretic minimization problem. This classic example of such codes are the toric and surface codes. The property is also shared by 2D color codes and matching codes. All of these are prominent examples of so-called topological quantum error correcting codes, which led to the name of the subpackage. However, note that not all topological codes are compatible with such a decoder. Also, some non-topological codes will be compatible, such as the repetition code.\n",
        "\n",
        "The decoding is done by the `GraphDecoder` class. A corresponding object is initialized by providing the code object for which the decoding will be performed. This is then used to determine the graph on which the decoding problem will be defined. The results can then be processed using the various methods of the decoder object.\n",
        "\n",
        "In the following we will see the above ideas put into practice for the repetition code. In doing this we will employ two Boolean variables, `step_2` and `step_3`. The variable `step_2` is used to show which parts of the program need to be run when taking data from a device, and `step_3` is used to show the parts which process the resulting data.\n",
        "\n",
        "Both are set to false by default, to ensure that all the program snippets below can be run using only previously collected and processed data. However, to obtain new data one only needs to use `step_2 = True`, and perform decoding on any data one only needs to use `step_3 = True`."
      ]
    },
    {
      "cell_type": "code",
      "execution_count": null,
      "metadata": {
        "id": "CFt2I7H6G4-Y"
      },
      "outputs": [],
      "source": [
        "step_2 = False\n",
        "step_3 = False"
      ]
    },
    {
      "cell_type": "markdown",
      "metadata": {
        "id": "8XqgpeP4G4-Y"
      },
      "source": [
        "To benchmark a real device we need the tools required to access that device over the cloud, and compile circuits suitable to run on it. These are imported as follows."
      ]
    },
    {
      "cell_type": "code",
      "execution_count": null,
      "metadata": {
        "tags": [
          "uses-hardware"
        ],
        "id": "OgoFipTxG4-Y"
      },
      "outputs": [],
      "source": [
        "from qiskit import IBMQ\n",
        "from qiskit.compiler import transpile\n",
        "from qiskit.transpiler import PassManager"
      ]
    },
    {
      "cell_type": "markdown",
      "metadata": {
        "id": "JwsI9_rJG4-Y"
      },
      "source": [
        "We can now create the backend object, which is used to run the circuits. This is done by supplying the string used to specify the device. Here `'ibmq_16_melbourne'` is used, which has 15 active qubits at time of writing. We will also consider the 53 qubit *Rochester* device, which is specified with `'ibmq_rochester'`."
      ]
    },
    {
      "cell_type": "code",
      "execution_count": null,
      "metadata": {
        "tags": [
          "uses-hardware"
        ],
        "id": "8ibGme_9G4-Y"
      },
      "outputs": [],
      "source": [
        "device_name = 'ibmq_16_melbourne'\n",
        "\n",
        "if step_2:\n",
        "\n",
        "    IBMQ.load_account()\n",
        "\n",
        "    for provider in IBMQ.providers():\n",
        "        for potential_backend in provider.backends():\n",
        "            if potential_backend.name()==device_name:\n",
        "                backend = potential_backend\n",
        "\n",
        "    coupling_map = backend.configuration().coupling_map"
      ]
    },
    {
      "cell_type": "markdown",
      "metadata": {
        "id": "vIvk3DMFG4-Y"
      },
      "source": [
        "When running a circuit on a real device, a transpilation process is first implemented. This changes the gates of the circuit into the native gate set implement by the device. In some cases these changes are fairly trivial, such as expressing each Hadamard as a single qubit rotation by the corresponding Euler angles. However, the changes can be more major if the circuit does not respect the connectivity of the device. For example, suppose the circuit requires a controlled-NOT that is not directly implemented by the device. The effect must be then be reproduced with techniques such as using additional controlled-NOT gates to move the qubit states around. As well as introducing additional noise, this also delocalizes any noise already present. A single qubit error in the original circuit could become a multiqubit monstrosity under the action of the additional transpilation. Such non-trivial transpilation must therefore be prevented when running quantum error correction circuits.\n",
        "\n",
        "Tests of the repetition code require qubits to be effectively ordered along a line. The only controlled-NOT gates required are between neighbours along that line. Our first job is therefore to study the coupling map of the device, and find a line.\n",
        "\n",
        "![Fig. 1. The coupling map of the IBM Q Melbourne device.](images/melbourne.png)\n",
        "\n",
        "For Melbourne it is possible to find a line that covers all 15 qubits. The choice one specified in the list `line` below is designed to avoid the most error prone `cx` gates. For the 53 qubit *Rochester* device, there is no single line that covers all 53 qubits. Instead we can use the following choice, which covers 43."
      ]
    },
    {
      "cell_type": "code",
      "execution_count": null,
      "metadata": {
        "tags": [
          "uses-hardware"
        ],
        "id": "K0IAPa0rG4-Z"
      },
      "outputs": [],
      "source": [
        "if device_name=='ibmq_16_melbourne':\n",
        "    line = [13,14,0,1,2,12,11,3,4,10,9,5,6,8,7]\n",
        "elif device_name=='ibmq_rochester':\n",
        "    line = [10,11,17,23,22,21,20,19,16,7,8,9,5]#,0,1,2,3,4,6,13,14,15,18,27,26,25,29,36,37,38,41,50,49,48,47,46,45,44,43,42,39,30,31]"
      ]
    },
    {
      "cell_type": "markdown",
      "metadata": {
        "id": "UrvMvdkIG4-Z"
      },
      "source": [
        "Now we know how many qubits we have access to, we can create the repetition code objects for each code that we will run. Note that a code with `n` repetitions uses $n$ code qubits and $n-1$ link qubits, and so $2n-1$ in all."
      ]
    },
    {
      "cell_type": "code",
      "execution_count": null,
      "metadata": {
        "tags": [
          "uses-hardware"
        ],
        "id": "JEL6DelkG4-Z"
      },
      "outputs": [],
      "source": [
        "n_min = 3\n",
        "n_max = int((len(line)+1)/2)\n",
        "\n",
        "code = {}\n",
        "\n",
        "for n in range(n_min,n_max+1):\n",
        "    code[n] = RepetitionCode(n,1)"
      ]
    },
    {
      "cell_type": "markdown",
      "metadata": {
        "id": "tVL5YWTbG4-Z"
      },
      "source": [
        "Before running the circuits from these codes, we need to ensure that the transpiler knows which physical qubits on the device it should use. This means using the qubit of `line[0]` to serve as the first code qubit, that of `line[1]` to be the first link qubit, and so on. This is done by the following function, which takes a repetition code object and a `line`, and creates a Python dictionary to specify which qubit of the code corresponds to which element of the line."
      ]
    },
    {
      "cell_type": "code",
      "execution_count": null,
      "metadata": {
        "tags": [
          "uses-hardware"
        ],
        "id": "90p4nA6rG4-a"
      },
      "outputs": [],
      "source": [
        "def get_initial_layout(code,line):\n",
        "    initial_layout = {}\n",
        "    for j in range(n):\n",
        "        initial_layout[code.code_qubit[j]] = line[2*j]\n",
        "    for j in range(n-1):\n",
        "        initial_layout[code.link_qubit[j]] = line[2*j+1]\n",
        "    return initial_layout"
      ]
    },
    {
      "cell_type": "markdown",
      "metadata": {
        "id": "IdpLaxDuG4-a"
      },
      "source": [
        "Now we can transpile the circuits, to create the circuits that will actually be run by the device. A check is also made to ensure that the transpilation indeed has not introduced non-trivial effects by increasing the number of qubits. Furthermore, the compiled circuits are collected into a single list, to allow them all to be submitted at once in the same batch job."
      ]
    },
    {
      "cell_type": "code",
      "execution_count": null,
      "metadata": {
        "tags": [
          "uses-hardware"
        ],
        "id": "Vt1WbEzNG4-a"
      },
      "outputs": [],
      "source": [
        "if step_2:\n",
        "\n",
        "    circuits = []\n",
        "    for n in range(n_min,n_max+1):\n",
        "        initial_layout = get_initial_layout(code[n],line)\n",
        "        for log in ['0','1']:\n",
        "            circuits.append( transpile(code[n].circuit[log], backend=backend, initial_layout=initial_layout) )\n",
        "            num_cx = dict(circuits[-1].count_ops())['cx']\n",
        "            assert num_cx==2*(n-1), str(num_cx) + ' instead of ' + str(2*(n-1)) + ' cx gates for n = ' + str(n)"
      ]
    },
    {
      "cell_type": "markdown",
      "metadata": {
        "id": "rdG4_qw6G4-a"
      },
      "source": [
        "We are now ready to run the job. As with the simulated jobs considered already, the results from this are extracted into a dictionary `raw_results`. However, in this case it is extended to hold the results from different code sizes. This means that `raw_results[n]` in the following is equivalent to one of the `raw_results` dictionaries used earlier, for a given `n`."
      ]
    },
    {
      "cell_type": "code",
      "execution_count": null,
      "metadata": {
        "tags": [
          "uses-hardware"
        ],
        "id": "KwL38x09G4-a"
      },
      "outputs": [],
      "source": [
        "if step_2:\n",
        "\n",
        "    job = execute(circuits,backend,shots=8192)\n",
        "\n",
        "    raw_results = {}\n",
        "    j = 0\n",
        "    for d in range(n_min,n_max+1):\n",
        "        raw_results[d] = {}\n",
        "        for log in ['0','1']:\n",
        "            raw_results[d][log] = job.result().get_counts(j)\n",
        "            j += 1"
      ]
    },
    {
      "cell_type": "markdown",
      "metadata": {
        "id": "BriolktEG4-b"
      },
      "source": [
        "It can be convenient to save the data to file, so that the processing of step 3 can be done or repeated at a later time."
      ]
    },
    {
      "cell_type": "code",
      "execution_count": null,
      "metadata": {
        "tags": [
          "uses-hardware"
        ],
        "id": "Y7h_sjGTG4-b"
      },
      "outputs": [],
      "source": [
        "if step_2: # save results\n",
        "    with open('results/raw_results_'+device_name+'.txt', 'w') as file:\n",
        "        file.write(str(raw_results))\n",
        "elif step_3: # read results\n",
        "    with open('results/raw_results_'+device_name+'.txt', 'r') as file:\n",
        "        raw_results = eval(file.read())"
      ]
    },
    {
      "cell_type": "markdown",
      "metadata": {
        "id": "b6NdxDCJG4-b"
      },
      "source": [
        "As we saw previously, the process of decoding first needs the results to be rewritten in order for the syndrome to be expressed in the correct form. As such, the `process_results` method of each the repetition code object `code[n]` is used to create a results dictionary `results[n]` from each `raw_results[n]`."
      ]
    },
    {
      "cell_type": "code",
      "execution_count": null,
      "metadata": {
        "tags": [
          "uses-hardware"
        ],
        "id": "5iS7WFJjG4-b"
      },
      "outputs": [],
      "source": [
        "if step_3:\n",
        "    results = {}\n",
        "    for n in range(n_min,n_max+1):\n",
        "        results[n] = code[n].process_results( raw_results[n] )"
      ]
    },
    {
      "cell_type": "markdown",
      "metadata": {
        "id": "wYOnVA19G4-b"
      },
      "source": [
        "The decoding also needs us to set up the `GraphDecoder` object for each code. The initialization of these involves the construction of the graph corresponding to the syndrome, as described in the last section."
      ]
    },
    {
      "cell_type": "code",
      "execution_count": null,
      "metadata": {
        "tags": [
          "uses-hardware"
        ],
        "id": "e1c739XQG4-c"
      },
      "outputs": [],
      "source": [
        "if step_3:\n",
        "    dec = {}\n",
        "    for n in range(n_min,n_max+1):\n",
        "        dec[n] = GraphDecoder(code[n])"
      ]
    },
    {
      "cell_type": "markdown",
      "metadata": {
        "id": "4WcciVhrG4-c"
      },
      "source": [
        "Finally, the decoder object can be used to process the results. Here the default algorithm, minimum weight perfect matching, is used. The end result is a calculation of the logical error probability. When running step 3, the following snippet also saves the logical error probabilities. Otherwise, it reads in previously saved probabilities."
      ]
    },
    {
      "cell_type": "code",
      "execution_count": null,
      "metadata": {
        "tags": [
          "uses-hardware"
        ],
        "id": "js7iCyjAG4-c"
      },
      "outputs": [],
      "source": [
        "if step_3:\n",
        "\n",
        "    logical_prob_match = {}\n",
        "    for n in range(n_min,n_max+1):\n",
        "        logical_prob_match[n] = dec[n].get_logical_prob(results[n])\n",
        "\n",
        "    with open('./logical_prob_match_'+device_name+'.txt', 'w') as file:\n",
        "        file.write(str(logical_prob_match))\n",
        "\n",
        "else:\n",
        "    with open('./logical_prob_match_'+device_name+'.txt', 'r') as file:\n",
        "        logical_prob_match = eval(file.read())"
      ]
    },
    {
      "cell_type": "markdown",
      "metadata": {
        "id": "8Bn3H3ClG4-c"
      },
      "source": [
        "The resulting logical error probabilities are displayed in the following graph, which uses a log scale used on the y axis. We would expect that the logical error probability decays exponentially with increasing $n$. If this is the case, it is a confirmation that the device is compatible with this basis test of quantum error correction. If not, it implies that the qubits and gates are not sufficiently reliable.\n",
        "\n",
        "Fortunately, the results from IBM Q prototype devices typically do show the expected exponential decay. For the results below, we can see that small codes do represent an exception to this rule. Other deviations can also be expected, such as when an increase in the size of the code includes a group of qubits with either exceptionally low or high noise."
      ]
    },
    {
      "cell_type": "code",
      "execution_count": null,
      "metadata": {
        "tags": [
          "uses-hardware"
        ],
        "colab": {
          "base_uri": "https://localhost:8080/",
          "height": 449
        },
        "id": "sAJHlIvRG4-c",
        "outputId": "fe0249dc-04a9-42a2-91a2-ea2802ecbbba"
      },
      "outputs": [
        {
          "output_type": "display_data",
          "data": {
            "text/plain": [
              "<Figure size 640x480 with 1 Axes>"
            ],
            "image/png": "[encoded data removed]"
          },
          "metadata": {}
        }
      ],
      "source": [
        "import matplotlib.pyplot as plt\n",
        "import numpy as np\n",
        "\n",
        "x_axis = range(n_min,n_max+1)\n",
        "P = { log: [logical_prob_match[n][log] for n in x_axis] for log in ['0', '1'] }\n",
        "\n",
        "ax = plt.gca()\n",
        "plt.xlabel('Code distance, n')\n",
        "plt.ylabel('ln(Logical error probability)')\n",
        "ax.scatter( x_axis, P['0'], label=\"logical 0\")\n",
        "ax.scatter( x_axis, P['1'], label=\"logical 1\")\n",
        "ax.set_yscale('log')\n",
        "ax.set_ylim(ymax=1.5*max(P['0']+P['1']),ymin=0.75*min(P['0']+P['1']))\n",
        "plt.legend()\n",
        "\n",
        "plt.show()"
      ]
    },
    {
      "cell_type": "markdown",
      "metadata": {
        "id": "XuUCQm_hG4-d"
      },
      "source": [
        "Another insight we can gain is to use the results to determine how likely certain error processes are to occur.\n",
        "\n",
        "To do this we use the fact that each edge in the syndrome graph represents a particular form of error, occurring on a particular qubit at a particular point within the circuit. This is the unique single error that causes the syndrome values corresponding to both of the adjacent nodes to change. Using the results to estimate the probability of such a syndrome therefore allows us to estimate the probability of such an error event. Specifically, to first order it is clear that\n",
        "\n",
        "$$\n",
        "\\frac{p}{1-p} \\approx \\frac{C_{11}}{C_{00}}\n",
        "$$\n",
        "\n",
        "Here $p$ is the probability of the error corresponding to a particular edge, $C_{11}$ is the number of counts in the `results[n]['0']` corresponding to the syndrome value of both adjacent nodes being `1`, and $C_{00}$ is the same for them both being `0`.\n",
        "\n",
        "The decoder object has a method `weight_syndrome_graph` which determines these ratios, and assigns each edge the weight $-\\ln(p/(1-p))$. By employing this method and inspecting the weights, we can easily retrieve these probabilities."
      ]
    },
    {
      "cell_type": "code",
      "execution_count": null,
      "metadata": {
        "tags": [
          "uses-hardware"
        ],
        "id": "F7WV1w4XG4-d"
      },
      "outputs": [],
      "source": [
        "if step_3:\n",
        "\n",
        "    dec[n_max].weight_syndrome_graph(results=results[n_max])\n",
        "\n",
        "    probs = []\n",
        "    for edge in dec[n_max].S.edges:\n",
        "        ratio = np.exp(-dec[n_max].S.get_edge_data(edge[0],edge[1])['distance'])\n",
        "        probs.append( ratio/(1+ratio) )\n",
        "\n",
        "    with open('./probs_'+device_name+'.txt', 'w') as file:\n",
        "        file.write(str(probs))\n",
        "\n",
        "else:\n",
        "\n",
        "    with open('./probs_'+device_name+'.txt', 'r') as file:\n",
        "        probs = eval(file.read())"
      ]
    },
    {
      "cell_type": "markdown",
      "metadata": {
        "id": "W1aLdXA_G4-d"
      },
      "source": [
        "Rather than display the full list, we can obtain a summary via the mean, standard deviation, minimum, maximum and quartiles."
      ]
    },
    {
      "cell_type": "code",
      "execution_count": null,
      "metadata": {
        "tags": [
          "uses-hardware"
        ],
        "colab": {
          "base_uri": "https://localhost:8080/"
        },
        "id": "KPIAr2bGG4-d",
        "outputId": "5925896f-e15d-4d62-d8d8-77916bc7456f"
      },
      "outputs": [
        {
          "output_type": "execute_result",
          "data": {
            "text/plain": [
              "{'count': 29.0,\n",
              " 'mean': 0.1839624024105741,\n",
              " 'std': 0.08969281029182916,\n",
              " 'min': 0.032099523882660116,\n",
              " '25%': 0.1202076677316294,\n",
              " '50%': 0.15479808944854537,\n",
              " '75%': 0.2585266030013643,\n",
              " 'max': 0.3820573455512858}"
            ]
          },
          "metadata": {},
          "execution_count": 55
        }
      ],
      "source": [
        "import pandas as pd\n",
        "\n",
        "pd.Series(probs).describe().to_dict()"
      ]
    },
    {
      "cell_type": "markdown",
      "metadata": {
        "id": "kh6pRgOdG4-d"
      },
      "source": [
        "The benchmarking of the devices does not produce any set of error probabilities that is exactly equivalent. However, the probabilities for readout errors and controlled-NOT gate errors could serve as a good comparison. Specifically, we can use the `backend` object to obtain these values from the benchmarking."
      ]
    },
    {
      "cell_type": "code",
      "execution_count": null,
      "metadata": {
        "tags": [
          "uses-hardware"
        ],
        "colab": {
          "base_uri": "https://localhost:8080/"
        },
        "id": "U1TmZYV9G4-e",
        "outputId": "e6a46e40-adbb-4a29-dd6e-f6b74c40f3ec"
      },
      "outputs": [
        {
          "output_type": "execute_result",
          "data": {
            "text/plain": [
              "{'count': 43.0,\n",
              " 'mean': 0.03964249408264689,\n",
              " 'std': 0.022274869416574618,\n",
              " 'min': 0.01279016878072245,\n",
              " '25%': 0.025389504940856747,\n",
              " '50%': 0.03296455263355727,\n",
              " '75%': 0.046331516695269206,\n",
              " 'max': 0.11660000000000004}"
            ]
          },
          "metadata": {},
          "execution_count": 57
        }
      ],
      "source": [
        "if step_3:\n",
        "\n",
        "    gate_probs = []\n",
        "    for j,qubit in enumerate(line):\n",
        "\n",
        "        gate_probs.append( backend.properties().readout_error(qubit) )\n",
        "\n",
        "        cx1,cx2 = 0,0\n",
        "        if j>0:\n",
        "            gate_probs( backend.properties().gate_error('cx',[qubit,line[j-1]]) )\n",
        "        if j<len(line)-1:\n",
        "            gate_probs( backend.properties().gate_error('cx',[qubit,line[j+1]]) )\n",
        "\n",
        "    with open('./gate_probs_'+device_name+'.txt', 'w') as file:\n",
        "        file.write(str(gate_probs))\n",
        "\n",
        "else:\n",
        "\n",
        "    with open('./gate_probs_'+device_name+'.txt', 'r') as file:\n",
        "        gate_probs = eval(file.read())\n",
        "\n",
        "pd.Series(gate_probs).describe().to_dict()"
      ]
    },
    {
      "cell_type": "code",
      "execution_count": null,
      "metadata": {
        "scrolled": true,
        "colab": {
          "base_uri": "https://localhost:8080/"
        },
        "id": "fAwgIAkSG4-e",
        "outputId": "88c3acff-2cd9-4493-9dcd-dbf95b59a530"
      },
      "outputs": [
        {
          "output_type": "execute_result",
          "data": {
            "text/plain": [
              "{'qiskit-terra': '0.21.2', 'qiskit-aer': '0.10.4', 'qiskit-ignis': None, 'qiskit-ibmq-provider': '0.19.2', 'qiskit': '0.37.2', 'qiskit-nature': None, 'qiskit-finance': None, 'qiskit-optimization': None, 'qiskit-machine-learning': None}"
            ]
          },
          "metadata": {},
          "execution_count": 58
        }
      ],
      "source": [
        "import qiskit\n",
        "qiskit.__qiskit_version__"
      ]
    },
    {
      "cell_type": "code",
      "source": [
        "import numpy as np\n",
        "import matplotlib.pyplot as plt\n",
        "from qiskit import QuantumCircuit, Aer, execute\n",
        "from qiskit.providers.aer.noise import NoiseModel, pauli_error, depolarizing_error\n",
        "from qiskit.exceptions import QiskitError as NoiseError\n",
        "from qiskit.circuit.library import XGate, CXGate\n",
        "from topological_codes import RepetitionCode, lookuptable_decoding\n",
        "\n",
        "# Define the noise model\n",
        "def get_noise(p_meas, p_gate):\n",
        "    \"\"\"\n",
        "    Create a noise model for simulation.\n",
        "\n",
        "    Parameters:\n",
        "        p_meas: Probability of measurement error.\n",
        "        p_gate: Probability of gate error.\n",
        "\n",
        "    Returns:\n",
        "        NoiseModel: The noise model for the simulator.\n",
        "    \"\"\"\n",
        "    # Define measurement error\n",
        "    error_meas = pauli_error([(\"X\", p_meas), (\"I\", 1 - p_meas)])\n",
        "\n",
        "    # Define single-qubit gate depolarizing error\n",
        "    error_gate1 = depolarizing_error(p_gate, 1)\n",
        "\n",
        "    # Define two-qubit gate depolarizing error\n",
        "    error_gate2 = depolarizing_error(p_gate, 2)\n",
        "\n",
        "    # Create the noise model\n",
        "    noise_model = NoiseModel()\n",
        "    noise_model.add_all_qubit_quantum_error(error_meas, \"measure\")  # Measurement error\n",
        "    noise_model.add_all_qubit_quantum_error(error_gate1, [\"x\", \"h\"])  # Single-qubit gate errors\n",
        "    noise_model.add_all_qubit_quantum_error(error_gate2, [\"cx\"])  # Two-qubit gate errors\n",
        "\n",
        "    return noise_model\n",
        "\n",
        "# Function to run the simulation and compute results\n",
        "def simulate_repetition_code(n_values, p_meas, p_gate, shots=10000):\n",
        "    \"\"\"\n",
        "    Simulate the repetition code with noise.\n",
        "\n",
        "    Parameters:\n",
        "        n_values: List of code distances (e.g., [3, 5, 7]).\n",
        "        p_meas: Probability of measurement error.\n",
        "        p_gate: Probability of gate error.\n",
        "        shots: Number of shots for the simulation.\n",
        "\n",
        "    Returns:\n",
        "        results: Dictionary of logical error probabilities for each code distance.\n",
        "    \"\"\"\n",
        "    noise_model = get_noise(p_meas, p_gate)\n",
        "    results = {}\n",
        "\n",
        "    for n in n_values:\n",
        "        print(f\"\\nSimulating Code Distance {n}...\")\n",
        "        code = RepetitionCode(n, 1)  # Single round of error correction\n",
        "        raw_results = {}\n",
        "\n",
        "        # Simulate logical 0 and logical 1\n",
        "        for log in ['0', '1']:\n",
        "            circuit = code.circuit[log]\n",
        "            job = execute(circuit, Aer.get_backend('qasm_simulator'), noise_model=noise_model, shots=shots)\n",
        "            raw_results[log] = job.result().get_counts()\n",
        "\n",
        "        # Decode and compute logical error probabilities\n",
        "        table_results = {}\n",
        "        for log in ['0', '1']:\n",
        "            table_results[log] = raw_results[log]\n",
        "        logical_probs = lookuptable_decoding(raw_results, table_results)\n",
        "        results[n] = logical_probs\n",
        "\n",
        "        print(f\"Code Distance {n}: Logical 0 -> {logical_probs['0']:.4f}, Logical 1 -> {logical_probs['1']:.4f}\")\n",
        "\n",
        "    return results\n",
        "\n",
        "# Plot results\n",
        "def plot_results(results):\n",
        "    \"\"\"\n",
        "    Plot the logical error probabilities.\n",
        "\n",
        "    Parameters:\n",
        "        results: Dictionary of logical error probabilities for each code distance.\n",
        "    \"\"\"\n",
        "    code_distances = list(results.keys())\n",
        "    logical_0_probs = [results[n]['0'] for n in code_distances]\n",
        "    logical_1_probs = [results[n]['1'] for n in code_distances]\n",
        "\n",
        "    plt.figure(figsize=(8, 6))\n",
        "    plt.plot(code_distances, logical_0_probs, label=\"Logical 0\", marker='o')\n",
        "    plt.plot(code_distances, logical_1_probs, label=\"Logical 1\", marker='o')\n",
        "    plt.yscale('log')\n",
        "    plt.xlabel(\"Code Distance (n)\")\n",
        "    plt.ylabel(\"Logical Error Probability\")\n",
        "    plt.title(\"Logical Error Probability vs. Code Distance\")\n",
        "    plt.legend()\n",
        "    plt.grid()\n",
        "    plt.show()\n",
        "\n",
        "# Main Execution\n",
        "if __name__ == \"__main__\":\n",
        "    # Simulation parameters\n",
        "    n_values = range(3, 9, 2)  # Code distances\n",
        "    p_meas, p_gate = 0.01, 0.01  # Measurement and gate error probabilities\n",
        "    shots = 10000  # Number of shots\n",
        "\n",
        "    # Simulate and plot results\n",
        "    results = simulate_repetition_code(n_values, p_meas, p_gate, shots=shots)\n",
        "    plot_results(results)\n"
      ],
      "metadata": {
        "colab": {
          "base_uri": "https://localhost:8080/",
          "height": 720
        },
        "id": "dVD_sy9I883I",
        "outputId": "996b07c9-7196-4d77-cdba-dd283e086022"
      },
      "execution_count": null,
      "outputs": [
        {
          "output_type": "stream",
          "name": "stdout",
          "text": [
            "\n",
            "Simulating Code Distance 3...\n",
            "Code Distance 3: Logical 0 -> 0.0007, Logical 1 -> 0.0005\n",
            "\n",
            "Simulating Code Distance 5...\n",
            "Code Distance 5: Logical 0 -> 0.0000, Logical 1 -> 0.0000\n",
            "\n",
            "Simulating Code Distance 7...\n",
            "Code Distance 7: Logical 0 -> 0.0000, Logical 1 -> 0.0000\n"
          ]
        },
        {
          "output_type": "display_data",
          "data": {
            "text/plain": [
              "<Figure size 800x600 with 1 Axes>"
            ],
            "image/png": "[encoded data removed]"
          },
          "metadata": {}
        }
      ]
    },
    {
      "cell_type": "code",
      "source": [
        "from qiskit import QuantumCircuit, execute, Aer\n",
        "from qiskit.providers.aer.noise import NoiseModel, pauli_error, depolarizing_error\n",
        "from qiskit.visualization import plot_histogram\n",
        "import random\n",
        "\n",
        "# Define a simple noise model\n",
        "def get_noise(p_meas, p_gate):\n",
        "    error_meas = pauli_error([('X', p_meas), ('I', 1 - p_meas)])  # Measurement error\n",
        "    error_gate1 = depolarizing_error(p_gate, 1)  # Single-qubit gate error\n",
        "    error_gate2 = depolarizing_error(p_gate, 2)  # Two-qubit gate error\n",
        "\n",
        "    # Create noise model\n",
        "    noise_model = NoiseModel()\n",
        "    noise_model.add_all_qubit_quantum_error(error_meas, \"measure\")  # Measurement errors\n",
        "    noise_model.add_all_qubit_quantum_error(error_gate1, [\"x\"])  # Single-qubit gate errors\n",
        "    noise_model.add_all_qubit_quantum_error(error_gate2, [\"cx\"])  # Two-qubit gate errors\n",
        "    return noise_model\n",
        "\n",
        "# Majority voting for decoding (manual error correction)\n",
        "def majority_vote(bits):\n",
        "    \"\"\"Performs majority voting to decode a 3-bit repetition code.\"\"\"\n",
        "    return '1' if sum(int(bit) for bit in bits) > 1 else '0'\n",
        "\n",
        "# Simulate quantum key distribution and apply repetition code error correction\n",
        "# Simulate quantum key distribution and apply repetition code error correction\n",
        "def simulate_qkd_and_error_correction(key, noise_model=None):\n",
        "    n = len(key)  # Length of the key\n",
        "    repetition_code_circuit = QuantumCircuit(n * 3, n * 3)  # Use n * 3 classical bits for all measurements\n",
        "\n",
        "    # Encode the key using repetition code (3 qubits per logical qubit)\n",
        "    for i in range(n):\n",
        "        # Prepare the logical qubit (1 qubit for each bit)\n",
        "        if key[i] == 1:\n",
        "            repetition_code_circuit.x(i * 3)  # Apply X gate to encode 1\n",
        "\n",
        "        # Copy the logical qubit to 3 physical qubits\n",
        "        repetition_code_circuit.cx(i * 3, i * 3 + 1)\n",
        "        repetition_code_circuit.cx(i * 3, i * 3 + 2)\n",
        "\n",
        "    # Add measurement operations for all qubits (measure all physical qubits)\n",
        "    repetition_code_circuit.measure(range(n * 3), range(n * 3))  # Measure all the physical qubits into classical bits\n",
        "\n",
        "    # Simulate without error correction\n",
        "    backend = Aer.get_backend('qasm_simulator')\n",
        "    job = execute(repetition_code_circuit, backend, noise_model=noise_model, shots=1024)\n",
        "    raw_results = job.result().get_counts()\n",
        "\n",
        "    print(\"Raw Results (No Error Correction):\")\n",
        "    print(raw_results)  # Print raw noisy results to see the actual outcomes\n",
        "    plot_histogram(raw_results)  # Display raw noisy results\n",
        "\n",
        "    # Apply error correction using repetition code (majority voting)\n",
        "    corrected_results = {}\n",
        "    for key, value in raw_results.items():\n",
        "        # Decode using majority voting (3 qubits per logical qubit)\n",
        "        decoded_key = ''.join([majority_vote([key[i * 3 + j] for j in range(3)]) for i in range(n)])\n",
        "        corrected_results[decoded_key] = value\n",
        "\n",
        "    print(\"Corrected Results (With Error Correction):\")\n",
        "    print(corrected_results)  # Print corrected results to inspect them\n",
        "    plot_histogram(corrected_results)  # Display corrected results\n",
        "\n",
        "    return raw_results, corrected_results\n",
        "\n",
        "# Generate a random key (e.g., 4 bits long)\n",
        "key = [random.randint(0, 1) for _ in range(4)]\n",
        "print(f\"Original Key: {key}\")\n",
        "\n",
        "# Define noise parameters (measurement error = 10%, gate error = 5%)\n",
        "noise_model = get_noise(0.1, 0.05)\n",
        "\n",
        "# Simulate QKD with and without error correction\n",
        "raw_results, corrected_results = simulate_qkd_and_error_correction(key, noise_model)\n",
        "\n"
      ],
      "metadata": {
        "colab": {
          "base_uri": "https://localhost:8080/"
        },
        "id": "0K8yBD9-q_1l",
        "outputId": "01eca121-b72a-4e2a-a073-b263176b7d67"
      },
      "execution_count": null,
      "outputs": [
        {
          "output_type": "stream",
          "name": "stdout",
          "text": [
            "Original Key: [0, 0, 1, 0]\n",
            "Raw Results (No Error Correction):\n",
            "{'111101000000': 1, '001111100101': 1, '100010000110': 1, '011111100010': 1, '110111001000': 1, '001111000100': 3, '000111011000': 4, '111111101010': 1, '000111100101': 1, '011111001000': 1, '110111010000': 1, '100010000000': 1, '000111001101': 2, '011111000010': 2, '010111001100': 2, '100101000001': 1, '100111000110': 1, '001101001000': 1, '010011010000': 1, '001101000101': 1, '101111000001': 1, '010101101000': 1, '100000101000': 1, '000011010100': 1, '000001000001': 1, '000010001101': 1, '010101000001': 1, '000100000000': 3, '100101000100': 1, '000110001000': 6, '000000001100': 1, '000101000100': 3, '000000000100': 1, '110010000000': 2, '000111000100': 22, '000111010111': 1, '010101000010': 1, '100111000010': 3, '000100000010': 1, '111111110000': 1, '000111100000': 28, '010111010100': 1, '110111000000': 4, '100011000000': 5, '000011011000': 3, '000001001000': 1, '100011010100': 1, '000111110000': 4, '000111001100': 6, '000011010111': 1, '001111101000': 2, '110110010110': 1, '010101000000': 3, '000111000001': 25, '000000100001': 1, '000000100000': 3, '000101000001': 3, '010110100000': 1, '000010100010': 1, '000110100101': 2, '100011000001': 1, '000111101001': 2, '000000000000': 7, '000110010100': 1, '011011000000': 1, '100101000000': 3, '000111000010': 32, '100111010000': 4, '000101000011': 2, '110110100100': 1, '000111001111': 1, '000111100100': 3, '011111000000': 3, '000101110000': 1, '100000000000': 2, '101011001000': 1, '000010000100': 2, '010111000000': 28, '000111000000': 224, '110111101000': 1, '000111101000': 10, '000101010000': 5, '000111001001': 6, '010111000100': 2, '001001000100': 1, '001110000001': 2, '100111001100': 2, '100111000001': 5, '010100010000': 1, '101111000000': 10, '010111000010': 4, '100010100001': 1, '000110000100': 4, '010101010000': 1, '000111010110': 1, '000110000010': 1, '000011001100': 1, '010111100001': 2, '001111010000': 5, '100111011000': 3, '101011000000': 2, '000110000000': 31, '000111000111': 4, '011111100000': 1, '000110110000': 1, '000111100001': 2, '000111000110': 3, '110101100100': 1, '000011101000': 3, '011010100000': 1, '000101001001': 1, '000011010001': 1, '000011000100': 6, '000011000010': 7, '100111101000': 1, '000111001000': 31, '000111000101': 14, '100111000000': 23, '000110000011': 1, '000110100000': 4, '000101100001': 1, '000110000101': 1, '010111000001': 1, '111110000000': 1, '000011000001': 5, '010101000100': 3, '000011000000': 22, '000111010000': 30, '000101010001': 1, '000101000010': 3, '000101000000': 21, '001110010110': 1, '010111100100': 2, '000101101100': 1, '000000001101': 1, '010000000010': 1, '111111000000': 3, '001100000000': 1, '000010010000': 2, '000001000000': 3, '010111101000': 2, '000010000000': 7, '001111111101': 1, '000010001010': 1, '001111001000': 5, '001110000000': 6, '000100010011': 1, '000010010001': 1, '101101010100': 1, '000110101001': 1, '001111100000': 1, '100111100000': 4, '101111010111': 1, '000010010010': 1, '000110000001': 3, '100111000100': 2, '100110010001': 1, '101010000000': 1, '001111000000': 33, '101111010000': 1, '100100000000': 1, '010000000000': 1, '000001001100': 1, '010110000100': 1, '000111010100': 4, '000011000101': 1, '111011000001': 1, '000111111000': 3, '000111011001': 1, '110111010001': 1, '000101101000': 3, '000000000010': 1, '001111000001': 5, '000011100000': 2, '000111010001': 3, '010110000000': 2, '000101001000': 3, '010111000101': 1, '101111000100': 1, '000000000001': 1, '101101000010': 1, '000000101000': 2, '000011001000': 4, '000110010000': 6, '100111000101': 1, '001101000000': 2, '111111000011': 1, '000000100100': 2, '100011000101': 1, '000011010000': 2, '100111001000': 1, '010111100000': 3, '010111001000': 1, '101111000111': 1, '010111010000': 4, '000000000101': 1, '100101010100': 1, '010111000111': 1, '000110001010': 1, '001110000010': 1, '000101000101': 1, '001110111000': 1, '010001000000': 1, '001111000010': 1, '011111000001': 1, '010101010100': 1, '000011000110': 1, '100010010010': 1, '001011000001': 1, '100111101001': 1, '000110111100': 1, '001111110000': 1, '000111001010': 1, '000000001000': 3, '000110111000': 1, '010101000101': 1, '000100100010': 1, '100101000010': 1, '100100010000': 1, '000011000011': 2, '010010011010': 1, '000111111100': 1, '111000101000': 1, '001101110011': 1, '000010100000': 1, '011011100100': 1, '010011000000': 4, '111011000000': 1, '000111110010': 1, '001010000100': 1, '000010001001': 1, '000111010010': 1, '000000011001': 1, '010101111100': 1, '111111001000': 1, '000010011000': 1, '001001000000': 1, '000101100000': 2, '010111000110': 1, '001000000000': 1, '000100000101': 1, '010011001101': 1, '110010000110': 1, '100110101000': 1, '000001100000': 1, '010111001010': 2, '001101111001': 1, '000111000011': 3, '110011001001': 1, '010000000100': 1, '000001010010': 1, '111010000000': 1, '001010000010': 2, '011010101100': 1, '101111001000': 1, '100111001001': 1, '011101001001': 1, '001110110001': 1, '010010000000': 1}\n",
            "Corrected Results (With Error Correction):\n",
            "{'1100': 1, '0101': 3, '0001': 1, '0100': 1, '0110': 1, '1110': 1, '0000': 1, '0010': 1, '1000': 1, '1101': 1, '0111': 1, '1010': 1, '1001': 1}\n"
          ]
        }
      ]
    },
    {
      "cell_type": "code",
      "source": [
        "!pip install qiskit[visualization]"
      ],
      "metadata": {
        "id": "N2aVWIGosycl"
      },
      "execution_count": null,
      "outputs": []
    },
    {
      "cell_type": "code",
      "source": [
        "p1 = 0.01\n",
        "p3 = 3 * p1**2 * (1-p1) + p1**3 # probability of 2 or 3 errors\n",
        "print('Probability of a single reply being garbled: {}'.format(p1))\n",
        "print('Probability of a the majority of three replies being garbled: {:.4f}'.format(p3))\n",
        "\n",
        "from qiskit.providers.aer.noise import NoiseModel\n",
        "from qiskit.providers.aer.noise.errors import pauli_error, depolarizing_error\n",
        "\n",
        "def get_noise(p_meas,p_gate):\n",
        "\n",
        "    error_meas = pauli_error([('X',p_meas), ('I', 1 - p_meas)])\n",
        "    error_gate1 = depolarizing_error(p_gate, 1)\n",
        "    error_gate2 = error_gate1.tensor(error_gate1)\n",
        "\n",
        "    noise_model = NoiseModel()\n",
        "    noise_model.add_all_qubit_quantum_error(error_meas, \"measure\") # measurement error is applied to measurements\n",
        "    noise_model.add_all_qubit_quantum_error(error_gate1, [\"x\"]) # single qubit gate error is applied to x gates\n",
        "    noise_model.add_all_qubit_quantum_error(error_gate2, [\"cx\"]) # two qubit gate error is applied to cx gates\n",
        "\n",
        "    return noise_model\n",
        "\n",
        "noise_model = get_noise(0.01,0.01)\n",
        "\n",
        "\n",
        "\n",
        "from qiskit import QuantumCircuit, execute, Aer\n",
        "\n",
        "qc0 = QuantumCircuit(3,3,name='0') # initialize circuit with three qubits in the 0 state\n",
        "\n",
        "qc0.measure(qc0.qregs[0],qc0.cregs[0]) # measure the qubits\n",
        "\n",
        "# run the circuit with th noise model and extract the counts\n",
        "counts = execute( qc0, Aer.get_backend('qasm_simulator'),noise_model=noise_model).result().get_counts()\n",
        "\n",
        "print(counts)\n",
        "\n",
        "\n",
        "\n",
        "# ...almost all results still come out '000',...\n",
        "assert counts['000'] > sum(counts.values())*0.95\n",
        "\n",
        "qc1 = QuantumCircuit(3, 3, name='0') # initialize circuit with three qubits in the 0 state\n",
        "qc1.x(qc1.qregs[0]) # flip each 0 to 1\n",
        "\n",
        "qc1.measure(qc1.qregs[0],qc1.cregs[0]) # measure the qubits\n",
        "\n",
        "# run the circuit with th noise model and extract the counts\n",
        "counts = execute(qc1, Aer.get_backend('qasm_simulator'),noise_model=noise_model).result().get_counts()\n",
        "\n",
        "print(counts)\n",
        "\n",
        "# ...number of samples that come out with a majority in the wrong state\n",
        "# (0 in this case) is again much less than 10,...\n",
        "assert counts.get('000', 0) < 10\n",
        "\n",
        "\n",
        "noise_model = get_noise(0.5,0.0)\n",
        "counts = execute(qc1, Aer.get_backend('qasm_simulator'),noise_model=noise_model).result().get_counts()\n",
        "print(counts)\n",
        "\n",
        "# ...all outcomes occur with equal probability, with\n",
        "# differences in results being due only to statistical noise.\n",
        "assert max(counts.values()) < 200\n",
        "\n",
        "from qiskit import QuantumRegister, ClassicalRegister\n",
        "\n",
        "cq = QuantumRegister(2, 'code_qubit')\n",
        "lq = QuantumRegister(1, 'ancilla_qubit')\n",
        "sb = ClassicalRegister(1, 'syndrome_bit')\n",
        "qc = QuantumCircuit(cq, lq, sb)\n",
        "qc.cx(cq[0], lq[0])\n",
        "qc.cx(cq[1], lq[0])\n",
        "qc.measure(lq, sb)\n",
        "qc.draw()\n",
        "\n",
        "\n",
        "qc_init = QuantumCircuit(cq, lq, sb)\n",
        "\n",
        "qc_init.compose(qc).draw()\n",
        "\n",
        "\n",
        "counts = execute(qc_init.compose(qc), Aer.get_backend('qasm_simulator')).result().get_counts()\n",
        "print('Results:', counts)\n",
        "\n",
        "# The outcome, in all cases, is 0.\n",
        "assert list(counts.keys()) == ['0']\n",
        "\n",
        "qc_init = QuantumCircuit(cq, lq, sb)\n",
        "qc_init.x(cq)\n",
        "\n",
        "qc_init.compose(qc).draw()\n",
        "\n",
        "counts = execute(qc_init.compose(qc), Aer.get_backend('qasm_simulator')).result().get_counts()\n",
        "print('Results:', counts)\n",
        "\n",
        "# The outcome in this case is also always 0.\n",
        "assert list(counts.keys()) == ['0']\n",
        "\n",
        "qc_init = QuantumCircuit(cq, lq, sb)\n",
        "qc_init.h(cq[0])\n",
        "qc_init.cx(cq[0], cq[1])\n",
        "\n",
        "qc_init.compose(qc).draw()\n",
        "\n",
        "counts = execute(qc_init.compose(qc), Aer.get_backend('qasm_simulator')).result().get_counts()\n",
        "print('Results:', counts)\n",
        "\n",
        "# ...we can expect the same to be true also for\n",
        "# any superposition of |00⟩ and |11⟩...\n",
        "assert list(counts.keys()) == ['0']\n",
        "\n",
        "qc_init = QuantumCircuit(cq, lq, sb)\n",
        "qc_init.h(cq[0])\n",
        "qc_init.cx(cq[0],cq[1])\n",
        "qc_init.x(cq[0])\n",
        "\n",
        "qc_init.compose(qc).draw()\n",
        "\n",
        "counts = execute(qc_init.compose(qc), Aer.get_backend('qasm_simulator')).result().get_counts()\n",
        "print('Results:',counts)\n",
        "\n",
        "# In such cases the output is always '1'.\n",
        "assert list(counts.keys()) == ['1']\n",
        "\n",
        "!pip install git+https://github.com/NCCR-SPIN/topological_codes.git\n",
        "\n",
        "from topological_codes import RepetitionCode\n",
        "from topological_codes import lookuptable_decoding\n",
        "from topological_codes import GraphDecoder\n",
        "\n",
        "n = 3\n",
        "T = 1\n",
        "\n",
        "code = RepetitionCode(n, T)\n",
        "\n",
        "code.circuit['0'].draw()\n",
        "\n",
        "code.circuit['1'].draw()\n",
        "\n",
        "def get_raw_results(code,noise_model=None):\n",
        "    circuits = code.get_circuit_list()\n",
        "    raw_results = {}\n",
        "    for log in range(2):\n",
        "        job = execute( circuits[log], Aer.get_backend('qasm_simulator'), noise_model=noise_model)\n",
        "        raw_results[str(log)] = job.result().get_counts(str(log))\n",
        "    return raw_results\n",
        "\n",
        "raw_results = get_raw_results(code)\n",
        "for log in raw_results:\n",
        "    print(f'Logical {log}: {raw_results[log]}')\n",
        "\n",
        "code = RepetitionCode(n, 4)\n",
        "\n",
        "raw_results = get_raw_results(code)\n",
        "for log in raw_results:\n",
        "    print(f'Logical {log}: {raw_results[log]}')\n",
        "\n",
        "code = RepetitionCode(5, 4)\n",
        "\n",
        "raw_results = get_raw_results(code)\n",
        "for log in raw_results:\n",
        "    print(f'Logical {log}: {raw_results[log]}')\n",
        "\n",
        "code = RepetitionCode(3, 1)\n",
        "\n",
        "noise_model = get_noise(0.05, 0.05)\n",
        "\n",
        "raw_results = get_raw_results(code,noise_model)\n",
        "for log in raw_results:\n",
        "    print(f'Logical {log}: {raw_results[log]}\\n')\n",
        "\n",
        "circuits = code.get_circuit_list()\n",
        "table_results = {}\n",
        "for log in range(2):\n",
        "    job = execute( circuits[log], Aer.get_backend('qasm_simulator'), noise_model=noise_model, shots=10000 )\n",
        "    table_results[str(log)] = job.result().get_counts(str(log))\n",
        "\n",
        "P = lookuptable_decoding(raw_results, table_results)\n",
        "print('P =', P)\n",
        "\n",
        "code = RepetitionCode(3, 2)\n",
        "\n",
        "raw_results = get_raw_results(code, noise_model)\n",
        "\n",
        "results = code.process_results(raw_results)\n",
        "\n",
        "for log in ['0', '1']:\n",
        "    print(f'\\nLogical {log}:')\n",
        "    print('raw results       ', {string:raw_results[log][string] for string in raw_results[log] if raw_results[log][string]>=50 })\n",
        "    print('processed results ', {string:results[log][string] for string in results[log] if results[log][string]>=50 })\n",
        "\n",
        "\n",
        "step_2 = False\n",
        "step_3 = False\n",
        "\n",
        "from qiskit import IBMQ\n",
        "from qiskit.compiler import transpile\n",
        "from qiskit.transpiler import PassManager\n",
        "\n",
        "device_name = 'ibmq_16_melbourne'\n",
        "\n",
        "if step_2:\n",
        "\n",
        "    IBMQ.load_account()\n",
        "\n",
        "    for provider in IBMQ.providers():\n",
        "        for potential_backend in provider.backends():\n",
        "            if potential_backend.name()==device_name:\n",
        "                backend = potential_backend\n",
        "\n",
        "    coupling_map = backend.configuration().coupling_map\n",
        "\n",
        "if device_name=='ibmq_16_melbourne':\n",
        "    line = [13,14,0,1,2,12,11,3,4,10,9,5,6,8,7]\n",
        "elif device_name=='ibmq_rochester':\n",
        "    line = [10,11,17,23,22,21,20,19,16,7,8,9,5]#,0,1,2,3,4,6,13,14,15,18,27,26,25,29,36,37,38,41,50,49,48,47,46,45,44,43,42,39,30,31]\n",
        "\n",
        "n_min = 3\n",
        "n_max = int((len(line)+1)/2)\n",
        "\n",
        "code = {}\n",
        "\n",
        "for n in range(n_min,n_max+1):\n",
        "    code[n] = RepetitionCode(n,1)\n",
        "\n",
        "def get_initial_layout(code,line):\n",
        "    initial_layout = {}\n",
        "    for j in range(n):\n",
        "        initial_layout[code.code_qubit[j]] = line[2*j]\n",
        "    for j in range(n-1):\n",
        "        initial_layout[code.link_qubit[j]] = line[2*j+1]\n",
        "    return initial_layout\n",
        "\n",
        "if step_2:\n",
        "\n",
        "    circuits = []\n",
        "    for n in range(n_min,n_max+1):\n",
        "        initial_layout = get_initial_layout(code[n],line)\n",
        "        for log in ['0','1']:\n",
        "            circuits.append( transpile(code[n].circuit[log], backend=backend, initial_layout=initial_layout) )\n",
        "            num_cx = dict(circuits[-1].count_ops())['cx']\n",
        "            assert num_cx==2*(n-1), str(num_cx) + ' instead of ' + str(2*(n-1)) + ' cx gates for n = ' + str(n)\n",
        "\n",
        "if step_2:\n",
        "\n",
        "    job = execute(circuits,backend,shots=8192)\n",
        "\n",
        "    raw_results = {}\n",
        "    j = 0\n",
        "    for d in range(n_min,n_max+1):\n",
        "        raw_results[d] = {}\n",
        "        for log in ['0','1']:\n",
        "            raw_results[d][log] = job.result().get_counts(j)\n",
        "            j += 1\n",
        "\n",
        "if step_2: # save results\n",
        "    with open('results/raw_results_'+device_name+'.txt', 'w') as file:\n",
        "        file.write(str(raw_results))\n",
        "elif step_3: # read results\n",
        "    with open('results/raw_results_'+device_name+'.txt', 'r') as file:\n",
        "        raw_results = eval(file.read())\n",
        "\n",
        "if step_3:\n",
        "    results = {}\n",
        "    for n in range(n_min,n_max+1):\n",
        "        results[n] = code[n].process_results( raw_results[n] )\n",
        "\n",
        "if step_3:\n",
        "    dec = {}\n",
        "    for n in range(n_min,n_max+1):\n",
        "        dec[n] = GraphDecoder(code[n])\n",
        "\n",
        "if step_3:\n",
        "\n",
        "    logical_prob_match = {}\n",
        "    for n in range(n_min,n_max+1):\n",
        "        logical_prob_match[n] = dec[n].get_logical_prob(results[n])\n",
        "\n",
        "    with open('./logical_prob_match_'+device_name+'.txt', 'w') as file:\n",
        "        file.write(str(logical_prob_match))\n",
        "\n",
        "else:\n",
        "    with open('./logical_prob_match_'+device_name+'.txt', 'r') as file:\n",
        "        logical_prob_match = eval(file.read())\n",
        "\n",
        "import matplotlib.pyplot as plt\n",
        "import numpy as np\n",
        "\n",
        "x_axis = range(n_min,n_max+1)\n",
        "P = { log: [logical_prob_match[n][log] for n in x_axis] for log in ['0', '1'] }\n",
        "\n",
        "ax = plt.gca()\n",
        "plt.xlabel('Code distance, n')\n",
        "plt.ylabel('ln(Logical error probability)')\n",
        "ax.scatter( x_axis, P['0'], label=\"logical 0\")\n",
        "ax.scatter( x_axis, P['1'], label=\"logical 1\")\n",
        "ax.set_yscale('log')\n",
        "ax.set_ylim(ymax=1.5*max(P['0']+P['1']),ymin=0.75*min(P['0']+P['1']))\n",
        "plt.legend()\n",
        "\n",
        "plt.show()\n",
        "\n",
        "\n",
        "if step_3:\n",
        "\n",
        "    dec[n_max].weight_syndrome_graph(results=results[n_max])\n",
        "\n",
        "    probs = []\n",
        "    for edge in dec[n_max].S.edges:\n",
        "        ratio = np.exp(-dec[n_max].S.get_edge_data(edge[0],edge[1])['distance'])\n",
        "        probs.append( ratio/(1+ratio) )\n",
        "\n",
        "    with open('./probs_'+device_name+'.txt', 'w') as file:\n",
        "        file.write(str(probs))\n",
        "\n",
        "else:\n",
        "\n",
        "    with open('./probs_'+device_name+'.txt', 'r') as file:\n",
        "        probs = eval(file.read())\n",
        "\n",
        "\n",
        "import pandas as pd\n",
        "\n",
        "pd.Series(probs).describe().to_dict()\n",
        "\n",
        "if step_3:\n",
        "\n",
        "    gate_probs = []\n",
        "    for j,qubit in enumerate(line):\n",
        "\n",
        "        gate_probs.append( backend.properties().readout_error(qubit) )\n",
        "\n",
        "        cx1,cx2 = 0,0\n",
        "        if j>0:\n",
        "            gate_probs( backend.properties().gate_error('cx',[qubit,line[j-1]]) )\n",
        "        if j<len(line)-1:\n",
        "            gate_probs( backend.properties().gate_error('cx',[qubit,line[j+1]]) )\n",
        "\n",
        "    with open('./gate_probs_'+device_name+'.txt', 'w') as file:\n",
        "        file.write(str(gate_probs))\n",
        "\n",
        "else:\n",
        "\n",
        "    with open('./gate_probs_'+device_name+'.txt', 'r') as file:\n",
        "        gate_probs = eval(file.read())\n",
        "\n",
        "pd.Series(gate_probs).describe().to_dict()\n",
        "\n",
        "import qiskit\n",
        "qiskit.__qiskit_version__"
      ],
      "metadata": {
        "colab": {
          "base_uri": "https://localhost:8080/",
          "height": 1000
        },
        "id": "naWY-JLowgcx",
        "outputId": "394277c4-139e-4a73-8d33-0bf0602e3233"
      },
      "execution_count": null,
      "outputs": [
        {
          "output_type": "stream",
          "name": "stdout",
          "text": [
            "Probability of a single reply being garbled: 0.01\n",
            "Probability of a the majority of three replies being garbled: 0.0003\n",
            "{'011': 1, '001': 7, '100': 15, '010': 10, '000': 991}\n",
            "{'100': 1, '001': 1, '110': 11, '101': 19, '011': 17, '111': 975}\n",
            "{'101': 123, '010': 127, '000': 127, '001': 119, '011': 139, '111': 114, '100': 136, '110': 139}\n",
            "Results: {'0': 1024}\n",
            "Results: {'0': 1024}\n",
            "Results: {'0': 1024}\n",
            "Results: {'1': 1024}\n",
            "Collecting git+https://github.com/NCCR-SPIN/topological_codes.git\n",
            "  Cloning https://github.com/NCCR-SPIN/topological_codes.git to /tmp/pip-req-build-agys2nuw\n",
            "  Running command git clone --filter=blob:none --quiet https://github.com/NCCR-SPIN/topological_codes.git /tmp/pip-req-build-agys2nuw\n",
            "  Resolved https://github.com/NCCR-SPIN/topological_codes.git to commit 96da34178de90688b47a8c986ee1c263f936e283\n",
            "  Preparing metadata (setup.py) ... \u001b[?25l\u001b[?25hdone\n",
            "Requirement already satisfied: qiskit in /usr/local/lib/python3.10/dist-packages (from topological_codes==0.0.1) (0.37.2)\n",
            "Requirement already satisfied: qiskit-terra==0.21.2 in /usr/local/lib/python3.10/dist-packages (from qiskit->topological_codes==0.0.1) (0.21.2)\n",
            "Requirement already satisfied: qiskit-aer==0.10.4 in /usr/local/lib/python3.10/dist-packages (from qiskit->topological_codes==0.0.1) (0.10.4)\n",
            "Requirement already satisfied: qiskit-ibmq-provider==0.19.2 in /usr/local/lib/python3.10/dist-packages (from qiskit->topological_codes==0.0.1) (0.19.2)\n",
            "Requirement already satisfied: numpy>=1.16.3 in /usr/local/lib/python3.10/dist-packages (from qiskit-aer==0.10.4->qiskit->topological_codes==0.0.1) (1.26.4)\n",
            "Requirement already satisfied: scipy>=1.0 in /usr/local/lib/python3.10/dist-packages (from qiskit-aer==0.10.4->qiskit->topological_codes==0.0.1) (1.13.1)\n",
            "Requirement already satisfied: requests>=2.19 in /usr/local/lib/python3.10/dist-packages (from qiskit-ibmq-provider==0.19.2->qiskit->topological_codes==0.0.1) (2.32.3)\n",
            "Requirement already satisfied: requests-ntlm>=1.1.0 in /usr/local/lib/python3.10/dist-packages (from qiskit-ibmq-provider==0.19.2->qiskit->topological_codes==0.0.1) (1.3.0)\n",
            "Requirement already satisfied: urllib3>=1.21.1 in /usr/local/lib/python3.10/dist-packages (from qiskit-ibmq-provider==0.19.2->qiskit->topological_codes==0.0.1) (2.2.3)\n",
            "Requirement already satisfied: python-dateutil>=2.8.0 in /usr/local/lib/python3.10/dist-packages (from qiskit-ibmq-provider==0.19.2->qiskit->topological_codes==0.0.1) (2.8.2)\n",
            "Requirement already satisfied: websocket-client>=1.0.1 in /usr/local/lib/python3.10/dist-packages (from qiskit-ibmq-provider==0.19.2->qiskit->topological_codes==0.0.1) (1.8.0)\n",
            "Requirement already satisfied: websockets>=10.0 in /usr/local/lib/python3.10/dist-packages (from qiskit-ibmq-provider==0.19.2->qiskit->topological_codes==0.0.1) (14.1)\n",
            "Requirement already satisfied: retworkx>=0.11.0 in /usr/local/lib/python3.10/dist-packages (from qiskit-terra==0.21.2->qiskit->topological_codes==0.0.1) (0.15.1)\n",
            "Requirement already satisfied: ply>=3.10 in /usr/local/lib/python3.10/dist-packages (from qiskit-terra==0.21.2->qiskit->topological_codes==0.0.1) (3.11)\n",
            "Requirement already satisfied: psutil>=5 in /usr/local/lib/python3.10/dist-packages (from qiskit-terra==0.21.2->qiskit->topological_codes==0.0.1) (5.9.5)\n",
            "Requirement already satisfied: sympy>=1.3 in /usr/local/lib/python3.10/dist-packages (from qiskit-terra==0.21.2->qiskit->topological_codes==0.0.1) (1.13.1)\n",
            "Requirement already satisfied: dill>=0.3 in /usr/local/lib/python3.10/dist-packages (from qiskit-terra==0.21.2->qiskit->topological_codes==0.0.1) (0.3.9)\n",
            "Requirement already satisfied: stevedore>=3.0.0 in /usr/local/lib/python3.10/dist-packages (from qiskit-terra==0.21.2->qiskit->topological_codes==0.0.1) (5.4.0)\n",
            "Requirement already satisfied: tweedledum<2.0,>=1.1 in /usr/local/lib/python3.10/dist-packages (from qiskit-terra==0.21.2->qiskit->topological_codes==0.0.1) (1.1.1)\n",
            "Requirement already satisfied: symengine>=0.9 in /usr/local/lib/python3.10/dist-packages (from qiskit-terra==0.21.2->qiskit->topological_codes==0.0.1) (0.13.0)\n",
            "Requirement already satisfied: six>=1.5 in /usr/local/lib/python3.10/dist-packages (from python-dateutil>=2.8.0->qiskit-ibmq-provider==0.19.2->qiskit->topological_codes==0.0.1) (1.16.0)\n",
            "Requirement already satisfied: charset-normalizer<4,>=2 in /usr/local/lib/python3.10/dist-packages (from requests>=2.19->qiskit-ibmq-provider==0.19.2->qiskit->topological_codes==0.0.1) (3.4.0)\n",
            "Requirement already satisfied: idna<4,>=2.5 in /usr/local/lib/python3.10/dist-packages (from requests>=2.19->qiskit-ibmq-provider==0.19.2->qiskit->topological_codes==0.0.1) (3.10)\n",
            "Requirement already satisfied: certifi>=2017.4.17 in /usr/local/lib/python3.10/dist-packages (from requests>=2.19->qiskit-ibmq-provider==0.19.2->qiskit->topological_codes==0.0.1) (2024.8.30)\n",
            "Requirement already satisfied: cryptography>=1.3 in /usr/local/lib/python3.10/dist-packages (from requests-ntlm>=1.1.0->qiskit-ibmq-provider==0.19.2->qiskit->topological_codes==0.0.1) (43.0.3)\n",
            "Requirement already satisfied: pyspnego>=0.4.0 in /usr/local/lib/python3.10/dist-packages (from requests-ntlm>=1.1.0->qiskit-ibmq-provider==0.19.2->qiskit->topological_codes==0.0.1) (0.11.2)\n",
            "Requirement already satisfied: rustworkx==0.15.1 in /usr/local/lib/python3.10/dist-packages (from retworkx>=0.11.0->qiskit-terra==0.21.2->qiskit->topological_codes==0.0.1) (0.15.1)\n",
            "Requirement already satisfied: pbr>=2.0.0 in /usr/local/lib/python3.10/dist-packages (from stevedore>=3.0.0->qiskit-terra==0.21.2->qiskit->topological_codes==0.0.1) (6.1.0)\n",
            "Requirement already satisfied: mpmath<1.4,>=1.1.0 in /usr/local/lib/python3.10/dist-packages (from sympy>=1.3->qiskit-terra==0.21.2->qiskit->topological_codes==0.0.1) (1.3.0)\n",
            "Requirement already satisfied: cffi>=1.12 in /usr/local/lib/python3.10/dist-packages (from cryptography>=1.3->requests-ntlm>=1.1.0->qiskit-ibmq-provider==0.19.2->qiskit->topological_codes==0.0.1) (1.17.1)\n",
            "Requirement already satisfied: pycparser in /usr/local/lib/python3.10/dist-packages (from cffi>=1.12->cryptography>=1.3->requests-ntlm>=1.1.0->qiskit-ibmq-provider==0.19.2->qiskit->topological_codes==0.0.1) (2.22)\n",
            "Logical 0: {'000 00': 1024}\n",
            "Logical 1: {'111 00': 1024}\n",
            "Logical 0: {'000 00 00 00 00': 1024}\n",
            "Logical 1: {'111 00 00 00 00': 1024}\n",
            "Logical 0: {'00000 0000 0000 0000 0000': 1024}\n",
            "Logical 1: {'11111 0000 0000 0000 0000': 1024}\n",
            "Logical 0: {'101 10': 1, '010 10': 6, '011 01': 1, '010 11': 2, '110 01': 1, '100 11': 3, '011 10': 4, '001 10': 6, '010 00': 43, '001 01': 8, '100 01': 7, '010 01': 18, '011 00': 4, '000 00': 659, '000 10': 60, '110 00': 5, '001 00': 51, '110 11': 1, '100 00': 50, '111 00': 1, '100 10': 8, '000 01': 74, '001 11': 1, '000 11': 7, '101 00': 3}\n",
            "\n",
            "Logical 1: {'010 10': 1, '001 10': 4, '010 00': 4, '011 11': 3, '001 00': 4, '011 01': 4, '110 01': 22, '001 11': 5, '111 01': 61, '101 00': 54, '111 10': 69, '101 10': 6, '011 00': 48, '001 01': 3, '100 01': 2, '110 10': 7, '010 01': 3, '110 00': 46, '111 11': 6, '110 11': 2, '100 00': 7, '011 10': 24, '101 01': 20, '111 00': 604, '101 11': 15}\n",
            "\n",
            "P = {'0': 0.0184, '1': 0.023}\n",
            "\n",
            "Logical 0:\n",
            "raw results        {'000 10 10': 50, '000 00 00': 461, '001 00 00': 53, '000 10 00': 56, '000 01 00': 61, '000 01 01': 55}\n",
            "processed results  {'0 0  10 10 00': 50, '0 0  00 00 00': 461, '0 1  00 00 01': 53, '0 0  00 10 10': 56, '0 0  00 01 01': 61, '0 0  01 01 00': 55}\n",
            "\n",
            "Logical 1:\n",
            "raw results        {'111 10 00': 54, '111 00 00': 459}\n",
            "processed results  {'1 1  00 10 10': 54, '1 1  00 00 00': 459}\n"
          ]
        },
        {
          "output_type": "display_data",
          "data": {
            "text/plain": [
              "<Figure size 640x480 with 1 Axes>"
            ],
            "image/png": "[encoded data removed]"
          },
          "metadata": {}
        },
        {
          "output_type": "execute_result",
          "data": {
            "text/plain": [
              "{'qiskit-terra': '0.21.2', 'qiskit-aer': '0.10.4', 'qiskit-ignis': None, 'qiskit-ibmq-provider': '0.19.2', 'qiskit': '0.37.2', 'qiskit-nature': None, 'qiskit-finance': None, 'qiskit-optimization': None, 'qiskit-machine-learning': None}"
            ]
          },
          "metadata": {},
          "execution_count": 77
        }
      ]
    },
    {
      "cell_type": "code",
      "source": [
        "import random\n",
        "\n",
        "# Custom encoding function using Repetition Code\n",
        "def encode_message(message, d):\n",
        "    \"\"\"\n",
        "    Encodes the message using a repetition code.\n",
        "\n",
        "    Args:\n",
        "        message (list): A list of logical bits (0 or 1).\n",
        "        d (int): The repetition factor (number of times each bit is repeated).\n",
        "\n",
        "    Returns:\n",
        "        list: A list of encoded messages where each bit is repeated d times.\n",
        "    \"\"\"\n",
        "    encoded_message = []\n",
        "    for bit in message:\n",
        "        encoded_bit = [bit] * d  # Repeat the bit d times\n",
        "        encoded_message.append(encoded_bit)\n",
        "    return encoded_message\n",
        "\n",
        "\n",
        "# Custom decoding function using Majority Voting\n",
        "def decode_message(encoded_message):\n",
        "    \"\"\"\n",
        "    Decodes the message using majority voting.\n",
        "\n",
        "    Args:\n",
        "        encoded_message (list): The encoded message with repeated bits.\n",
        "\n",
        "    Returns:\n",
        "        list: The decoded message as a list of logical bits (0 or 1).\n",
        "    \"\"\"\n",
        "    decoded_message = []\n",
        "    for encoded_bit in encoded_message:\n",
        "        majority_bit = max(set(encoded_bit), key=encoded_bit.count)  # Majority voting\n",
        "        decoded_message.append(majority_bit)\n",
        "    return decoded_message\n",
        "\n",
        "\n",
        "# Apply noise to the encoded message by flipping bits with some probability\n",
        "def apply_noise(encoded_message, p_noise):\n",
        "    \"\"\"\n",
        "    Simulates noise by flipping a random bit with probability p_noise.\n",
        "\n",
        "    Args:\n",
        "        encoded_message (list): The encoded message.\n",
        "        p_noise (float): The probability of flipping a bit.\n",
        "\n",
        "    Returns:\n",
        "        list: The noisy encoded message.\n",
        "    \"\"\"\n",
        "    noisy_message = encoded_message.copy()\n",
        "    for i in range(len(noisy_message)):\n",
        "        for j in range(len(noisy_message[i])):\n",
        "            if random.random() < p_noise:  # Flip the bit\n",
        "                noisy_message[i][j] = 1 - noisy_message[i][j]\n",
        "    return noisy_message\n",
        "\n",
        "\n",
        "# Implementing a simple lookup table decoding function (majority voting in this case)\n",
        "def lookuptable_decoding(training_results, real_results):\n",
        "    \"\"\"\n",
        "    Decodes the message using lookup table decoding based on the training results.\n",
        "\n",
        "    Args:\n",
        "        training_results (dict): A dictionary of training results with logical state as key.\n",
        "        real_results (dict): A dictionary of real noisy results with logical state as key.\n",
        "\n",
        "    Returns:\n",
        "        dict: The decoded logical state probabilities.\n",
        "    \"\"\"\n",
        "    logical_prob = {}\n",
        "\n",
        "    for log in real_results:\n",
        "        shots = 0\n",
        "        incorrect_shots = 0\n",
        "        for string in real_results[log]:\n",
        "            p = {\"0\": 0, \"1\": 0}\n",
        "\n",
        "            # Calculate the probability of this string being a logical '0' or '1'\n",
        "            for testlog in [\"0\", \"1\"]:\n",
        "                if string in training_results[testlog]:\n",
        "                    p[testlog] = training_results[testlog][string]\n",
        "\n",
        "            shots += real_results[log][string]\n",
        "            # If the incorrect logical state (e.g., '1' for logical '0') has a higher probability, it's an error\n",
        "            if p[\"1\" * (log == \"0\") + \"0\" * (log == \"1\")] > p[log]:\n",
        "                incorrect_shots += real_results[log][string]\n",
        "\n",
        "        logical_prob[log] = incorrect_shots / shots if shots > 0 else 0\n",
        "\n",
        "    return logical_prob\n",
        "\n",
        "\n",
        "# Custom function to compare the original key with the decoded key\n",
        "def compare_keys(original_key, decoded_key):\n",
        "    \"\"\"\n",
        "    Compares the original key with the decoded key and prints if the error correction was successful.\n",
        "\n",
        "    Args:\n",
        "        original_key (list): The original message.\n",
        "        decoded_key (list): The decoded message.\n",
        "    \"\"\"\n",
        "    if original_key == decoded_key:\n",
        "        print(\"Error correction successful!\")\n",
        "    else:\n",
        "        print(\"Error correction failed!\")\n",
        "    print(\"Original Key:\", original_key)\n",
        "    print(\"Decoded Key:\", decoded_key)\n",
        "\n",
        "\n",
        "# Main function to run the example\n",
        "def main():\n",
        "    # Define the original key (message)\n",
        "    original_key = [1, 0, 1, 1, 0]  # Example binary message\n",
        "\n",
        "    # Set the repetition factor (d)\n",
        "    d = 3  # Repetition factor\n",
        "\n",
        "    # Encode the message using repetition code\n",
        "    encoded_message = encode_message(original_key, d)\n",
        "    print(\"Encoded Message:\", encoded_message)\n",
        "\n",
        "    # Simulate noise on the encoded message (10% noise)\n",
        "    noisy_message = apply_noise(encoded_message, 0.1)\n",
        "    print(\"Noisy Encoded Message:\", noisy_message)\n",
        "\n",
        "    # Decode the noisy message using majority voting\n",
        "    decoded_message = decode_message(noisy_message)\n",
        "    print(\"Decoded Message:\", decoded_message)\n",
        "\n",
        "    # Compare the original and decoded keys\n",
        "    compare_keys(original_key, decoded_message)\n",
        "\n",
        "\n",
        "# Run the main function\n",
        "if __name__ == \"__main__\":\n",
        "    main()\n"
      ],
      "metadata": {
        "colab": {
          "base_uri": "https://localhost:8080/"
        },
        "id": "t1vYeEkizz_2",
        "outputId": "8ab5948c-496c-4435-8002-fa16b1c25280"
      },
      "execution_count": null,
      "outputs": [
        {
          "output_type": "stream",
          "name": "stdout",
          "text": [
            "Encoded Message: [[1, 1, 1], [0, 0, 0], [1, 1, 1], [1, 1, 1], [0, 0, 0]]\n",
            "Noisy Encoded Message: [[1, 1, 1], [0, 0, 0], [1, 0, 1], [0, 1, 1], [1, 0, 0]]\n",
            "Decoded Message: [1, 0, 1, 1, 0]\n",
            "Error correction successful!\n",
            "Original Key: [1, 0, 1, 1, 0]\n",
            "Decoded Key: [1, 0, 1, 1, 0]\n"
          ]
        }
      ]
    },
    {
      "cell_type": "code",
      "source": [
        "from qiskit import QuantumCircuit, Aer, execute\n",
        "from qiskit.providers.aer.noise import NoiseModel, ReadoutError\n",
        "\n",
        "def create_repetition_code(bit, repetitions=3):\n",
        "    \"\"\"Create a repetition code encoding circuit for a single bit.\"\"\"\n",
        "    circuit = QuantumCircuit(repetitions, repetitions)\n",
        "\n",
        "    # Initialize the first qubit to the bit value\n",
        "    if bit == 1:\n",
        "        circuit.x(0)\n",
        "\n",
        "    # Spread the bit across the other qubits using CNOTs\n",
        "    for i in range(1, repetitions):\n",
        "        circuit.cx(0, i)\n",
        "\n",
        "    # Measure all qubits\n",
        "    circuit.measure(range(repetitions), range(repetitions))\n",
        "    return circuit\n",
        "\n",
        "def main():\n",
        "    # Original key to encode\n",
        "    original_key = [0, 1, 0, 1, 1]\n",
        "\n",
        "    # Noise model for demonstration\n",
        "    noise_model = NoiseModel()\n",
        "    readout_error = ReadoutError([[0.9, 0.1], [0.1, 0.9]])  # Readout error probabilities\n",
        "    noise_model.add_all_qubit_readout_error(readout_error)\n",
        "\n",
        "    # Backend simulator\n",
        "    backend = Aer.get_backend('qasm_simulator')\n",
        "\n",
        "    # Encode and simulate each bit\n",
        "    for bit in original_key:\n",
        "        circuit = create_repetition_code(bit)\n",
        "        print(f\"Encoded bit {bit} circuit:\")\n",
        "        print(circuit)\n",
        "\n",
        "        # Execute the circuit\n",
        "        job = execute(circuit, backend, noise_model=noise_model, shots=1024)\n",
        "        result = job.result()\n",
        "\n",
        "        # Analyze results\n",
        "        counts = result.get_counts()\n",
        "        print(f\"Measurement counts for bit {bit}: {counts}\")\n",
        "\n",
        "if __name__ == \"__main__\":\n",
        "    main()\n"
      ],
      "metadata": {
        "colab": {
          "base_uri": "https://localhost:8080/"
        },
        "id": "J5aw2eQm0o0v",
        "outputId": "7334ea77-97ce-4f12-d2ce-c420b331c44c"
      },
      "execution_count": null,
      "outputs": [
        {
          "output_type": "stream",
          "name": "stdout",
          "text": [
            "Encoded bit 0 circuit:\n",
            "                  ┌─┐   \n",
            "q_0: ──■────■─────┤M├───\n",
            "     ┌─┴─┐  │  ┌─┐└╥┘   \n",
            "q_1: ┤ X ├──┼──┤M├─╫────\n",
            "     └───┘┌─┴─┐└╥┘ ║ ┌─┐\n",
            "q_2: ─────┤ X ├─╫──╫─┤M├\n",
            "          └───┘ ║  ║ └╥┘\n",
            "c: 3/═══════════╩══╩══╩═\n",
            "                1  0  2 \n",
            "Measurement counts for bit 0: {'110': 10, '101': 11, '111': 1, '011': 15, '100': 95, '001': 73, '010': 80, '000': 739}\n",
            "Encoded bit 1 circuit:\n",
            "     ┌───┐             ┌─┐   \n",
            "q_0: ┤ X ├──■────■─────┤M├───\n",
            "     └───┘┌─┴─┐  │  ┌─┐└╥┘   \n",
            "q_1: ─────┤ X ├──┼──┤M├─╫────\n",
            "          └───┘┌─┴─┐└╥┘ ║ ┌─┐\n",
            "q_2: ──────────┤ X ├─╫──╫─┤M├\n",
            "               └───┘ ║  ║ └╥┘\n",
            "c: 3/════════════════╩══╩══╩═\n",
            "                     1  0  2 \n",
            "Measurement counts for bit 1: {'100': 6, '010': 10, '000': 3, '110': 84, '001': 11, '101': 87, '011': 77, '111': 746}\n",
            "Encoded bit 0 circuit:\n",
            "                  ┌─┐   \n",
            "q_0: ──■────■─────┤M├───\n",
            "     ┌─┴─┐  │  ┌─┐└╥┘   \n",
            "q_1: ┤ X ├──┼──┤M├─╫────\n",
            "     └───┘┌─┴─┐└╥┘ ║ ┌─┐\n",
            "q_2: ─────┤ X ├─╫──╫─┤M├\n",
            "          └───┘ ║  ║ └╥┘\n",
            "c: 3/═══════════╩══╩══╩═\n",
            "                1  0  2 \n",
            "Measurement counts for bit 0: {'011': 8, '101': 9, '110': 8, '001': 83, '100': 72, '010': 81, '000': 763}\n",
            "Encoded bit 1 circuit:\n",
            "     ┌───┐             ┌─┐   \n",
            "q_0: ┤ X ├──■────■─────┤M├───\n",
            "     └───┘┌─┴─┐  │  ┌─┐└╥┘   \n",
            "q_1: ─────┤ X ├──┼──┤M├─╫────\n",
            "          └───┘┌─┴─┐└╥┘ ║ ┌─┐\n",
            "q_2: ──────────┤ X ├─╫──╫─┤M├\n",
            "               └───┘ ║  ║ └╥┘\n",
            "c: 3/════════════════╩══╩══╩═\n",
            "                     1  0  2 \n",
            "Measurement counts for bit 1: {'001': 7, '000': 1, '010': 12, '100': 18, '110': 79, '101': 98, '011': 73, '111': 736}\n",
            "Encoded bit 1 circuit:\n",
            "     ┌───┐             ┌─┐   \n",
            "q_0: ┤ X ├──■────■─────┤M├───\n",
            "     └───┘┌─┴─┐  │  ┌─┐└╥┘   \n",
            "q_1: ─────┤ X ├──┼──┤M├─╫────\n",
            "          └───┘┌─┴─┐└╥┘ ║ ┌─┐\n",
            "q_2: ──────────┤ X ├─╫──╫─┤M├\n",
            "               └───┘ ║  ║ └╥┘\n",
            "c: 3/════════════════╩══╩══╩═\n",
            "                     1  0  2 \n",
            "Measurement counts for bit 1: {'100': 7, '000': 1, '010': 13, '001': 7, '101': 98, '110': 88, '011': 79, '111': 731}\n"
          ]
        }
      ]
    }
  ],
  "metadata": {
    "kernelspec": {
      "display_name": "Python 3",
      "language": "python",
      "name": "python3"
    },
    "language_info": {
      "codemirror_mode": {
        "name": "ipython",
        "version": 3
      },
      "file_extension": ".py",
      "mimetype": "text/x-python",
      "name": "python",
      "nbconvert_exporter": "python",
      "pygments_lexer": "ipython3",
      "version": "3.9"
    },
    "colab": {
      "provenance": []
    }
  },
  "nbformat": 4,
  "nbformat_minor": 0
}